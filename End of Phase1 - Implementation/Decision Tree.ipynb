{
 "cells": [
  {
   "cell_type": "markdown",
   "id": "82oQBvRLayMK",
   "metadata": {
    "id": "82oQBvRLayMK"
   },
   "source": [
    "**<h1><center>Forest Fire Prediction</center></h1>**\n",
    "<center>Akshaya Mahesh, \n",
    "Sakthi Kripa Selvam, \n",
    "Manasa Krishnan</center> \n",
    "\n"
   ]
  },
  {
   "cell_type": "markdown",
   "id": "KnjoLyo6b2Jp",
   "metadata": {
    "id": "KnjoLyo6b2Jp"
   },
   "source": [
    "## 1. Dataset Loading\n",
    "## 2. EDA\n",
    "## 3. Dataset Preprocessing\n",
    "## 4. Baseline model"
   ]
  },
  {
   "cell_type": "markdown",
   "id": "CyqWV6JvcDKc",
   "metadata": {
    "id": "CyqWV6JvcDKc"
   },
   "source": [
    "### Importing required Libraries"
   ]
  },
  {
   "cell_type": "code",
   "execution_count": 47,
   "id": "17038c11",
   "metadata": {
    "id": "17038c11"
   },
   "outputs": [],
   "source": [
    "import numpy as np\n",
    "import pandas as pd\n",
    "import matplotlib.pyplot as plt \n",
    "import seaborn as sns\n",
    "import math\n",
    "from sklearn.preprocessing import MinMaxScaler\n",
    "from sklearn.linear_model import LinearRegression, Ridge\n",
    "from sklearn.model_selection import train_test_split\n",
    "from sklearn.metrics import mean_squared_error, r2_score\n"
   ]
  },
  {
   "cell_type": "markdown",
   "id": "GxDCQ3p9cOCR",
   "metadata": {
    "id": "GxDCQ3p9cOCR"
   },
   "source": [
    "## 1. Dataset Loading"
   ]
  },
  {
   "cell_type": "code",
   "execution_count": 48,
   "id": "3101b4a0",
   "metadata": {
    "colab": {
     "base_uri": "https://localhost:8080/",
     "height": 204
    },
    "id": "3101b4a0",
    "outputId": "31067dd0-563a-44f7-cebe-b4bdb2c95a27"
   },
   "outputs": [
    {
     "data": {
      "text/html": [
       "<div>\n",
       "<style scoped>\n",
       "    .dataframe tbody tr th:only-of-type {\n",
       "        vertical-align: middle;\n",
       "    }\n",
       "\n",
       "    .dataframe tbody tr th {\n",
       "        vertical-align: top;\n",
       "    }\n",
       "\n",
       "    .dataframe thead th {\n",
       "        text-align: right;\n",
       "    }\n",
       "</style>\n",
       "<table border=\"1\" class=\"dataframe\">\n",
       "  <thead>\n",
       "    <tr style=\"text-align: right;\">\n",
       "      <th></th>\n",
       "      <th>X</th>\n",
       "      <th>Y</th>\n",
       "      <th>month</th>\n",
       "      <th>day</th>\n",
       "      <th>FFMC</th>\n",
       "      <th>DMC</th>\n",
       "      <th>DC</th>\n",
       "      <th>ISI</th>\n",
       "      <th>temp</th>\n",
       "      <th>RH</th>\n",
       "      <th>wind</th>\n",
       "      <th>rain</th>\n",
       "      <th>area</th>\n",
       "    </tr>\n",
       "  </thead>\n",
       "  <tbody>\n",
       "    <tr>\n",
       "      <th>0</th>\n",
       "      <td>7</td>\n",
       "      <td>5</td>\n",
       "      <td>mar</td>\n",
       "      <td>fri</td>\n",
       "      <td>86.2</td>\n",
       "      <td>26.2</td>\n",
       "      <td>94.3</td>\n",
       "      <td>5.1</td>\n",
       "      <td>8.2</td>\n",
       "      <td>51</td>\n",
       "      <td>6.7</td>\n",
       "      <td>0.0</td>\n",
       "      <td>0.0</td>\n",
       "    </tr>\n",
       "    <tr>\n",
       "      <th>1</th>\n",
       "      <td>7</td>\n",
       "      <td>4</td>\n",
       "      <td>oct</td>\n",
       "      <td>tue</td>\n",
       "      <td>90.6</td>\n",
       "      <td>35.4</td>\n",
       "      <td>669.1</td>\n",
       "      <td>6.7</td>\n",
       "      <td>18.0</td>\n",
       "      <td>33</td>\n",
       "      <td>0.9</td>\n",
       "      <td>0.0</td>\n",
       "      <td>0.0</td>\n",
       "    </tr>\n",
       "    <tr>\n",
       "      <th>2</th>\n",
       "      <td>7</td>\n",
       "      <td>4</td>\n",
       "      <td>oct</td>\n",
       "      <td>sat</td>\n",
       "      <td>90.6</td>\n",
       "      <td>43.7</td>\n",
       "      <td>686.9</td>\n",
       "      <td>6.7</td>\n",
       "      <td>14.6</td>\n",
       "      <td>33</td>\n",
       "      <td>1.3</td>\n",
       "      <td>0.0</td>\n",
       "      <td>0.0</td>\n",
       "    </tr>\n",
       "    <tr>\n",
       "      <th>3</th>\n",
       "      <td>8</td>\n",
       "      <td>6</td>\n",
       "      <td>mar</td>\n",
       "      <td>fri</td>\n",
       "      <td>91.7</td>\n",
       "      <td>33.3</td>\n",
       "      <td>77.5</td>\n",
       "      <td>9.0</td>\n",
       "      <td>8.3</td>\n",
       "      <td>97</td>\n",
       "      <td>4.0</td>\n",
       "      <td>0.2</td>\n",
       "      <td>0.0</td>\n",
       "    </tr>\n",
       "    <tr>\n",
       "      <th>4</th>\n",
       "      <td>8</td>\n",
       "      <td>6</td>\n",
       "      <td>mar</td>\n",
       "      <td>sun</td>\n",
       "      <td>89.3</td>\n",
       "      <td>51.3</td>\n",
       "      <td>102.2</td>\n",
       "      <td>9.6</td>\n",
       "      <td>11.4</td>\n",
       "      <td>99</td>\n",
       "      <td>1.8</td>\n",
       "      <td>0.0</td>\n",
       "      <td>0.0</td>\n",
       "    </tr>\n",
       "  </tbody>\n",
       "</table>\n",
       "</div>"
      ],
      "text/plain": [
       "   X  Y month  day  FFMC   DMC     DC  ISI  temp  RH  wind  rain  area\n",
       "0  7  5   mar  fri  86.2  26.2   94.3  5.1   8.2  51   6.7   0.0   0.0\n",
       "1  7  4   oct  tue  90.6  35.4  669.1  6.7  18.0  33   0.9   0.0   0.0\n",
       "2  7  4   oct  sat  90.6  43.7  686.9  6.7  14.6  33   1.3   0.0   0.0\n",
       "3  8  6   mar  fri  91.7  33.3   77.5  9.0   8.3  97   4.0   0.2   0.0\n",
       "4  8  6   mar  sun  89.3  51.3  102.2  9.6  11.4  99   1.8   0.0   0.0"
      ]
     },
     "execution_count": 48,
     "metadata": {},
     "output_type": "execute_result"
    }
   ],
   "source": [
    "df=pd.read_csv(\"forestfires.csv\")\n",
    "df.head()"
   ]
  },
  {
   "cell_type": "code",
   "execution_count": 49,
   "id": "3df5f69c",
   "metadata": {
    "colab": {
     "base_uri": "https://localhost:8080/"
    },
    "id": "3df5f69c",
    "outputId": "f709a150-70aa-47fa-a829-a590db49aa17"
   },
   "outputs": [
    {
     "data": {
      "text/plain": [
       "(517, 13)"
      ]
     },
     "execution_count": 49,
     "metadata": {},
     "output_type": "execute_result"
    }
   ],
   "source": [
    "# Shape of the dataset - Dataset has 517 records and 13 columns\n",
    "df.shape "
   ]
  },
  {
   "cell_type": "code",
   "execution_count": 50,
   "id": "60661a7f",
   "metadata": {
    "id": "60661a7f",
    "outputId": "21ff28d2-ee11-4292-91b6-43b5ee970df6",
    "scrolled": true
   },
   "outputs": [
    {
     "name": "stdout",
     "output_type": "stream",
     "text": [
      "<class 'pandas.core.frame.DataFrame'>\n",
      "RangeIndex: 517 entries, 0 to 516\n",
      "Data columns (total 13 columns):\n",
      " #   Column  Non-Null Count  Dtype  \n",
      "---  ------  --------------  -----  \n",
      " 0   X       517 non-null    int64  \n",
      " 1   Y       517 non-null    int64  \n",
      " 2   month   517 non-null    object \n",
      " 3   day     517 non-null    object \n",
      " 4   FFMC    517 non-null    float64\n",
      " 5   DMC     517 non-null    float64\n",
      " 6   DC      517 non-null    float64\n",
      " 7   ISI     517 non-null    float64\n",
      " 8   temp    517 non-null    float64\n",
      " 9   RH      517 non-null    int64  \n",
      " 10  wind    517 non-null    float64\n",
      " 11  rain    517 non-null    float64\n",
      " 12  area    517 non-null    float64\n",
      "dtypes: float64(8), int64(3), object(2)\n",
      "memory usage: 52.6+ KB\n"
     ]
    }
   ],
   "source": [
    "# Looking at the column types and detecting nulls if any\n",
    "df.info()"
   ]
  },
  {
   "cell_type": "markdown",
   "id": "2gCq2rSZcwC3",
   "metadata": {
    "id": "2gCq2rSZcwC3"
   },
   "source": [
    "There do not seem to be any nulls. We hae float and integer type columns"
   ]
  },
  {
   "cell_type": "code",
   "execution_count": 51,
   "id": "c6ffc214",
   "metadata": {
    "id": "c6ffc214",
    "outputId": "fcb87a53-e7c5-4450-d32a-8350538a9f80"
   },
   "outputs": [
    {
     "data": {
      "text/html": [
       "<div>\n",
       "<style scoped>\n",
       "    .dataframe tbody tr th:only-of-type {\n",
       "        vertical-align: middle;\n",
       "    }\n",
       "\n",
       "    .dataframe tbody tr th {\n",
       "        vertical-align: top;\n",
       "    }\n",
       "\n",
       "    .dataframe thead th {\n",
       "        text-align: right;\n",
       "    }\n",
       "</style>\n",
       "<table border=\"1\" class=\"dataframe\">\n",
       "  <thead>\n",
       "    <tr style=\"text-align: right;\">\n",
       "      <th></th>\n",
       "      <th>X</th>\n",
       "      <th>Y</th>\n",
       "      <th>FFMC</th>\n",
       "      <th>DMC</th>\n",
       "      <th>DC</th>\n",
       "      <th>ISI</th>\n",
       "      <th>temp</th>\n",
       "      <th>RH</th>\n",
       "      <th>wind</th>\n",
       "      <th>rain</th>\n",
       "      <th>area</th>\n",
       "    </tr>\n",
       "  </thead>\n",
       "  <tbody>\n",
       "    <tr>\n",
       "      <th>count</th>\n",
       "      <td>517.000000</td>\n",
       "      <td>517.000000</td>\n",
       "      <td>517.000000</td>\n",
       "      <td>517.000000</td>\n",
       "      <td>517.000000</td>\n",
       "      <td>517.000000</td>\n",
       "      <td>517.000000</td>\n",
       "      <td>517.000000</td>\n",
       "      <td>517.000000</td>\n",
       "      <td>517.000000</td>\n",
       "      <td>517.000000</td>\n",
       "    </tr>\n",
       "    <tr>\n",
       "      <th>mean</th>\n",
       "      <td>4.669246</td>\n",
       "      <td>4.299807</td>\n",
       "      <td>90.644681</td>\n",
       "      <td>110.872340</td>\n",
       "      <td>547.940039</td>\n",
       "      <td>9.021663</td>\n",
       "      <td>18.889168</td>\n",
       "      <td>44.288201</td>\n",
       "      <td>4.017602</td>\n",
       "      <td>0.021663</td>\n",
       "      <td>12.847292</td>\n",
       "    </tr>\n",
       "    <tr>\n",
       "      <th>std</th>\n",
       "      <td>2.313778</td>\n",
       "      <td>1.229900</td>\n",
       "      <td>5.520111</td>\n",
       "      <td>64.046482</td>\n",
       "      <td>248.066192</td>\n",
       "      <td>4.559477</td>\n",
       "      <td>5.806625</td>\n",
       "      <td>16.317469</td>\n",
       "      <td>1.791653</td>\n",
       "      <td>0.295959</td>\n",
       "      <td>63.655818</td>\n",
       "    </tr>\n",
       "    <tr>\n",
       "      <th>min</th>\n",
       "      <td>1.000000</td>\n",
       "      <td>2.000000</td>\n",
       "      <td>18.700000</td>\n",
       "      <td>1.100000</td>\n",
       "      <td>7.900000</td>\n",
       "      <td>0.000000</td>\n",
       "      <td>2.200000</td>\n",
       "      <td>15.000000</td>\n",
       "      <td>0.400000</td>\n",
       "      <td>0.000000</td>\n",
       "      <td>0.000000</td>\n",
       "    </tr>\n",
       "    <tr>\n",
       "      <th>25%</th>\n",
       "      <td>3.000000</td>\n",
       "      <td>4.000000</td>\n",
       "      <td>90.200000</td>\n",
       "      <td>68.600000</td>\n",
       "      <td>437.700000</td>\n",
       "      <td>6.500000</td>\n",
       "      <td>15.500000</td>\n",
       "      <td>33.000000</td>\n",
       "      <td>2.700000</td>\n",
       "      <td>0.000000</td>\n",
       "      <td>0.000000</td>\n",
       "    </tr>\n",
       "    <tr>\n",
       "      <th>50%</th>\n",
       "      <td>4.000000</td>\n",
       "      <td>4.000000</td>\n",
       "      <td>91.600000</td>\n",
       "      <td>108.300000</td>\n",
       "      <td>664.200000</td>\n",
       "      <td>8.400000</td>\n",
       "      <td>19.300000</td>\n",
       "      <td>42.000000</td>\n",
       "      <td>4.000000</td>\n",
       "      <td>0.000000</td>\n",
       "      <td>0.520000</td>\n",
       "    </tr>\n",
       "    <tr>\n",
       "      <th>75%</th>\n",
       "      <td>7.000000</td>\n",
       "      <td>5.000000</td>\n",
       "      <td>92.900000</td>\n",
       "      <td>142.400000</td>\n",
       "      <td>713.900000</td>\n",
       "      <td>10.800000</td>\n",
       "      <td>22.800000</td>\n",
       "      <td>53.000000</td>\n",
       "      <td>4.900000</td>\n",
       "      <td>0.000000</td>\n",
       "      <td>6.570000</td>\n",
       "    </tr>\n",
       "    <tr>\n",
       "      <th>max</th>\n",
       "      <td>9.000000</td>\n",
       "      <td>9.000000</td>\n",
       "      <td>96.200000</td>\n",
       "      <td>291.300000</td>\n",
       "      <td>860.600000</td>\n",
       "      <td>56.100000</td>\n",
       "      <td>33.300000</td>\n",
       "      <td>100.000000</td>\n",
       "      <td>9.400000</td>\n",
       "      <td>6.400000</td>\n",
       "      <td>1090.840000</td>\n",
       "    </tr>\n",
       "  </tbody>\n",
       "</table>\n",
       "</div>"
      ],
      "text/plain": [
       "                X           Y        FFMC         DMC          DC         ISI  \\\n",
       "count  517.000000  517.000000  517.000000  517.000000  517.000000  517.000000   \n",
       "mean     4.669246    4.299807   90.644681  110.872340  547.940039    9.021663   \n",
       "std      2.313778    1.229900    5.520111   64.046482  248.066192    4.559477   \n",
       "min      1.000000    2.000000   18.700000    1.100000    7.900000    0.000000   \n",
       "25%      3.000000    4.000000   90.200000   68.600000  437.700000    6.500000   \n",
       "50%      4.000000    4.000000   91.600000  108.300000  664.200000    8.400000   \n",
       "75%      7.000000    5.000000   92.900000  142.400000  713.900000   10.800000   \n",
       "max      9.000000    9.000000   96.200000  291.300000  860.600000   56.100000   \n",
       "\n",
       "             temp          RH        wind        rain         area  \n",
       "count  517.000000  517.000000  517.000000  517.000000   517.000000  \n",
       "mean    18.889168   44.288201    4.017602    0.021663    12.847292  \n",
       "std      5.806625   16.317469    1.791653    0.295959    63.655818  \n",
       "min      2.200000   15.000000    0.400000    0.000000     0.000000  \n",
       "25%     15.500000   33.000000    2.700000    0.000000     0.000000  \n",
       "50%     19.300000   42.000000    4.000000    0.000000     0.520000  \n",
       "75%     22.800000   53.000000    4.900000    0.000000     6.570000  \n",
       "max     33.300000  100.000000    9.400000    6.400000  1090.840000  "
      ]
     },
     "execution_count": 51,
     "metadata": {},
     "output_type": "execute_result"
    }
   ],
   "source": [
    "# Descriptive statistics of the dataset\n",
    "df.describe()"
   ]
  },
  {
   "cell_type": "code",
   "execution_count": 52,
   "id": "o6IQT6yndniR",
   "metadata": {
    "colab": {
     "base_uri": "https://localhost:8080/",
     "height": 595
    },
    "id": "o6IQT6yndniR",
    "outputId": "553ad157-df0a-4b6e-aa03-06853083665e"
   },
   "outputs": [
    {
     "data": {
      "image/png": "[encoded data removed]",
      "text/plain": [
       "<Figure size 720x720 with 9 Axes>"
      ]
     },
     "metadata": {},
     "output_type": "display_data"
    }
   ],
   "source": [
    "plt.figure(figsize=(10,10))\n",
    "\n",
    "plt.subplot(3, 3, 1)\n",
    "df['FFMC'].plot(kind='box')\n",
    "\n",
    "plt.subplot(3, 3, 2)\n",
    "df['DMC'].plot(kind='box')\n",
    "\n",
    "plt.subplot(3, 3, 3)\n",
    "df['DC'].plot(kind='box')\n",
    "\n",
    "plt.subplot(3, 3, 4)\n",
    "df['ISI'].plot(kind='box')\n",
    "\n",
    "plt.subplot(3, 3, 5)\n",
    "df['temp'].plot(kind='box')\n",
    "\n",
    "plt.subplot(3, 3, 6)\n",
    "df['RH'].plot(kind='box')\n",
    "\n",
    "plt.subplot(3, 3, 7)\n",
    "df['wind'].plot(kind='box')\n",
    "\n",
    "plt.subplot(3, 3, 8)\n",
    "df['rain'].plot(kind='box')\n",
    "\n",
    "plt.subplot(3, 3, 9)\n",
    "df['area'].plot(kind='box')\n",
    "\n",
    "plt.show()"
   ]
  },
  {
   "cell_type": "markdown",
   "id": "5UajKT-Jc_wQ",
   "metadata": {
    "id": "5UajKT-Jc_wQ"
   },
   "source": [
    "We looked at the mean, std, minimum, maximum and quartile information of all the features. Rain and Area seemed to have majority of the data centered around 0. Some columns like FFMC and ISI seem to show skewness. "
   ]
  },
  {
   "cell_type": "code",
   "execution_count": 53,
   "id": "3cfebdde",
   "metadata": {
    "colab": {
     "base_uri": "https://localhost:8080/"
    },
    "id": "3cfebdde",
    "outputId": "387f9c0f-6a4a-47c9-cf7d-1967f1e48963",
    "scrolled": false
   },
   "outputs": [
    {
     "data": {
      "text/plain": [
       "array(['mar', 'oct', 'aug', 'sep', 'apr', 'jun', 'jul', 'feb', 'jan',\n",
       "       'dec', 'may', 'nov'], dtype=object)"
      ]
     },
     "execution_count": 53,
     "metadata": {},
     "output_type": "execute_result"
    }
   ],
   "source": [
    "# Unique months \n",
    "df['month'].unique()"
   ]
  },
  {
   "cell_type": "code",
   "execution_count": 54,
   "id": "acc80973",
   "metadata": {
    "colab": {
     "base_uri": "https://localhost:8080/"
    },
    "id": "acc80973",
    "outputId": "ead30d59-f53e-43bb-c203-d8efb79f16ac"
   },
   "outputs": [
    {
     "data": {
      "text/plain": [
       "array(['fri', 'tue', 'sat', 'sun', 'mon', 'wed', 'thu'], dtype=object)"
      ]
     },
     "execution_count": 54,
     "metadata": {},
     "output_type": "execute_result"
    }
   ],
   "source": [
    "# Unique days\n",
    "df['day'].unique()"
   ]
  },
  {
   "cell_type": "markdown",
   "id": "WmKPjj6UePNA",
   "metadata": {
    "id": "WmKPjj6UePNA"
   },
   "source": [
    "## 2. EDA"
   ]
  },
  {
   "cell_type": "markdown",
   "id": "e755a598",
   "metadata": {
    "id": "e755a598"
   },
   "source": [
    "The main goal of our project is to predict the area of forest that could be affected based on some conditions. Therefore, let us visualize the `area` variable."
   ]
  },
  {
   "cell_type": "code",
   "execution_count": 55,
   "id": "236abae0",
   "metadata": {
    "id": "236abae0",
    "outputId": "e6accc7e-facf-417b-ab41-ff81d74c42ae"
   },
   "outputs": [
    {
     "name": "stderr",
     "output_type": "stream",
     "text": [
      "/Users/akshayamahesh/opt/anaconda3/lib/python3.9/site-packages/seaborn/distributions.py:2619: FutureWarning: `distplot` is a deprecated function and will be removed in a future version. Please adapt your code to use either `displot` (a figure-level function with similar flexibility) or `histplot` (an axes-level function for histograms).\n",
      "  warnings.warn(msg, FutureWarning)\n"
     ]
    },
    {
     "data": {
      "image/png": "[encoded data removed]",
      "text/plain": [
       "<Figure size 504x360 with 1 Axes>"
      ]
     },
     "metadata": {},
     "output_type": "display_data"
    }
   ],
   "source": [
    "# Skewness of the Area in the dataset\n",
    "plt.rcParams['figure.figsize'] = [7, 5]\n",
    "sns.distplot(df['area']);"
   ]
  },
  {
   "cell_type": "markdown",
   "id": "6b261b52",
   "metadata": {
    "id": "6b261b52"
   },
   "source": [
    "Let us vizualize few more features to understand the dataset better."
   ]
  },
  {
   "cell_type": "code",
   "execution_count": 56,
   "id": "90424664",
   "metadata": {
    "colab": {
     "base_uri": "https://localhost:8080/",
     "height": 551
    },
    "id": "90424664",
    "outputId": "42d4fc1c-f540-41ae-89f7-c204f5e2f785"
   },
   "outputs": [
    {
     "data": {
      "image/png": "[encoded data removed]",
      "text/plain": [
       "<Figure size 1440x720 with 1 Axes>"
      ]
     },
     "metadata": {},
     "output_type": "display_data"
    }
   ],
   "source": [
    "# Month vs Temp\n",
    "plt.rcParams['figure.figsize'] = [20, 10]\n",
    "sns.set(style = \"whitegrid\", font_scale = 1.3)\n",
    "month_temp = sns.barplot(x = 'month', y = 'temp', data = df,\n",
    "                         order = ['jan', 'feb', 'mar', 'apr', 'may', 'jun', \n",
    "                                  'jul', 'aug', 'sep', 'oct', 'nov', 'dec'],\n",
    "                         palette = 'flare');\n",
    "month_temp.set(title = \"Month Vs Temp Barplot\", xlabel = \"Months\", \n",
    "               ylabel = \"Temperature\");"
   ]
  },
  {
   "cell_type": "markdown",
   "id": "3c5e4a3a",
   "metadata": {
    "id": "3c5e4a3a"
   },
   "source": [
    "The given forest has higher temperatures during summer as expected."
   ]
  },
  {
   "cell_type": "code",
   "execution_count": 57,
   "id": "e86ab97a",
   "metadata": {
    "colab": {
     "base_uri": "https://localhost:8080/",
     "height": 547
    },
    "id": "e86ab97a",
    "outputId": "0939d4aa-8aea-493b-a1e4-ed08ac199b0c",
    "scrolled": true
   },
   "outputs": [
    {
     "data": {
      "image/png": "[encoded data removed]",
      "text/plain": [
       "<Figure size 1440x720 with 1 Axes>"
      ]
     },
     "metadata": {},
     "output_type": "display_data"
    }
   ],
   "source": [
    "# Month vs Area\n",
    "plt.rcParams['figure.figsize'] = [20, 10]\n",
    "sns.set(style = \"whitegrid\", font_scale = 1.0)\n",
    "month_vs_area = sns.barplot(x = 'month', y = 'area', data = df,\n",
    "                         order = ['jan', 'feb', 'mar', 'apr', 'may', 'jun', \n",
    "                                  'jul', 'aug', 'sep', 'oct', 'nov', 'dec'], \n",
    "                            palette = 'summer');\n",
    "month_vs_area.set(title = \"Month Vs Area plot\", xlabel = \"Months\", \n",
    "                  ylabel = \"Area\");"
   ]
  },
  {
   "cell_type": "markdown",
   "id": "830982ed",
   "metadata": {
    "id": "830982ed"
   },
   "source": [
    "From the above Month Vs Area graph we can see that lot of forest area gets affected during Summer when compared to other seasons. This might be due to high temperatures and dry conditions.</br>\n",
    "December month also shows significance loss in forest cover area and is something that we need to look into."
   ]
  },
  {
   "cell_type": "markdown",
   "id": "0b367720",
   "metadata": {
    "id": "0b367720"
   },
   "source": [
    "Few of the factors that influences occurence of forest fires are Wind and Rainfall. Let us visualize `rain` vs `month` followed by `wind` vs `month`"
   ]
  },
  {
   "cell_type": "code",
   "execution_count": 58,
   "id": "9d13dbf7",
   "metadata": {
    "id": "9d13dbf7",
    "outputId": "ff31e8da-0e22-4d9c-9d60-ee4636432d5a",
    "scrolled": true
   },
   "outputs": [
    {
     "data": {
      "image/png": "[encoded data removed]",
      "text/plain": [
       "<Figure size 1440x720 with 1 Axes>"
      ]
     },
     "metadata": {},
     "output_type": "display_data"
    }
   ],
   "source": [
    "# Month vs Rainfall\n",
    "plt.rcParams['figure.figsize'] = [20, 10]\n",
    "sns.set(style = \"whitegrid\", font_scale = 1.0)\n",
    "month_vs_rain = sns.barplot(x = 'month', y = 'rain', data = df,\n",
    "                         order = ['jan', 'feb', 'mar', 'apr', 'may', 'jun', \n",
    "                                  'jul', 'aug', 'sep', 'oct', 'nov', 'dec'], \n",
    "                            palette = 'winter');\n",
    "month_vs_rain.set(title = \"Month Vs Rainfall plot\", xlabel = \"Months\", \n",
    "                  ylabel = \"Rainfall in mm\");"
   ]
  },
  {
   "cell_type": "markdown",
   "id": "aee320ec",
   "metadata": {
    "id": "aee320ec"
   },
   "source": [
    "From the above plot we can see that most of the months do not have rainfall. Though August has the most rainfall, it is worth noting that the forest gets significantly affected during this month from the above month vs area plot."
   ]
  },
  {
   "cell_type": "code",
   "execution_count": 59,
   "id": "13db2673",
   "metadata": {
    "colab": {
     "base_uri": "https://localhost:8080/",
     "height": 550
    },
    "id": "13db2673",
    "outputId": "90f728bc-4749-4d62-935d-ca94a082cc9d"
   },
   "outputs": [
    {
     "data": {
      "image/png": "[encoded data removed]",
      "text/plain": [
       "<Figure size 1440x720 with 1 Axes>"
      ]
     },
     "metadata": {},
     "output_type": "display_data"
    }
   ],
   "source": [
    "# Month vs Wind\n",
    "plt.rcParams['figure.figsize'] = [20, 10]\n",
    "sns.set(style = \"whitegrid\", font_scale = 1.0)\n",
    "month_vs_wind = sns.barplot(x = 'month', y = 'wind', data = df,\n",
    "                         order = ['jan', 'feb', 'mar', 'apr', 'may', 'jun', \n",
    "                                  'jul', 'aug', 'sep', 'oct', 'nov', 'dec'], \n",
    "                            palette = 'husl');\n",
    "month_vs_wind.set(title = \"Month Vs Wind plot\", xlabel = \"Months\", \n",
    "                  ylabel = \"wind in km/hr\");"
   ]
  },
  {
   "cell_type": "markdown",
   "id": "e441db2e",
   "metadata": {
    "id": "e441db2e"
   },
   "source": [
    "From the above plot we can see that the forest experiences winds between 3-5 km/hr for most of the months. Though the months May and Nov have approximately same wind speeds, the forest loses a signinficant amount of its area during May compared to Nov. This tells us that there are other factors that greatly influence Forest fires.</br>\n",
    "The Forest seems to experience higher winds in December and area affected by forest fire is also significant."
   ]
  },
  {
   "cell_type": "code",
   "execution_count": 60,
   "id": "KtXNPTMfg1eW",
   "metadata": {
    "colab": {
     "base_uri": "https://localhost:8080/",
     "height": 920
    },
    "id": "KtXNPTMfg1eW",
    "outputId": "a06e3c7d-6af5-4c0f-bb62-dc9392a50024"
   },
   "outputs": [
    {
     "data": {
      "text/plain": [
       "Text(0, 0.5, 'Area in Hectare')"
      ]
     },
     "execution_count": 60,
     "metadata": {},
     "output_type": "execute_result"
    },
    {
     "data": {
      "image/png": "[encoded data removed]",
      "text/plain": [
       "<Figure size 1440x1080 with 8 Axes>"
      ]
     },
     "metadata": {},
     "output_type": "display_data"
    }
   ],
   "source": [
    "# Scatter Plots\n",
    "plt.figure(figsize=(20,15))\n",
    "\n",
    "plt.subplot(3,3,1)\n",
    "plt.scatter(x=df[\"temp\"],y=df[\"area\"])\n",
    "plt.xlabel(\" temp in celcius  \")\n",
    "plt.ylabel(\"Area in Hectare\")\n",
    "\n",
    "plt.subplot(3,3,2)\n",
    "plt.scatter(x=df[\"wind\"],y=df[\"area\"])\n",
    "plt.xlabel(\" wind speed  \")\n",
    "plt.ylabel(\"Area in Hectare\")\n",
    "\n",
    "plt.subplot(3,3,3)\n",
    "plt.scatter(x=df[\"RH\"],y=df[\"area\"])\n",
    "plt.xlabel(\" Relative humidity  \")\n",
    "plt.ylabel(\"Area in Hectare\")\n",
    "\n",
    "plt.subplot(3,3,4)\n",
    "plt.scatter(x=df[\"rain\"],y=df[\"area\"])\n",
    "plt.xlabel(\" rain  value in mm  \")\n",
    "plt.ylabel(\"Area in Hectare\")\n",
    "\n",
    "plt.subplot(3,3,5)\n",
    "plt.scatter(x=df[\"FFMC\"],y=df[\"area\"])\n",
    "plt.xlabel(\"FFMC\")\n",
    "plt.ylabel(\"Area in Hectare\")\n",
    "\n",
    "plt.subplot(3,3,6)\n",
    "plt.scatter(x=df[\"DMC\"],y=df[\"area\"])\n",
    "plt.xlabel(\"DMC\")\n",
    "plt.ylabel(\"Area in Hectare\")\n",
    "\n",
    "plt.subplot(3,3,7)\n",
    "plt.scatter(x=df[\"DC\"],y=df[\"area\"])\n",
    "plt.xlabel(\"DC\")\n",
    "plt.ylabel(\"Area in Hectare\")\n",
    "\n",
    "plt.subplot(3,3,8)\n",
    "plt.scatter(x=df[\"ISI\"],y=df[\"area\"])\n",
    "plt.xlabel(\"DC\")\n",
    "plt.ylabel(\"Area in Hectare\")"
   ]
  },
  {
   "cell_type": "markdown",
   "id": "0qRIuIwlijxc",
   "metadata": {
    "id": "0qRIuIwlijxc"
   },
   "source": [
    "From the above scatter plot visualization, it can be seen none of features seem to vary linearly with the predictor variable. "
   ]
  },
  {
   "cell_type": "markdown",
   "id": "2s3FBcCgmEOE",
   "metadata": {
    "id": "2s3FBcCgmEOE"
   },
   "source": [
    "## 3. Data Preprocessing"
   ]
  },
  {
   "cell_type": "code",
   "execution_count": 61,
   "id": "dMZHEhjDiF6Z",
   "metadata": {
    "colab": {
     "base_uri": "https://localhost:8080/"
    },
    "id": "dMZHEhjDiF6Z",
    "outputId": "b14f7d40-e65a-44c6-a6c2-871ee7b57da6"
   },
   "outputs": [
    {
     "name": "stderr",
     "output_type": "stream",
     "text": [
      "/var/folders/fr/drfqt32j53zggrw4_vm9rzhc0000gn/T/ipykernel_26170/3104020419.py:2: FutureWarning: Dropping of nuisance columns in DataFrame reductions (with 'numeric_only=None') is deprecated; in a future version this will raise TypeError.  Select only valid columns before calling the reduction.\n",
      "  df.skew(axis = 0)\n"
     ]
    },
    {
     "data": {
      "text/plain": [
       "X        0.036246\n",
       "Y        0.417296\n",
       "FFMC    -6.575606\n",
       "DMC      0.547498\n",
       "DC      -1.100445\n",
       "ISI      2.536325\n",
       "temp    -0.331172\n",
       "RH       0.862904\n",
       "wind     0.571001\n",
       "rain    19.816344\n",
       "area    12.846934\n",
       "dtype: float64"
      ]
     },
     "execution_count": 61,
     "metadata": {},
     "output_type": "execute_result"
    }
   ],
   "source": [
    "# Checking for skewness in the predictor variable\n",
    "df.skew(axis = 0)"
   ]
  },
  {
   "cell_type": "code",
   "execution_count": 62,
   "id": "azSX8ArGmWEC",
   "metadata": {
    "colab": {
     "base_uri": "https://localhost:8080/"
    },
    "id": "azSX8ArGmWEC",
    "outputId": "1f4d7887-148b-439c-ce4f-b44ad79918ee"
   },
   "outputs": [
    {
     "name": "stdout",
     "output_type": "stream",
     "text": [
      "Previous skew of area: 12.846933533934868\n",
      "Current skew of area: 1.2178376559535011\n"
     ]
    }
   ],
   "source": [
    "# Correcting the skewness in the response variable\n",
    "df_unclean = df.copy()\n",
    "df['area'] = np.log(df['area'] + 1)\n",
    "print(\"Previous skew of area:\", df_unclean['area'].skew())\n",
    "print(\"Current skew of area:\", df['area'].skew())"
   ]
  },
  {
   "cell_type": "code",
   "execution_count": 63,
   "id": "Cl6dbvJrmqVd",
   "metadata": {
    "colab": {
     "base_uri": "https://localhost:8080/",
     "height": 596
    },
    "id": "Cl6dbvJrmqVd",
    "outputId": "3c3a985b-f0aa-4da0-f8fa-68292cdce14c"
   },
   "outputs": [
    {
     "name": "stderr",
     "output_type": "stream",
     "text": [
      "/Users/akshayamahesh/opt/anaconda3/lib/python3.9/site-packages/seaborn/distributions.py:2619: FutureWarning: `distplot` is a deprecated function and will be removed in a future version. Please adapt your code to use either `displot` (a figure-level function with similar flexibility) or `histplot` (an axes-level function for histograms).\n",
      "  warnings.warn(msg, FutureWarning)\n",
      "/Users/akshayamahesh/opt/anaconda3/lib/python3.9/site-packages/seaborn/distributions.py:2619: FutureWarning: `distplot` is a deprecated function and will be removed in a future version. Please adapt your code to use either `displot` (a figure-level function with similar flexibility) or `histplot` (an axes-level function for histograms).\n",
      "  warnings.warn(msg, FutureWarning)\n"
     ]
    },
    {
     "data": {
      "text/plain": [
       "[Text(0.5, 1.0, 'After applying log')]"
      ]
     },
     "execution_count": 63,
     "metadata": {},
     "output_type": "execute_result"
    },
    {
     "data": {
      "image/png": "[encoded data removed]",
      "text/plain": [
       "<Figure size 1296x576 with 2 Axes>"
      ]
     },
     "metadata": {},
     "output_type": "display_data"
    }
   ],
   "source": [
    "# Plotting skewness of the response variable before and after preprocessing\n",
    "\n",
    "plt.rcParams['figure.figsize'] = [18, 8]\n",
    "fig, ax = plt.subplots(1, 2)\n",
    "\n",
    "plot1 = sns.distplot(df_unclean['area'], ax = ax[0])\n",
    "plot1.set(title = 'Before applying log')\n",
    "plot2 = sns.distplot(df['area'], ax = ax[1])\n",
    "plot2.set(title = 'After applying log')"
   ]
  },
  {
   "cell_type": "code",
   "execution_count": 64,
   "id": "UeqqQ0Gqm1FE",
   "metadata": {
    "id": "UeqqQ0Gqm1FE"
   },
   "outputs": [],
   "source": [
    "# Normalizing the FWI and other climatic factors\n",
    "normalizer = MinMaxScaler()\n",
    "FFMC_transform = np.array(df['FFMC']).reshape(-1, 1)\n",
    "DMC_transform = np.array(df['DMC']).reshape(-1, 1)\n",
    "DC_transform = np.array(df['DC']).reshape(-1, 1)\n",
    "ISI_transform = np.array(df['ISI']).reshape(-1, 1)\n",
    "temp_transform = np.array(df['temp']).reshape(-1, 1)\n",
    "RH_transform = np.array(df['RH']).reshape(-1, 1)\n",
    "wind_transform = np.array(df['wind']).reshape(-1, 1)\n",
    "rain_transform = np.array(df['rain']).reshape(-1, 1)\n",
    "\n",
    "df['FFMC'] = normalizer.fit_transform(FFMC_transform)\n",
    "df['DMC'] = normalizer.fit_transform(DMC_transform)\n",
    "df['DC'] = normalizer.fit_transform(DC_transform)\n",
    "df['ISI'] = normalizer.fit_transform(ISI_transform)\n",
    "df['temp'] = normalizer.fit_transform(temp_transform)\n",
    "df['RH'] = normalizer.fit_transform(RH_transform)\n",
    "df['wind'] = normalizer.fit_transform(wind_transform)\n",
    "df['rain'] = normalizer.fit_transform(rain_transform)"
   ]
  },
  {
   "cell_type": "code",
   "execution_count": 65,
   "id": "TTHq3sXinBeb",
   "metadata": {
    "colab": {
     "base_uri": "https://localhost:8080/",
     "height": 221
    },
    "id": "TTHq3sXinBeb",
    "outputId": "8b469b21-dec7-4671-b2a4-8a43cf40b07c"
   },
   "outputs": [
    {
     "name": "stdout",
     "output_type": "stream",
     "text": [
      "The dataset after cleaning:\n"
     ]
    },
    {
     "data": {
      "text/html": [
       "<div>\n",
       "<style scoped>\n",
       "    .dataframe tbody tr th:only-of-type {\n",
       "        vertical-align: middle;\n",
       "    }\n",
       "\n",
       "    .dataframe tbody tr th {\n",
       "        vertical-align: top;\n",
       "    }\n",
       "\n",
       "    .dataframe thead th {\n",
       "        text-align: right;\n",
       "    }\n",
       "</style>\n",
       "<table border=\"1\" class=\"dataframe\">\n",
       "  <thead>\n",
       "    <tr style=\"text-align: right;\">\n",
       "      <th></th>\n",
       "      <th>X</th>\n",
       "      <th>Y</th>\n",
       "      <th>month</th>\n",
       "      <th>day</th>\n",
       "      <th>FFMC</th>\n",
       "      <th>DMC</th>\n",
       "      <th>DC</th>\n",
       "      <th>ISI</th>\n",
       "      <th>temp</th>\n",
       "      <th>RH</th>\n",
       "      <th>wind</th>\n",
       "      <th>rain</th>\n",
       "      <th>area</th>\n",
       "    </tr>\n",
       "  </thead>\n",
       "  <tbody>\n",
       "    <tr>\n",
       "      <th>0</th>\n",
       "      <td>7</td>\n",
       "      <td>5</td>\n",
       "      <td>3</td>\n",
       "      <td>6</td>\n",
       "      <td>0.870968</td>\n",
       "      <td>0.086492</td>\n",
       "      <td>0.101325</td>\n",
       "      <td>0.090909</td>\n",
       "      <td>0.192926</td>\n",
       "      <td>0.423529</td>\n",
       "      <td>0.700000</td>\n",
       "      <td>0.00000</td>\n",
       "      <td>0.0</td>\n",
       "    </tr>\n",
       "    <tr>\n",
       "      <th>1</th>\n",
       "      <td>7</td>\n",
       "      <td>4</td>\n",
       "      <td>10</td>\n",
       "      <td>3</td>\n",
       "      <td>0.927742</td>\n",
       "      <td>0.118194</td>\n",
       "      <td>0.775419</td>\n",
       "      <td>0.119430</td>\n",
       "      <td>0.508039</td>\n",
       "      <td>0.211765</td>\n",
       "      <td>0.055556</td>\n",
       "      <td>0.00000</td>\n",
       "      <td>0.0</td>\n",
       "    </tr>\n",
       "    <tr>\n",
       "      <th>2</th>\n",
       "      <td>7</td>\n",
       "      <td>4</td>\n",
       "      <td>10</td>\n",
       "      <td>7</td>\n",
       "      <td>0.927742</td>\n",
       "      <td>0.146795</td>\n",
       "      <td>0.796294</td>\n",
       "      <td>0.119430</td>\n",
       "      <td>0.398714</td>\n",
       "      <td>0.211765</td>\n",
       "      <td>0.100000</td>\n",
       "      <td>0.00000</td>\n",
       "      <td>0.0</td>\n",
       "    </tr>\n",
       "    <tr>\n",
       "      <th>3</th>\n",
       "      <td>8</td>\n",
       "      <td>6</td>\n",
       "      <td>3</td>\n",
       "      <td>6</td>\n",
       "      <td>0.941935</td>\n",
       "      <td>0.110958</td>\n",
       "      <td>0.081623</td>\n",
       "      <td>0.160428</td>\n",
       "      <td>0.196141</td>\n",
       "      <td>0.964706</td>\n",
       "      <td>0.400000</td>\n",
       "      <td>0.03125</td>\n",
       "      <td>0.0</td>\n",
       "    </tr>\n",
       "    <tr>\n",
       "      <th>4</th>\n",
       "      <td>8</td>\n",
       "      <td>6</td>\n",
       "      <td>3</td>\n",
       "      <td>1</td>\n",
       "      <td>0.910968</td>\n",
       "      <td>0.172984</td>\n",
       "      <td>0.110590</td>\n",
       "      <td>0.171123</td>\n",
       "      <td>0.295820</td>\n",
       "      <td>0.988235</td>\n",
       "      <td>0.155556</td>\n",
       "      <td>0.00000</td>\n",
       "      <td>0.0</td>\n",
       "    </tr>\n",
       "  </tbody>\n",
       "</table>\n",
       "</div>"
      ],
      "text/plain": [
       "   X  Y  month  day      FFMC       DMC        DC       ISI      temp  \\\n",
       "0  7  5      3    6  0.870968  0.086492  0.101325  0.090909  0.192926   \n",
       "1  7  4     10    3  0.927742  0.118194  0.775419  0.119430  0.508039   \n",
       "2  7  4     10    7  0.927742  0.146795  0.796294  0.119430  0.398714   \n",
       "3  8  6      3    6  0.941935  0.110958  0.081623  0.160428  0.196141   \n",
       "4  8  6      3    1  0.910968  0.172984  0.110590  0.171123  0.295820   \n",
       "\n",
       "         RH      wind     rain  area  \n",
       "0  0.423529  0.700000  0.00000   0.0  \n",
       "1  0.211765  0.055556  0.00000   0.0  \n",
       "2  0.211765  0.100000  0.00000   0.0  \n",
       "3  0.964706  0.400000  0.03125   0.0  \n",
       "4  0.988235  0.155556  0.00000   0.0  "
      ]
     },
     "execution_count": 65,
     "metadata": {},
     "output_type": "execute_result"
    }
   ],
   "source": [
    "# Converting categorical values to numerical values\n",
    "\n",
    "df['month'] = df['month'].replace(['jan', 'feb', 'mar', 'apr', 'may', 'jun', \n",
    "                                   'jul', 'aug', 'sep', 'oct', 'nov', 'dec'], \n",
    "                                  [1, 2, 3, 4, 5, 6, 7, 8, 9, 10, 11, 12])\n",
    "df['day'] = df['day'].replace(['sun', 'mon', 'tue', 'wed', 'thu', 'fri', 'sat'],\n",
    "                              [1, 2, 3, 4, 5, 6, 7])\n",
    "print(\"The dataset after cleaning:\") \n",
    "df.head()"
   ]
  },
  {
   "cell_type": "code",
   "execution_count": 66,
   "id": "qzcCa3IBnVmw",
   "metadata": {
    "id": "qzcCa3IBnVmw"
   },
   "outputs": [],
   "source": [
    "# Splitting the dataset into train and test\n",
    "\n",
    "X = df.drop(columns = ['area'])\n",
    "y = df['area']\n",
    "X_train, X_test, y_train, y_test = train_test_split(X, y, test_size = 0.2, random_state = 42)"
   ]
  },
  {
   "cell_type": "code",
   "execution_count": 67,
   "id": "e8wjlZWvnaV9",
   "metadata": {
    "colab": {
     "base_uri": "https://localhost:8080/"
    },
    "id": "e8wjlZWvnaV9",
    "outputId": "6fa844b0-02ac-493d-8f95-00e349027403"
   },
   "outputs": [
    {
     "name": "stdout",
     "output_type": "stream",
     "text": [
      "X_train: (413, 12)\n",
      "y_train: (413,)\n",
      "X_test: (104, 12)\n",
      "y_test: (104,)\n"
     ]
    }
   ],
   "source": [
    "# Printing the shapes of the train and test datasets\n",
    "\n",
    "print(\"X_train:\", X_train.shape)\n",
    "print(\"y_train:\", y_train.shape)\n",
    "print(\"X_test:\", X_test.shape)\n",
    "print(\"y_test:\", y_test.shape)"
   ]
  },
  {
   "cell_type": "markdown",
   "id": "e1Afoi3-nPJm",
   "metadata": {
    "id": "e1Afoi3-nPJm"
   },
   "source": [
    "## 4. Baseline Model"
   ]
  },
  {
   "cell_type": "code",
   "execution_count": 68,
   "id": "F9sMxN0BnLoS",
   "metadata": {
    "colab": {
     "base_uri": "https://localhost:8080/"
    },
    "id": "F9sMxN0BnLoS",
    "outputId": "cf6f7a07-a5ab-4cd1-e7bb-b56539f8c338"
   },
   "outputs": [
    {
     "data": {
      "text/html": [
       "<style>#sk-container-id-4 {color: black;background-color: white;}#sk-container-id-4 pre{padding: 0;}#sk-container-id-4 div.sk-toggleable {background-color: white;}#sk-container-id-4 label.sk-toggleable__label {cursor: pointer;display: block;width: 100%;margin-bottom: 0;padding: 0.3em;box-sizing: border-box;text-align: center;}#sk-container-id-4 label.sk-toggleable__label-arrow:before {content: \"▸\";float: left;margin-right: 0.25em;color: #696969;}#sk-container-id-4 label.sk-toggleable__label-arrow:hover:before {color: black;}#sk-container-id-4 div.sk-estimator:hover label.sk-toggleable__label-arrow:before {color: black;}#sk-container-id-4 div.sk-toggleable__content {max-height: 0;max-width: 0;overflow: hidden;text-align: left;background-color: #f0f8ff;}#sk-container-id-4 div.sk-toggleable__content pre {margin: 0.2em;color: black;border-radius: 0.25em;background-color: #f0f8ff;}#sk-container-id-4 input.sk-toggleable__control:checked~div.sk-toggleable__content {max-height: 200px;max-width: 100%;overflow: auto;}#sk-container-id-4 input.sk-toggleable__control:checked~label.sk-toggleable__label-arrow:before {content: \"▾\";}#sk-container-id-4 div.sk-estimator input.sk-toggleable__control:checked~label.sk-toggleable__label {background-color: #d4ebff;}#sk-container-id-4 div.sk-label input.sk-toggleable__control:checked~label.sk-toggleable__label {background-color: #d4ebff;}#sk-container-id-4 input.sk-hidden--visually {border: 0;clip: rect(1px 1px 1px 1px);clip: rect(1px, 1px, 1px, 1px);height: 1px;margin: -1px;overflow: hidden;padding: 0;position: absolute;width: 1px;}#sk-container-id-4 div.sk-estimator {font-family: monospace;background-color: #f0f8ff;border: 1px dotted black;border-radius: 0.25em;box-sizing: border-box;margin-bottom: 0.5em;}#sk-container-id-4 div.sk-estimator:hover {background-color: #d4ebff;}#sk-container-id-4 div.sk-parallel-item::after {content: \"\";width: 100%;border-bottom: 1px solid gray;flex-grow: 1;}#sk-container-id-4 div.sk-label:hover label.sk-toggleable__label {background-color: #d4ebff;}#sk-container-id-4 div.sk-serial::before {content: \"\";position: absolute;border-left: 1px solid gray;box-sizing: border-box;top: 0;bottom: 0;left: 50%;z-index: 0;}#sk-container-id-4 div.sk-serial {display: flex;flex-direction: column;align-items: center;background-color: white;padding-right: 0.2em;padding-left: 0.2em;position: relative;}#sk-container-id-4 div.sk-item {position: relative;z-index: 1;}#sk-container-id-4 div.sk-parallel {display: flex;align-items: stretch;justify-content: center;background-color: white;position: relative;}#sk-container-id-4 div.sk-item::before, #sk-container-id-4 div.sk-parallel-item::before {content: \"\";position: absolute;border-left: 1px solid gray;box-sizing: border-box;top: 0;bottom: 0;left: 50%;z-index: -1;}#sk-container-id-4 div.sk-parallel-item {display: flex;flex-direction: column;z-index: 1;position: relative;background-color: white;}#sk-container-id-4 div.sk-parallel-item:first-child::after {align-self: flex-end;width: 50%;}#sk-container-id-4 div.sk-parallel-item:last-child::after {align-self: flex-start;width: 50%;}#sk-container-id-4 div.sk-parallel-item:only-child::after {width: 0;}#sk-container-id-4 div.sk-dashed-wrapped {border: 1px dashed gray;margin: 0 0.4em 0.5em 0.4em;box-sizing: border-box;padding-bottom: 0.4em;background-color: white;}#sk-container-id-4 div.sk-label label {font-family: monospace;font-weight: bold;display: inline-block;line-height: 1.2em;}#sk-container-id-4 div.sk-label-container {text-align: center;}#sk-container-id-4 div.sk-container {/* jupyter's `normalize.less` sets `[hidden] { display: none; }` but bootstrap.min.css set `[hidden] { display: none !important; }` so we also need the `!important` here to be able to override the default hidden behavior on the sphinx rendered scikit-learn.org. See: https://github.com/scikit-learn/scikit-learn/issues/21755 */display: inline-block !important;position: relative;}#sk-container-id-4 div.sk-text-repr-fallback {display: none;}</style><div id=\"sk-container-id-4\" class=\"sk-top-container\"><div class=\"sk-text-repr-fallback\"><pre>LinearRegression()</pre><b>In a Jupyter environment, please rerun this cell to show the HTML representation or trust the notebook. <br />On GitHub, the HTML representation is unable to render, please try loading this page with nbviewer.org.</b></div><div class=\"sk-container\" hidden><div class=\"sk-item\"><div class=\"sk-estimator sk-toggleable\"><input class=\"sk-toggleable__control sk-hidden--visually\" id=\"sk-estimator-id-4\" type=\"checkbox\" checked><label for=\"sk-estimator-id-4\" class=\"sk-toggleable__label sk-toggleable__label-arrow\">LinearRegression</label><div class=\"sk-toggleable__content\"><pre>LinearRegression()</pre></div></div></div></div></div>"
      ],
      "text/plain": [
       "LinearRegression()"
      ]
     },
     "execution_count": 68,
     "metadata": {},
     "output_type": "execute_result"
    }
   ],
   "source": [
    "# Implementing linear regression model\n",
    "\n",
    "lr = LinearRegression()\n",
    "lr.fit(X_train, y_train)"
   ]
  },
  {
   "cell_type": "code",
   "execution_count": 69,
   "id": "J_JJ7h8-nsjs",
   "metadata": {
    "colab": {
     "base_uri": "https://localhost:8080/"
    },
    "id": "J_JJ7h8-nsjs",
    "outputId": "96782ab4-5445-4927-9279-1b56d32c32cd"
   },
   "outputs": [
    {
     "name": "stdout",
     "output_type": "stream",
     "text": [
      "The train rmse using linear regression: 1.35\n",
      "The train r2 score using linear regression: 0.035\n",
      "The test rmse using linear regression: 1.467\n",
      "The test r2 score using linear regression: 0.021\n"
     ]
    }
   ],
   "source": [
    "train_preds = lr.predict(X_train)\n",
    "test_preds = lr.predict(X_test)\n",
    "train_rmse = math.sqrt(mean_squared_error(y_train, train_preds))\n",
    "train_r2 = r2_score(y_train, train_preds)\n",
    "test_rmse = math.sqrt(mean_squared_error(y_test, test_preds))\n",
    "test_r2 = r2_score(y_test, test_preds)\n",
    "print(\"The train rmse using linear regression:\", round(train_rmse, 3))\n",
    "print(\"The train r2 score using linear regression:\", round(train_r2, 3))\n",
    "print(\"The test rmse using linear regression:\", round(test_rmse, 3))\n",
    "print(\"The test r2 score using linear regression:\", round(test_r2, 3))"
   ]
  },
  {
   "cell_type": "code",
   "execution_count": 70,
   "id": "acaiQ7BXnsg6",
   "metadata": {
    "colab": {
     "base_uri": "https://localhost:8080/"
    },
    "id": "acaiQ7BXnsg6",
    "outputId": "e3652bee-9884-4b33-d83e-15c91a32b1b5"
   },
   "outputs": [
    {
     "data": {
      "text/html": [
       "<style>#sk-container-id-5 {color: black;background-color: white;}#sk-container-id-5 pre{padding: 0;}#sk-container-id-5 div.sk-toggleable {background-color: white;}#sk-container-id-5 label.sk-toggleable__label {cursor: pointer;display: block;width: 100%;margin-bottom: 0;padding: 0.3em;box-sizing: border-box;text-align: center;}#sk-container-id-5 label.sk-toggleable__label-arrow:before {content: \"▸\";float: left;margin-right: 0.25em;color: #696969;}#sk-container-id-5 label.sk-toggleable__label-arrow:hover:before {color: black;}#sk-container-id-5 div.sk-estimator:hover label.sk-toggleable__label-arrow:before {color: black;}#sk-container-id-5 div.sk-toggleable__content {max-height: 0;max-width: 0;overflow: hidden;text-align: left;background-color: #f0f8ff;}#sk-container-id-5 div.sk-toggleable__content pre {margin: 0.2em;color: black;border-radius: 0.25em;background-color: #f0f8ff;}#sk-container-id-5 input.sk-toggleable__control:checked~div.sk-toggleable__content {max-height: 200px;max-width: 100%;overflow: auto;}#sk-container-id-5 input.sk-toggleable__control:checked~label.sk-toggleable__label-arrow:before {content: \"▾\";}#sk-container-id-5 div.sk-estimator input.sk-toggleable__control:checked~label.sk-toggleable__label {background-color: #d4ebff;}#sk-container-id-5 div.sk-label input.sk-toggleable__control:checked~label.sk-toggleable__label {background-color: #d4ebff;}#sk-container-id-5 input.sk-hidden--visually {border: 0;clip: rect(1px 1px 1px 1px);clip: rect(1px, 1px, 1px, 1px);height: 1px;margin: -1px;overflow: hidden;padding: 0;position: absolute;width: 1px;}#sk-container-id-5 div.sk-estimator {font-family: monospace;background-color: #f0f8ff;border: 1px dotted black;border-radius: 0.25em;box-sizing: border-box;margin-bottom: 0.5em;}#sk-container-id-5 div.sk-estimator:hover {background-color: #d4ebff;}#sk-container-id-5 div.sk-parallel-item::after {content: \"\";width: 100%;border-bottom: 1px solid gray;flex-grow: 1;}#sk-container-id-5 div.sk-label:hover label.sk-toggleable__label {background-color: #d4ebff;}#sk-container-id-5 div.sk-serial::before {content: \"\";position: absolute;border-left: 1px solid gray;box-sizing: border-box;top: 0;bottom: 0;left: 50%;z-index: 0;}#sk-container-id-5 div.sk-serial {display: flex;flex-direction: column;align-items: center;background-color: white;padding-right: 0.2em;padding-left: 0.2em;position: relative;}#sk-container-id-5 div.sk-item {position: relative;z-index: 1;}#sk-container-id-5 div.sk-parallel {display: flex;align-items: stretch;justify-content: center;background-color: white;position: relative;}#sk-container-id-5 div.sk-item::before, #sk-container-id-5 div.sk-parallel-item::before {content: \"\";position: absolute;border-left: 1px solid gray;box-sizing: border-box;top: 0;bottom: 0;left: 50%;z-index: -1;}#sk-container-id-5 div.sk-parallel-item {display: flex;flex-direction: column;z-index: 1;position: relative;background-color: white;}#sk-container-id-5 div.sk-parallel-item:first-child::after {align-self: flex-end;width: 50%;}#sk-container-id-5 div.sk-parallel-item:last-child::after {align-self: flex-start;width: 50%;}#sk-container-id-5 div.sk-parallel-item:only-child::after {width: 0;}#sk-container-id-5 div.sk-dashed-wrapped {border: 1px dashed gray;margin: 0 0.4em 0.5em 0.4em;box-sizing: border-box;padding-bottom: 0.4em;background-color: white;}#sk-container-id-5 div.sk-label label {font-family: monospace;font-weight: bold;display: inline-block;line-height: 1.2em;}#sk-container-id-5 div.sk-label-container {text-align: center;}#sk-container-id-5 div.sk-container {/* jupyter's `normalize.less` sets `[hidden] { display: none; }` but bootstrap.min.css set `[hidden] { display: none !important; }` so we also need the `!important` here to be able to override the default hidden behavior on the sphinx rendered scikit-learn.org. See: https://github.com/scikit-learn/scikit-learn/issues/21755 */display: inline-block !important;position: relative;}#sk-container-id-5 div.sk-text-repr-fallback {display: none;}</style><div id=\"sk-container-id-5\" class=\"sk-top-container\"><div class=\"sk-text-repr-fallback\"><pre>Ridge()</pre><b>In a Jupyter environment, please rerun this cell to show the HTML representation or trust the notebook. <br />On GitHub, the HTML representation is unable to render, please try loading this page with nbviewer.org.</b></div><div class=\"sk-container\" hidden><div class=\"sk-item\"><div class=\"sk-estimator sk-toggleable\"><input class=\"sk-toggleable__control sk-hidden--visually\" id=\"sk-estimator-id-5\" type=\"checkbox\" checked><label for=\"sk-estimator-id-5\" class=\"sk-toggleable__label sk-toggleable__label-arrow\">Ridge</label><div class=\"sk-toggleable__content\"><pre>Ridge()</pre></div></div></div></div></div>"
      ],
      "text/plain": [
       "Ridge()"
      ]
     },
     "execution_count": 70,
     "metadata": {},
     "output_type": "execute_result"
    }
   ],
   "source": [
    "# Implementing Lasso Regression\n",
    "\n",
    "ridge = Ridge()\n",
    "ridge.fit(X_train, y_train)"
   ]
  },
  {
   "cell_type": "code",
   "execution_count": 71,
   "id": "29IZBI9Ynseg",
   "metadata": {
    "colab": {
     "base_uri": "https://localhost:8080/"
    },
    "id": "29IZBI9Ynseg",
    "outputId": "4a8713cf-c896-49f5-f54e-b40b60a01fa7"
   },
   "outputs": [
    {
     "name": "stdout",
     "output_type": "stream",
     "text": [
      "The train rmse using lasso regression: 1.351\n",
      "The train r2 score using lasso regression: 0.033\n",
      "The test rmse using lasso regression: 1.463\n",
      "The test r2 score using lasso regression: 0.026\n"
     ]
    }
   ],
   "source": [
    "train_preds = ridge.predict(X_train)\n",
    "test_preds = ridge.predict(X_test)\n",
    "train_rmse = math.sqrt(mean_squared_error(y_train, train_preds))\n",
    "train_r2 = r2_score(y_train, train_preds)\n",
    "test_rmse = math.sqrt(mean_squared_error(y_test, test_preds))\n",
    "test_r2 = r2_score(y_test, test_preds)\n",
    "print(\"The train rmse using lasso regression:\", round(train_rmse, 3))\n",
    "print(\"The train r2 score using lasso regression:\", round(train_r2, 3))\n",
    "print(\"The test rmse using lasso regression:\", round(test_rmse, 3))\n",
    "print(\"The test r2 score using lasso regression:\", round(test_r2, 3))"
   ]
  },
  {
   "cell_type": "markdown",
   "id": "WO8A7z44n1pm",
   "metadata": {
    "id": "WO8A7z44n1pm"
   },
   "source": [
    "# Results\n",
    "\n",
    "After obtaining clarification of the problem at hand to some extent with data cleaning and EDA, we proceeded forward with creating 2 baseline models. The results of those models are:\n",
    "\n",
    "1. Linear regression - RMSE: 1.467, R2: 0.021\n",
    "2. Ridge regression - RMSE: 1.463, R2: 0.026\n",
    "\n",
    "The reasons behind the models performing like they do can be:\n",
    "\n",
    "1. Outliers and 0 area - The data has a couple of outliers which we will look more into and decide the kind of step we have to take to manipulate/remove them. Some values indicate that there is no forest fire(area of 0), which is acceptable, but we have to find a way to improve our method of scaling/normalization to match other outcomes.\n",
    "\n",
    "2. Simplistic models - The models chosen here are meant to be simplistic as they are baseline. We hope to achieve improved results with more complex models with which we have control over model parameters."
   ]
  },
  {
   "cell_type": "code",
   "execution_count": 94,
   "id": "TfxD5pGInsXD",
   "metadata": {
    "id": "TfxD5pGInsXD"
   },
   "outputs": [],
   "source": [
    "from sklearn.tree import DecisionTreeRegressor\n",
    "from sklearn.model_selection import cross_val_score\n",
    "from sklearn.metrics import r2_score\n",
    "from sklearn.metrics import make_scorer"
   ]
  },
  {
   "cell_type": "code",
   "execution_count": 96,
   "id": "aaa03766",
   "metadata": {},
   "outputs": [
    {
     "data": {
      "text/html": [
       "<style>#sk-container-id-8 {color: black;background-color: white;}#sk-container-id-8 pre{padding: 0;}#sk-container-id-8 div.sk-toggleable {background-color: white;}#sk-container-id-8 label.sk-toggleable__label {cursor: pointer;display: block;width: 100%;margin-bottom: 0;padding: 0.3em;box-sizing: border-box;text-align: center;}#sk-container-id-8 label.sk-toggleable__label-arrow:before {content: \"▸\";float: left;margin-right: 0.25em;color: #696969;}#sk-container-id-8 label.sk-toggleable__label-arrow:hover:before {color: black;}#sk-container-id-8 div.sk-estimator:hover label.sk-toggleable__label-arrow:before {color: black;}#sk-container-id-8 div.sk-toggleable__content {max-height: 0;max-width: 0;overflow: hidden;text-align: left;background-color: #f0f8ff;}#sk-container-id-8 div.sk-toggleable__content pre {margin: 0.2em;color: black;border-radius: 0.25em;background-color: #f0f8ff;}#sk-container-id-8 input.sk-toggleable__control:checked~div.sk-toggleable__content {max-height: 200px;max-width: 100%;overflow: auto;}#sk-container-id-8 input.sk-toggleable__control:checked~label.sk-toggleable__label-arrow:before {content: \"▾\";}#sk-container-id-8 div.sk-estimator input.sk-toggleable__control:checked~label.sk-toggleable__label {background-color: #d4ebff;}#sk-container-id-8 div.sk-label input.sk-toggleable__control:checked~label.sk-toggleable__label {background-color: #d4ebff;}#sk-container-id-8 input.sk-hidden--visually {border: 0;clip: rect(1px 1px 1px 1px);clip: rect(1px, 1px, 1px, 1px);height: 1px;margin: -1px;overflow: hidden;padding: 0;position: absolute;width: 1px;}#sk-container-id-8 div.sk-estimator {font-family: monospace;background-color: #f0f8ff;border: 1px dotted black;border-radius: 0.25em;box-sizing: border-box;margin-bottom: 0.5em;}#sk-container-id-8 div.sk-estimator:hover {background-color: #d4ebff;}#sk-container-id-8 div.sk-parallel-item::after {content: \"\";width: 100%;border-bottom: 1px solid gray;flex-grow: 1;}#sk-container-id-8 div.sk-label:hover label.sk-toggleable__label {background-color: #d4ebff;}#sk-container-id-8 div.sk-serial::before {content: \"\";position: absolute;border-left: 1px solid gray;box-sizing: border-box;top: 0;bottom: 0;left: 50%;z-index: 0;}#sk-container-id-8 div.sk-serial {display: flex;flex-direction: column;align-items: center;background-color: white;padding-right: 0.2em;padding-left: 0.2em;position: relative;}#sk-container-id-8 div.sk-item {position: relative;z-index: 1;}#sk-container-id-8 div.sk-parallel {display: flex;align-items: stretch;justify-content: center;background-color: white;position: relative;}#sk-container-id-8 div.sk-item::before, #sk-container-id-8 div.sk-parallel-item::before {content: \"\";position: absolute;border-left: 1px solid gray;box-sizing: border-box;top: 0;bottom: 0;left: 50%;z-index: -1;}#sk-container-id-8 div.sk-parallel-item {display: flex;flex-direction: column;z-index: 1;position: relative;background-color: white;}#sk-container-id-8 div.sk-parallel-item:first-child::after {align-self: flex-end;width: 50%;}#sk-container-id-8 div.sk-parallel-item:last-child::after {align-self: flex-start;width: 50%;}#sk-container-id-8 div.sk-parallel-item:only-child::after {width: 0;}#sk-container-id-8 div.sk-dashed-wrapped {border: 1px dashed gray;margin: 0 0.4em 0.5em 0.4em;box-sizing: border-box;padding-bottom: 0.4em;background-color: white;}#sk-container-id-8 div.sk-label label {font-family: monospace;font-weight: bold;display: inline-block;line-height: 1.2em;}#sk-container-id-8 div.sk-label-container {text-align: center;}#sk-container-id-8 div.sk-container {/* jupyter's `normalize.less` sets `[hidden] { display: none; }` but bootstrap.min.css set `[hidden] { display: none !important; }` so we also need the `!important` here to be able to override the default hidden behavior on the sphinx rendered scikit-learn.org. See: https://github.com/scikit-learn/scikit-learn/issues/21755 */display: inline-block !important;position: relative;}#sk-container-id-8 div.sk-text-repr-fallback {display: none;}</style><div id=\"sk-container-id-8\" class=\"sk-top-container\"><div class=\"sk-text-repr-fallback\"><pre>DecisionTreeRegressor()</pre><b>In a Jupyter environment, please rerun this cell to show the HTML representation or trust the notebook. <br />On GitHub, the HTML representation is unable to render, please try loading this page with nbviewer.org.</b></div><div class=\"sk-container\" hidden><div class=\"sk-item\"><div class=\"sk-estimator sk-toggleable\"><input class=\"sk-toggleable__control sk-hidden--visually\" id=\"sk-estimator-id-8\" type=\"checkbox\" checked><label for=\"sk-estimator-id-8\" class=\"sk-toggleable__label sk-toggleable__label-arrow\">DecisionTreeRegressor</label><div class=\"sk-toggleable__content\"><pre>DecisionTreeRegressor()</pre></div></div></div></div></div>"
      ],
      "text/plain": [
       "DecisionTreeRegressor()"
      ]
     },
     "execution_count": 96,
     "metadata": {},
     "output_type": "execute_result"
    }
   ],
   "source": [
    "dec_tree_model = DecisionTreeRegressor()\n",
    "dec_tree_model.fit(X_train, y_train)"
   ]
  },
  {
   "cell_type": "code",
   "execution_count": 98,
   "id": "05438c09",
   "metadata": {},
   "outputs": [
    {
     "data": {
      "text/plain": [
       "0.9939236911369312"
      ]
     },
     "execution_count": 98,
     "metadata": {},
     "output_type": "execute_result"
    }
   ],
   "source": [
    "dec_tree_model.score(X_train,y_train)"
   ]
  },
  {
   "cell_type": "code",
   "execution_count": 99,
   "id": "7743f1a5",
   "metadata": {},
   "outputs": [
    {
     "data": {
      "text/plain": [
       "-1.0433715566226587"
      ]
     },
     "execution_count": 99,
     "metadata": {},
     "output_type": "execute_result"
    }
   ],
   "source": [
    "dec_tree_model.score(X_test,y_test)"
   ]
  },
  {
   "cell_type": "code",
   "execution_count": 100,
   "id": "229dfaa4",
   "metadata": {},
   "outputs": [],
   "source": [
    "prediction=dec_tree_model.predict(X_test)"
   ]
  },
  {
   "cell_type": "code",
   "execution_count": 101,
   "id": "74431e3f",
   "metadata": {},
   "outputs": [
    {
     "name": "stderr",
     "output_type": "stream",
     "text": [
      "/Users/akshayamahesh/opt/anaconda3/lib/python3.9/site-packages/seaborn/distributions.py:2619: FutureWarning: `distplot` is a deprecated function and will be removed in a future version. Please adapt your code to use either `displot` (a figure-level function with similar flexibility) or `histplot` (an axes-level function for histograms).\n",
      "  warnings.warn(msg, FutureWarning)\n"
     ]
    },
    {
     "data": {
      "text/plain": [
       "<AxesSubplot:xlabel='area', ylabel='Density'>"
      ]
     },
     "execution_count": 101,
     "metadata": {},
     "output_type": "execute_result"
    },
    {
     "data": {
      "image/png": "[encoded data removed]",
      "text/plain": [
       "<Figure size 1296x576 with 1 Axes>"
      ]
     },
     "metadata": {},
     "output_type": "display_data"
    }
   ],
   "source": [
    "sns.distplot(y_test-prediction)"
   ]
  },
  {
   "cell_type": "code",
   "execution_count": 102,
   "id": "33b3556f",
   "metadata": {},
   "outputs": [
    {
     "data": {
      "text/plain": [
       "<matplotlib.collections.PathCollection at 0x7fc9f96a8a30>"
      ]
     },
     "execution_count": 102,
     "metadata": {},
     "output_type": "execute_result"
    },
    {
     "data": {
      "image/png": "[encoded data removed]",
      "text/plain": [
       "<Figure size 1296x576 with 1 Axes>"
      ]
     },
     "metadata": {},
     "output_type": "display_data"
    }
   ],
   "source": [
    "plt.scatter(y_test,prediction)"
   ]
  },
  {
   "cell_type": "code",
   "execution_count": 123,
   "id": "86f424f7",
   "metadata": {},
   "outputs": [],
   "source": [
    "parameters={\"criterion\":[\"squared_error\", \"friedman_mse\", \"absolute_error\", \"poisson\"],\n",
    "            \"splitter\":[\"best\",\"random\"],\n",
    "            \"max_depth\" : [1,3,5,7],\n",
    "           \"max_features\":[\"auto\",\"log2\",\"sqrt\",None]\n",
    "           }"
   ]
  },
  {
   "cell_type": "code",
   "execution_count": 124,
   "id": "05e93cc5",
   "metadata": {},
   "outputs": [],
   "source": [
    "from sklearn.model_selection import GridSearchCV"
   ]
  },
  {
   "cell_type": "code",
   "execution_count": 125,
   "id": "54dc720d",
   "metadata": {},
   "outputs": [],
   "source": [
    "tuning_model=GridSearchCV(dec_tree_model,param_grid=parameters,scoring='neg_mean_squared_error',cv=3,verbose=3)"
   ]
  },
  {
   "cell_type": "code",
   "execution_count": 126,
   "id": "eec4899e",
   "metadata": {},
   "outputs": [],
   "source": [
    "X=df.iloc[:,:-1]"
   ]
  },
  {
   "cell_type": "code",
   "execution_count": 127,
   "id": "6230f3e3",
   "metadata": {},
   "outputs": [],
   "source": [
    "y=df.iloc[:,-1]"
   ]
  },
  {
   "cell_type": "code",
   "execution_count": 128,
   "id": "7d7d7956",
   "metadata": {},
   "outputs": [
    {
     "name": "stdout",
     "output_type": "stream",
     "text": [
      "Fitting 3 folds for each of 128 candidates, totalling 384 fits\n",
      "[CV 1/3] END criterion=squared_error, max_depth=1, max_features=auto, splitter=best;, score=-2.642 total time=   0.0s\n",
      "[CV 2/3] END criterion=squared_error, max_depth=1, max_features=auto, splitter=best;, score=-3.511 total time=   0.0s\n",
      "[CV 3/3] END criterion=squared_error, max_depth=1, max_features=auto, splitter=best;, score=-2.229 total time=   0.0s\n",
      "[CV 1/3] END criterion=squared_error, max_depth=1, max_features=auto, splitter=random;, score=-2.043 total time=   0.0s\n",
      "[CV 2/3] END criterion=squared_error, max_depth=1, max_features=auto, splitter=random;, score=-3.311 total time=   0.0s\n",
      "[CV 3/3] END criterion=squared_error, max_depth=1, max_features=auto, splitter=random;, score=-2.179 total time=   0.0s\n",
      "[CV 1/3] END criterion=squared_error, max_depth=1, max_features=log2, splitter=best;, score=-2.642 total time=   0.0s\n",
      "[CV 2/3] END criterion=squared_error, max_depth=1, max_features=log2, splitter=best;, score=-3.710 total time=   0.0s\n",
      "[CV 3/3] END criterion=squared_error, max_depth=1, max_features=log2, splitter=best;, score=-2.232 total time=   0.0s\n",
      "[CV 1/3] END criterion=squared_error, max_depth=1, max_features=log2, splitter=random;, score=-2.145 total time=   0.0s\n",
      "[CV 2/3] END criterion=squared_error, max_depth=1, max_features=log2, splitter=random;, score=-3.354 total time=   0.0s\n",
      "[CV 3/3] END criterion=squared_error, max_depth=1, max_features=log2, splitter=random;, score=-2.189 total time=   0.0s\n",
      "[CV 1/3] END criterion=squared_error, max_depth=1, max_features=sqrt, splitter=best;, score=-2.499 total time=   0.0s\n",
      "[CV 2/3] END criterion=squared_error, max_depth=1, max_features=sqrt, splitter=best;, score=-3.361 total time=   0.0s\n",
      "[CV 3/3] END criterion=squared_error, max_depth=1, max_features=sqrt, splitter=best;, score=-2.229 total time=   0.0s\n",
      "[CV 1/3] END criterion=squared_error, max_depth=1, max_features=sqrt, splitter=random;, score=-2.130 total time=   0.0s\n",
      "[CV 2/3] END criterion=squared_error, max_depth=1, max_features=sqrt, splitter=random;, score=-3.338 total time=   0.0s\n",
      "[CV 3/3] END criterion=squared_error, max_depth=1, max_features=sqrt, splitter=random;, score=-2.268 total time=   0.0s\n",
      "[CV 1/3] END criterion=squared_error, max_depth=1, max_features=None, splitter=best;, score=-2.642 total time=   0.0s\n",
      "[CV 2/3] END criterion=squared_error, max_depth=1, max_features=None, splitter=best;, score=-3.511 total time=   0.0s\n",
      "[CV 3/3] END criterion=squared_error, max_depth=1, max_features=None, splitter=best;, score=-2.229 total time=   0.0s\n",
      "[CV 1/3] END criterion=squared_error, max_depth=1, max_features=None, splitter=random;, score=-2.153 total time=   0.0s\n",
      "[CV 2/3] END criterion=squared_error, max_depth=1, max_features=None, splitter=random;, score=-3.401 total time=   0.0s\n",
      "[CV 3/3] END criterion=squared_error, max_depth=1, max_features=None, splitter=random;, score=-2.229 total time=   0.0s\n",
      "[CV 1/3] END criterion=squared_error, max_depth=3, max_features=auto, splitter=best;, score=-3.192 total time=   0.0s\n",
      "[CV 2/3] END criterion=squared_error, max_depth=3, max_features=auto, splitter=best;, score=-3.813 total time=   0.0s\n",
      "[CV 3/3] END criterion=squared_error, max_depth=3, max_features=auto, splitter=best;, score=-2.252 total time=   0.0s\n",
      "[CV 1/3] END criterion=squared_error, max_depth=3, max_features=auto, splitter=random;, score=-2.217 total time=   0.0s\n",
      "[CV 2/3] END criterion=squared_error, max_depth=3, max_features=auto, splitter=random;, score=-3.760 total time=   0.0s\n",
      "[CV 3/3] END criterion=squared_error, max_depth=3, max_features=auto, splitter=random;, score=-2.208 total time=   0.0s\n",
      "[CV 1/3] END criterion=squared_error, max_depth=3, max_features=log2, splitter=best;, score=-3.050 total time=   0.0s\n",
      "[CV 2/3] END criterion=squared_error, max_depth=3, max_features=log2, splitter=best;, score=-3.527 total time=   0.0s\n",
      "[CV 3/3] END criterion=squared_error, max_depth=3, max_features=log2, splitter=best;, score=-2.325 total time=   0.0s\n",
      "[CV 1/3] END criterion=squared_error, max_depth=3, max_features=log2, splitter=random;, score=-2.185 total time=   0.0s\n",
      "[CV 2/3] END criterion=squared_error, max_depth=3, max_features=log2, splitter=random;, score=-3.378 total time=   0.0s\n",
      "[CV 3/3] END criterion=squared_error, max_depth=3, max_features=log2, splitter=random;, score=-2.296 total time=   0.0s\n",
      "[CV 1/3] END criterion=squared_error, max_depth=3, max_features=sqrt, splitter=best;, score=-3.780 total time=   0.0s\n",
      "[CV 2/3] END criterion=squared_error, max_depth=3, max_features=sqrt, splitter=best;, score=-3.652 total time=   0.0s\n",
      "[CV 3/3] END criterion=squared_error, max_depth=3, max_features=sqrt, splitter=best;, score=-2.507 total time=   0.0s\n",
      "[CV 1/3] END criterion=squared_error, max_depth=3, max_features=sqrt, splitter=random;, score=-2.771 total time=   0.0s\n",
      "[CV 2/3] END criterion=squared_error, max_depth=3, max_features=sqrt, splitter=random;, score=-3.470 total time=   0.0s\n",
      "[CV 3/3] END criterion=squared_error, max_depth=3, max_features=sqrt, splitter=random;, score=-2.242 total time=   0.0s\n",
      "[CV 1/3] END criterion=squared_error, max_depth=3, max_features=None, splitter=best;, score=-3.192 total time=   0.0s\n",
      "[CV 2/3] END criterion=squared_error, max_depth=3, max_features=None, splitter=best;, score=-3.802 total time=   0.0s\n",
      "[CV 3/3] END criterion=squared_error, max_depth=3, max_features=None, splitter=best;, score=-2.252 total time=   0.0s\n",
      "[CV 1/3] END criterion=squared_error, max_depth=3, max_features=None, splitter=random;, score=-2.244 total time=   0.0s\n",
      "[CV 2/3] END criterion=squared_error, max_depth=3, max_features=None, splitter=random;, score=-3.815 total time=   0.0s\n",
      "[CV 3/3] END criterion=squared_error, max_depth=3, max_features=None, splitter=random;, score=-2.232 total time=   0.0s\n",
      "[CV 1/3] END criterion=squared_error, max_depth=5, max_features=auto, splitter=best;, score=-3.788 total time=   0.0s\n",
      "[CV 2/3] END criterion=squared_error, max_depth=5, max_features=auto, splitter=best;, score=-4.522 total time=   0.0s\n",
      "[CV 3/3] END criterion=squared_error, max_depth=5, max_features=auto, splitter=best;, score=-2.371 total time=   0.0s\n",
      "[CV 1/3] END criterion=squared_error, max_depth=5, max_features=auto, splitter=random;, score=-3.032 total time=   0.0s\n",
      "[CV 2/3] END criterion=squared_error, max_depth=5, max_features=auto, splitter=random;, score=-3.907 total time=   0.0s\n",
      "[CV 3/3] END criterion=squared_error, max_depth=5, max_features=auto, splitter=random;, score=-2.992 total time=   0.0s\n",
      "[CV 1/3] END criterion=squared_error, max_depth=5, max_features=log2, splitter=best;, score=-5.689 total time=   0.0s\n",
      "[CV 2/3] END criterion=squared_error, max_depth=5, max_features=log2, splitter=best;, score=-3.834 total time=   0.0s\n",
      "[CV 3/3] END criterion=squared_error, max_depth=5, max_features=log2, splitter=best;, score=-3.594 total time=   0.0s\n"
     ]
    },
    {
     "name": "stderr",
     "output_type": "stream",
     "text": [
      "/Users/akshayamahesh/opt/anaconda3/lib/python3.9/site-packages/sklearn/tree/_classes.py:306: FutureWarning: `max_features='auto'` has been deprecated in 1.1 and will be removed in 1.3. To keep the past behaviour, explicitly set `max_features=1.0'`.\n",
      "  warnings.warn(\n",
      "/Users/akshayamahesh/opt/anaconda3/lib/python3.9/site-packages/sklearn/tree/_classes.py:306: FutureWarning: `max_features='auto'` has been deprecated in 1.1 and will be removed in 1.3. To keep the past behaviour, explicitly set `max_features=1.0'`.\n",
      "  warnings.warn(\n",
      "/Users/akshayamahesh/opt/anaconda3/lib/python3.9/site-packages/sklearn/tree/_classes.py:306: FutureWarning: `max_features='auto'` has been deprecated in 1.1 and will be removed in 1.3. To keep the past behaviour, explicitly set `max_features=1.0'`.\n",
      "  warnings.warn(\n",
      "/Users/akshayamahesh/opt/anaconda3/lib/python3.9/site-packages/sklearn/tree/_classes.py:306: FutureWarning: `max_features='auto'` has been deprecated in 1.1 and will be removed in 1.3. To keep the past behaviour, explicitly set `max_features=1.0'`.\n",
      "  warnings.warn(\n",
      "/Users/akshayamahesh/opt/anaconda3/lib/python3.9/site-packages/sklearn/tree/_classes.py:306: FutureWarning: `max_features='auto'` has been deprecated in 1.1 and will be removed in 1.3. To keep the past behaviour, explicitly set `max_features=1.0'`.\n",
      "  warnings.warn(\n",
      "/Users/akshayamahesh/opt/anaconda3/lib/python3.9/site-packages/sklearn/tree/_classes.py:306: FutureWarning: `max_features='auto'` has been deprecated in 1.1 and will be removed in 1.3. To keep the past behaviour, explicitly set `max_features=1.0'`.\n",
      "  warnings.warn(\n",
      "/Users/akshayamahesh/opt/anaconda3/lib/python3.9/site-packages/sklearn/tree/_classes.py:306: FutureWarning: `max_features='auto'` has been deprecated in 1.1 and will be removed in 1.3. To keep the past behaviour, explicitly set `max_features=1.0'`.\n",
      "  warnings.warn(\n",
      "/Users/akshayamahesh/opt/anaconda3/lib/python3.9/site-packages/sklearn/tree/_classes.py:306: FutureWarning: `max_features='auto'` has been deprecated in 1.1 and will be removed in 1.3. To keep the past behaviour, explicitly set `max_features=1.0'`.\n",
      "  warnings.warn(\n",
      "/Users/akshayamahesh/opt/anaconda3/lib/python3.9/site-packages/sklearn/tree/_classes.py:306: FutureWarning: `max_features='auto'` has been deprecated in 1.1 and will be removed in 1.3. To keep the past behaviour, explicitly set `max_features=1.0'`.\n",
      "  warnings.warn(\n",
      "/Users/akshayamahesh/opt/anaconda3/lib/python3.9/site-packages/sklearn/tree/_classes.py:306: FutureWarning: `max_features='auto'` has been deprecated in 1.1 and will be removed in 1.3. To keep the past behaviour, explicitly set `max_features=1.0'`.\n",
      "  warnings.warn(\n",
      "/Users/akshayamahesh/opt/anaconda3/lib/python3.9/site-packages/sklearn/tree/_classes.py:306: FutureWarning: `max_features='auto'` has been deprecated in 1.1 and will be removed in 1.3. To keep the past behaviour, explicitly set `max_features=1.0'`.\n",
      "  warnings.warn(\n",
      "/Users/akshayamahesh/opt/anaconda3/lib/python3.9/site-packages/sklearn/tree/_classes.py:306: FutureWarning: `max_features='auto'` has been deprecated in 1.1 and will be removed in 1.3. To keep the past behaviour, explicitly set `max_features=1.0'`.\n",
      "  warnings.warn(\n",
      "/Users/akshayamahesh/opt/anaconda3/lib/python3.9/site-packages/sklearn/tree/_classes.py:306: FutureWarning: `max_features='auto'` has been deprecated in 1.1 and will be removed in 1.3. To keep the past behaviour, explicitly set `max_features=1.0'`.\n",
      "  warnings.warn(\n",
      "/Users/akshayamahesh/opt/anaconda3/lib/python3.9/site-packages/sklearn/tree/_classes.py:306: FutureWarning: `max_features='auto'` has been deprecated in 1.1 and will be removed in 1.3. To keep the past behaviour, explicitly set `max_features=1.0'`.\n",
      "  warnings.warn(\n",
      "/Users/akshayamahesh/opt/anaconda3/lib/python3.9/site-packages/sklearn/tree/_classes.py:306: FutureWarning: `max_features='auto'` has been deprecated in 1.1 and will be removed in 1.3. To keep the past behaviour, explicitly set `max_features=1.0'`.\n",
      "  warnings.warn(\n",
      "/Users/akshayamahesh/opt/anaconda3/lib/python3.9/site-packages/sklearn/tree/_classes.py:306: FutureWarning: `max_features='auto'` has been deprecated in 1.1 and will be removed in 1.3. To keep the past behaviour, explicitly set `max_features=1.0'`.\n",
      "  warnings.warn(\n",
      "/Users/akshayamahesh/opt/anaconda3/lib/python3.9/site-packages/sklearn/tree/_classes.py:306: FutureWarning: `max_features='auto'` has been deprecated in 1.1 and will be removed in 1.3. To keep the past behaviour, explicitly set `max_features=1.0'`.\n",
      "  warnings.warn(\n",
      "/Users/akshayamahesh/opt/anaconda3/lib/python3.9/site-packages/sklearn/tree/_classes.py:306: FutureWarning: `max_features='auto'` has been deprecated in 1.1 and will be removed in 1.3. To keep the past behaviour, explicitly set `max_features=1.0'`.\n",
      "  warnings.warn(\n"
     ]
    },
    {
     "name": "stdout",
     "output_type": "stream",
     "text": [
      "[CV 1/3] END criterion=squared_error, max_depth=5, max_features=log2, splitter=random;, score=-3.239 total time=   0.0s\n",
      "[CV 2/3] END criterion=squared_error, max_depth=5, max_features=log2, splitter=random;, score=-3.776 total time=   0.0s\n",
      "[CV 3/3] END criterion=squared_error, max_depth=5, max_features=log2, splitter=random;, score=-2.297 total time=   0.0s\n",
      "[CV 1/3] END criterion=squared_error, max_depth=5, max_features=sqrt, splitter=best;, score=-4.842 total time=   0.0s\n",
      "[CV 2/3] END criterion=squared_error, max_depth=5, max_features=sqrt, splitter=best;, score=-4.122 total time=   0.0s\n",
      "[CV 3/3] END criterion=squared_error, max_depth=5, max_features=sqrt, splitter=best;, score=-3.008 total time=   0.0s\n",
      "[CV 1/3] END criterion=squared_error, max_depth=5, max_features=sqrt, splitter=random;, score=-3.186 total time=   0.0s\n",
      "[CV 2/3] END criterion=squared_error, max_depth=5, max_features=sqrt, splitter=random;, score=-3.972 total time=   0.0s\n",
      "[CV 3/3] END criterion=squared_error, max_depth=5, max_features=sqrt, splitter=random;, score=-2.265 total time=   0.0s\n",
      "[CV 1/3] END criterion=squared_error, max_depth=5, max_features=None, splitter=best;, score=-3.888 total time=   0.0s\n",
      "[CV 2/3] END criterion=squared_error, max_depth=5, max_features=None, splitter=best;, score=-4.522 total time=   0.0s\n",
      "[CV 3/3] END criterion=squared_error, max_depth=5, max_features=None, splitter=best;, score=-2.371 total time=   0.0s\n",
      "[CV 1/3] END criterion=squared_error, max_depth=5, max_features=None, splitter=random;, score=-4.321 total time=   0.0s\n",
      "[CV 2/3] END criterion=squared_error, max_depth=5, max_features=None, splitter=random;, score=-4.002 total time=   0.0s\n",
      "[CV 3/3] END criterion=squared_error, max_depth=5, max_features=None, splitter=random;, score=-3.522 total time=   0.0s\n",
      "[CV 1/3] END criterion=squared_error, max_depth=7, max_features=auto, splitter=best;, score=-4.943 total time=   0.0s\n",
      "[CV 2/3] END criterion=squared_error, max_depth=7, max_features=auto, splitter=best;, score=-4.880 total time=   0.0s\n",
      "[CV 3/3] END criterion=squared_error, max_depth=7, max_features=auto, splitter=best;, score=-3.200 total time=   0.0s\n",
      "[CV 1/3] END criterion=squared_error, max_depth=7, max_features=auto, splitter=random;, score=-3.648 total time=   0.0s\n",
      "[CV 2/3] END criterion=squared_error, max_depth=7, max_features=auto, splitter=random;, score=-4.112 total time=   0.0s\n",
      "[CV 3/3] END criterion=squared_error, max_depth=7, max_features=auto, splitter=random;, score=-2.470 total time=   0.0s\n",
      "[CV 1/3] END criterion=squared_error, max_depth=7, max_features=log2, splitter=best;, score=-5.457 total time=   0.0s\n",
      "[CV 2/3] END criterion=squared_error, max_depth=7, max_features=log2, splitter=best;, score=-3.987 total time=   0.0s\n",
      "[CV 3/3] END criterion=squared_error, max_depth=7, max_features=log2, splitter=best;, score=-3.094 total time=   0.0s\n",
      "[CV 1/3] END criterion=squared_error, max_depth=7, max_features=log2, splitter=random;, score=-2.839 total time=   0.0s\n",
      "[CV 2/3] END criterion=squared_error, max_depth=7, max_features=log2, splitter=random;, score=-3.781 total time=   0.0s\n",
      "[CV 3/3] END criterion=squared_error, max_depth=7, max_features=log2, splitter=random;, score=-2.337 total time=   0.0s\n",
      "[CV 1/3] END criterion=squared_error, max_depth=7, max_features=sqrt, splitter=best;, score=-5.542 total time=   0.0s\n",
      "[CV 2/3] END criterion=squared_error, max_depth=7, max_features=sqrt, splitter=best;, score=-4.437 total time=   0.0s\n",
      "[CV 3/3] END criterion=squared_error, max_depth=7, max_features=sqrt, splitter=best;, score=-2.517 total time=   0.0s\n",
      "[CV 1/3] END criterion=squared_error, max_depth=7, max_features=sqrt, splitter=random;, score=-2.768 total time=   0.0s\n",
      "[CV 2/3] END criterion=squared_error, max_depth=7, max_features=sqrt, splitter=random;, score=-3.778 total time=   0.0s\n",
      "[CV 3/3] END criterion=squared_error, max_depth=7, max_features=sqrt, splitter=random;, score=-3.152 total time=   0.0s\n",
      "[CV 1/3] END criterion=squared_error, max_depth=7, max_features=None, splitter=best;, score=-5.122 total time=   0.0s\n",
      "[CV 2/3] END criterion=squared_error, max_depth=7, max_features=None, splitter=best;, score=-4.790 total time=   0.0s\n",
      "[CV 3/3] END criterion=squared_error, max_depth=7, max_features=None, splitter=best;, score=-3.193 total time=   0.0s\n",
      "[CV 1/3] END criterion=squared_error, max_depth=7, max_features=None, splitter=random;, score=-3.523 total time=   0.0s\n",
      "[CV 2/3] END criterion=squared_error, max_depth=7, max_features=None, splitter=random;, score=-4.461 total time=   0.0s\n",
      "[CV 3/3] END criterion=squared_error, max_depth=7, max_features=None, splitter=random;, score=-3.453 total time=   0.0s\n",
      "[CV 1/3] END criterion=friedman_mse, max_depth=1, max_features=auto, splitter=best;, score=-2.642 total time=   0.0s\n",
      "[CV 2/3] END criterion=friedman_mse, max_depth=1, max_features=auto, splitter=best;, score=-3.511 total time=   0.0s\n",
      "[CV 3/3] END criterion=friedman_mse, max_depth=1, max_features=auto, splitter=best;, score=-2.229 total time=   0.0s\n",
      "[CV 1/3] END criterion=friedman_mse, max_depth=1, max_features=auto, splitter=random;, score=-2.133 total time=   0.0s\n",
      "[CV 2/3] END criterion=friedman_mse, max_depth=1, max_features=auto, splitter=random;, score=-3.311 total time=   0.0s\n",
      "[CV 3/3] END criterion=friedman_mse, max_depth=1, max_features=auto, splitter=random;, score=-2.237 total time=   0.0s\n",
      "[CV 1/3] END criterion=friedman_mse, max_depth=1, max_features=log2, splitter=best;, score=-2.239 total time=   0.0s\n",
      "[CV 2/3] END criterion=friedman_mse, max_depth=1, max_features=log2, splitter=best;, score=-3.361 total time=   0.0s\n",
      "[CV 3/3] END criterion=friedman_mse, max_depth=1, max_features=log2, splitter=best;, score=-2.229 total time=   0.0s\n",
      "[CV 1/3] END criterion=friedman_mse, max_depth=1, max_features=log2, splitter=random;, score=-2.132 total time=   0.0s\n",
      "[CV 2/3] END criterion=friedman_mse, max_depth=1, max_features=log2, splitter=random;, score=-3.327 total time=   0.0s\n",
      "[CV 3/3] END criterion=friedman_mse, max_depth=1, max_features=log2, splitter=random;, score=-2.182 total time=   0.0s\n",
      "[CV 1/3] END criterion=friedman_mse, max_depth=1, max_features=sqrt, splitter=best;, score=-2.239 total time=   0.0s\n",
      "[CV 2/3] END criterion=friedman_mse, max_depth=1, max_features=sqrt, splitter=best;, score=-3.448 total time=   0.0s\n",
      "[CV 3/3] END criterion=friedman_mse, max_depth=1, max_features=sqrt, splitter=best;, score=-2.232 total time=   0.0s\n",
      "[CV 1/3] END criterion=friedman_mse, max_depth=1, max_features=sqrt, splitter=random;, score=-2.162 total time=   0.0s\n",
      "[CV 2/3] END criterion=friedman_mse, max_depth=1, max_features=sqrt, splitter=random;, score=-3.323 total time=   0.0s\n",
      "[CV 3/3] END criterion=friedman_mse, max_depth=1, max_features=sqrt, splitter=random;, score=-2.229 total time=   0.0s\n",
      "[CV 1/3] END criterion=friedman_mse, max_depth=1, max_features=None, splitter=best;, score=-2.642 total time=   0.0s\n",
      "[CV 2/3] END criterion=friedman_mse, max_depth=1, max_features=None, splitter=best;, score=-3.511 total time=   0.0s\n",
      "[CV 3/3] END criterion=friedman_mse, max_depth=1, max_features=None, splitter=best;, score=-2.229 total time=   0.0s\n",
      "[CV 1/3] END criterion=friedman_mse, max_depth=1, max_features=None, splitter=random;, score=-2.464 total time=   0.0s\n",
      "[CV 2/3] END criterion=friedman_mse, max_depth=1, max_features=None, splitter=random;, score=-3.564 total time=   0.0s\n"
     ]
    },
    {
     "name": "stderr",
     "output_type": "stream",
     "text": [
      "/Users/akshayamahesh/opt/anaconda3/lib/python3.9/site-packages/sklearn/tree/_classes.py:306: FutureWarning: `max_features='auto'` has been deprecated in 1.1 and will be removed in 1.3. To keep the past behaviour, explicitly set `max_features=1.0'`.\n",
      "  warnings.warn(\n",
      "/Users/akshayamahesh/opt/anaconda3/lib/python3.9/site-packages/sklearn/tree/_classes.py:306: FutureWarning: `max_features='auto'` has been deprecated in 1.1 and will be removed in 1.3. To keep the past behaviour, explicitly set `max_features=1.0'`.\n",
      "  warnings.warn(\n",
      "/Users/akshayamahesh/opt/anaconda3/lib/python3.9/site-packages/sklearn/tree/_classes.py:306: FutureWarning: `max_features='auto'` has been deprecated in 1.1 and will be removed in 1.3. To keep the past behaviour, explicitly set `max_features=1.0'`.\n",
      "  warnings.warn(\n",
      "/Users/akshayamahesh/opt/anaconda3/lib/python3.9/site-packages/sklearn/tree/_classes.py:306: FutureWarning: `max_features='auto'` has been deprecated in 1.1 and will be removed in 1.3. To keep the past behaviour, explicitly set `max_features=1.0'`.\n",
      "  warnings.warn(\n",
      "/Users/akshayamahesh/opt/anaconda3/lib/python3.9/site-packages/sklearn/tree/_classes.py:306: FutureWarning: `max_features='auto'` has been deprecated in 1.1 and will be removed in 1.3. To keep the past behaviour, explicitly set `max_features=1.0'`.\n",
      "  warnings.warn(\n",
      "/Users/akshayamahesh/opt/anaconda3/lib/python3.9/site-packages/sklearn/tree/_classes.py:306: FutureWarning: `max_features='auto'` has been deprecated in 1.1 and will be removed in 1.3. To keep the past behaviour, explicitly set `max_features=1.0'`.\n",
      "  warnings.warn(\n",
      "/Users/akshayamahesh/opt/anaconda3/lib/python3.9/site-packages/sklearn/tree/_classes.py:306: FutureWarning: `max_features='auto'` has been deprecated in 1.1 and will be removed in 1.3. To keep the past behaviour, explicitly set `max_features=1.0'`.\n",
      "  warnings.warn(\n",
      "/Users/akshayamahesh/opt/anaconda3/lib/python3.9/site-packages/sklearn/tree/_classes.py:306: FutureWarning: `max_features='auto'` has been deprecated in 1.1 and will be removed in 1.3. To keep the past behaviour, explicitly set `max_features=1.0'`.\n",
      "  warnings.warn(\n",
      "/Users/akshayamahesh/opt/anaconda3/lib/python3.9/site-packages/sklearn/tree/_classes.py:306: FutureWarning: `max_features='auto'` has been deprecated in 1.1 and will be removed in 1.3. To keep the past behaviour, explicitly set `max_features=1.0'`.\n",
      "  warnings.warn(\n",
      "/Users/akshayamahesh/opt/anaconda3/lib/python3.9/site-packages/sklearn/tree/_classes.py:306: FutureWarning: `max_features='auto'` has been deprecated in 1.1 and will be removed in 1.3. To keep the past behaviour, explicitly set `max_features=1.0'`.\n",
      "  warnings.warn(\n",
      "/Users/akshayamahesh/opt/anaconda3/lib/python3.9/site-packages/sklearn/tree/_classes.py:306: FutureWarning: `max_features='auto'` has been deprecated in 1.1 and will be removed in 1.3. To keep the past behaviour, explicitly set `max_features=1.0'`.\n",
      "  warnings.warn(\n",
      "/Users/akshayamahesh/opt/anaconda3/lib/python3.9/site-packages/sklearn/tree/_classes.py:306: FutureWarning: `max_features='auto'` has been deprecated in 1.1 and will be removed in 1.3. To keep the past behaviour, explicitly set `max_features=1.0'`.\n",
      "  warnings.warn(\n",
      "/Users/akshayamahesh/opt/anaconda3/lib/python3.9/site-packages/sklearn/tree/_classes.py:306: FutureWarning: `max_features='auto'` has been deprecated in 1.1 and will be removed in 1.3. To keep the past behaviour, explicitly set `max_features=1.0'`.\n",
      "  warnings.warn(\n",
      "/Users/akshayamahesh/opt/anaconda3/lib/python3.9/site-packages/sklearn/tree/_classes.py:306: FutureWarning: `max_features='auto'` has been deprecated in 1.1 and will be removed in 1.3. To keep the past behaviour, explicitly set `max_features=1.0'`.\n",
      "  warnings.warn(\n",
      "/Users/akshayamahesh/opt/anaconda3/lib/python3.9/site-packages/sklearn/tree/_classes.py:306: FutureWarning: `max_features='auto'` has been deprecated in 1.1 and will be removed in 1.3. To keep the past behaviour, explicitly set `max_features=1.0'`.\n",
      "  warnings.warn(\n",
      "/Users/akshayamahesh/opt/anaconda3/lib/python3.9/site-packages/sklearn/tree/_classes.py:306: FutureWarning: `max_features='auto'` has been deprecated in 1.1 and will be removed in 1.3. To keep the past behaviour, explicitly set `max_features=1.0'`.\n",
      "  warnings.warn(\n",
      "/Users/akshayamahesh/opt/anaconda3/lib/python3.9/site-packages/sklearn/tree/_classes.py:306: FutureWarning: `max_features='auto'` has been deprecated in 1.1 and will be removed in 1.3. To keep the past behaviour, explicitly set `max_features=1.0'`.\n",
      "  warnings.warn(\n",
      "/Users/akshayamahesh/opt/anaconda3/lib/python3.9/site-packages/sklearn/tree/_classes.py:306: FutureWarning: `max_features='auto'` has been deprecated in 1.1 and will be removed in 1.3. To keep the past behaviour, explicitly set `max_features=1.0'`.\n",
      "  warnings.warn(\n"
     ]
    },
    {
     "name": "stdout",
     "output_type": "stream",
     "text": [
      "[CV 3/3] END criterion=friedman_mse, max_depth=1, max_features=None, splitter=random;, score=-2.263 total time=   0.0s\n",
      "[CV 1/3] END criterion=friedman_mse, max_depth=3, max_features=auto, splitter=best;, score=-3.192 total time=   0.0s\n",
      "[CV 2/3] END criterion=friedman_mse, max_depth=3, max_features=auto, splitter=best;, score=-3.802 total time=   0.0s\n",
      "[CV 3/3] END criterion=friedman_mse, max_depth=3, max_features=auto, splitter=best;, score=-2.252 total time=   0.0s\n",
      "[CV 1/3] END criterion=friedman_mse, max_depth=3, max_features=auto, splitter=random;, score=-2.778 total time=   0.0s\n",
      "[CV 2/3] END criterion=friedman_mse, max_depth=3, max_features=auto, splitter=random;, score=-3.735 total time=   0.0s\n",
      "[CV 3/3] END criterion=friedman_mse, max_depth=3, max_features=auto, splitter=random;, score=-2.236 total time=   0.0s\n",
      "[CV 1/3] END criterion=friedman_mse, max_depth=3, max_features=log2, splitter=best;, score=-3.594 total time=   0.0s\n",
      "[CV 2/3] END criterion=friedman_mse, max_depth=3, max_features=log2, splitter=best;, score=-3.765 total time=   0.0s\n",
      "[CV 3/3] END criterion=friedman_mse, max_depth=3, max_features=log2, splitter=best;, score=-2.351 total time=   0.0s\n",
      "[CV 1/3] END criterion=friedman_mse, max_depth=3, max_features=log2, splitter=random;, score=-2.338 total time=   0.0s\n",
      "[CV 2/3] END criterion=friedman_mse, max_depth=3, max_features=log2, splitter=random;, score=-3.477 total time=   0.0s\n",
      "[CV 3/3] END criterion=friedman_mse, max_depth=3, max_features=log2, splitter=random;, score=-2.230 total time=   0.0s\n",
      "[CV 1/3] END criterion=friedman_mse, max_depth=3, max_features=sqrt, splitter=best;, score=-3.032 total time=   0.0s\n",
      "[CV 2/3] END criterion=friedman_mse, max_depth=3, max_features=sqrt, splitter=best;, score=-3.619 total time=   0.0s\n",
      "[CV 3/3] END criterion=friedman_mse, max_depth=3, max_features=sqrt, splitter=best;, score=-2.355 total time=   0.0s\n",
      "[CV 1/3] END criterion=friedman_mse, max_depth=3, max_features=sqrt, splitter=random;, score=-2.504 total time=   0.0s\n",
      "[CV 2/3] END criterion=friedman_mse, max_depth=3, max_features=sqrt, splitter=random;, score=-3.598 total time=   0.0s\n",
      "[CV 3/3] END criterion=friedman_mse, max_depth=3, max_features=sqrt, splitter=random;, score=-2.234 total time=   0.0s\n",
      "[CV 1/3] END criterion=friedman_mse, max_depth=3, max_features=None, splitter=best;, score=-3.192 total time=   0.0s\n",
      "[CV 2/3] END criterion=friedman_mse, max_depth=3, max_features=None, splitter=best;, score=-3.813 total time=   0.0s\n",
      "[CV 3/3] END criterion=friedman_mse, max_depth=3, max_features=None, splitter=best;, score=-2.252 total time=   0.0s\n",
      "[CV 1/3] END criterion=friedman_mse, max_depth=3, max_features=None, splitter=random;, score=-2.344 total time=   0.0s\n",
      "[CV 2/3] END criterion=friedman_mse, max_depth=3, max_features=None, splitter=random;, score=-3.731 total time=   0.0s\n",
      "[CV 3/3] END criterion=friedman_mse, max_depth=3, max_features=None, splitter=random;, score=-2.294 total time=   0.0s\n",
      "[CV 1/3] END criterion=friedman_mse, max_depth=5, max_features=auto, splitter=best;, score=-3.902 total time=   0.0s\n",
      "[CV 2/3] END criterion=friedman_mse, max_depth=5, max_features=auto, splitter=best;, score=-4.522 total time=   0.0s\n",
      "[CV 3/3] END criterion=friedman_mse, max_depth=5, max_features=auto, splitter=best;, score=-2.371 total time=   0.0s\n",
      "[CV 1/3] END criterion=friedman_mse, max_depth=5, max_features=auto, splitter=random;, score=-3.189 total time=   0.0s\n",
      "[CV 2/3] END criterion=friedman_mse, max_depth=5, max_features=auto, splitter=random;, score=-3.909 total time=   0.0s\n",
      "[CV 3/3] END criterion=friedman_mse, max_depth=5, max_features=auto, splitter=random;, score=-2.439 total time=   0.0s\n",
      "[CV 1/3] END criterion=friedman_mse, max_depth=5, max_features=log2, splitter=best;, score=-4.253 total time=   0.0s\n",
      "[CV 2/3] END criterion=friedman_mse, max_depth=5, max_features=log2, splitter=best;, score=-4.316 total time=   0.0s\n",
      "[CV 3/3] END criterion=friedman_mse, max_depth=5, max_features=log2, splitter=best;, score=-2.401 total time=   0.0s\n",
      "[CV 1/3] END criterion=friedman_mse, max_depth=5, max_features=log2, splitter=random;, score=-3.791 total time=   0.0s\n",
      "[CV 2/3] END criterion=friedman_mse, max_depth=5, max_features=log2, splitter=random;, score=-3.893 total time=   0.0s\n",
      "[CV 3/3] END criterion=friedman_mse, max_depth=5, max_features=log2, splitter=random;, score=-2.884 total time=   0.0s\n",
      "[CV 1/3] END criterion=friedman_mse, max_depth=5, max_features=sqrt, splitter=best;, score=-5.263 total time=   0.0s\n",
      "[CV 2/3] END criterion=friedman_mse, max_depth=5, max_features=sqrt, splitter=best;, score=-4.464 total time=   0.0s\n",
      "[CV 3/3] END criterion=friedman_mse, max_depth=5, max_features=sqrt, splitter=best;, score=-2.378 total time=   0.0s\n",
      "[CV 1/3] END criterion=friedman_mse, max_depth=5, max_features=sqrt, splitter=random;, score=-3.448 total time=   0.0s\n",
      "[CV 2/3] END criterion=friedman_mse, max_depth=5, max_features=sqrt, splitter=random;, score=-3.709 total time=   0.0s\n",
      "[CV 3/3] END criterion=friedman_mse, max_depth=5, max_features=sqrt, splitter=random;, score=-2.322 total time=   0.0s\n",
      "[CV 1/3] END criterion=friedman_mse, max_depth=5, max_features=None, splitter=best;, score=-3.929 total time=   0.0s\n",
      "[CV 2/3] END criterion=friedman_mse, max_depth=5, max_features=None, splitter=best;, score=-4.522 total time=   0.0s\n",
      "[CV 3/3] END criterion=friedman_mse, max_depth=5, max_features=None, splitter=best;, score=-2.371 total time=   0.0s\n",
      "[CV 1/3] END criterion=friedman_mse, max_depth=5, max_features=None, splitter=random;, score=-2.985 total time=   0.0s\n",
      "[CV 2/3] END criterion=friedman_mse, max_depth=5, max_features=None, splitter=random;, score=-3.693 total time=   0.0s\n",
      "[CV 3/3] END criterion=friedman_mse, max_depth=5, max_features=None, splitter=random;, score=-2.644 total time=   0.0s\n",
      "[CV 1/3] END criterion=friedman_mse, max_depth=7, max_features=auto, splitter=best;, score=-5.018 total time=   0.0s\n",
      "[CV 2/3] END criterion=friedman_mse, max_depth=7, max_features=auto, splitter=best;, score=-4.793 total time=   0.0s\n",
      "[CV 3/3] END criterion=friedman_mse, max_depth=7, max_features=auto, splitter=best;, score=-3.373 total time=   0.0s\n",
      "[CV 1/3] END criterion=friedman_mse, max_depth=7, max_features=auto, splitter=random;, score=-5.948 total time=   0.0s\n",
      "[CV 2/3] END criterion=friedman_mse, max_depth=7, max_features=auto, splitter=random;, score=-5.123 total time=   0.0s\n",
      "[CV 3/3] END criterion=friedman_mse, max_depth=7, max_features=auto, splitter=random;, score=-3.000 total time=   0.0s\n",
      "[CV 1/3] END criterion=friedman_mse, max_depth=7, max_features=log2, splitter=best;, score=-6.755 total time=   0.0s\n",
      "[CV 2/3] END criterion=friedman_mse, max_depth=7, max_features=log2, splitter=best;, score=-4.616 total time=   0.0s\n",
      "[CV 3/3] END criterion=friedman_mse, max_depth=7, max_features=log2, splitter=best;, score=-3.101 total time=   0.0s\n",
      "[CV 1/3] END criterion=friedman_mse, max_depth=7, max_features=log2, splitter=random;, score=-3.721 total time=   0.0s\n",
      "[CV 2/3] END criterion=friedman_mse, max_depth=7, max_features=log2, splitter=random;, score=-4.416 total time=   0.0s\n",
      "[CV 3/3] END criterion=friedman_mse, max_depth=7, max_features=log2, splitter=random;, score=-2.421 total time=   0.0s\n"
     ]
    },
    {
     "name": "stderr",
     "output_type": "stream",
     "text": [
      "/Users/akshayamahesh/opt/anaconda3/lib/python3.9/site-packages/sklearn/tree/_classes.py:306: FutureWarning: `max_features='auto'` has been deprecated in 1.1 and will be removed in 1.3. To keep the past behaviour, explicitly set `max_features=1.0'`.\n",
      "  warnings.warn(\n",
      "/Users/akshayamahesh/opt/anaconda3/lib/python3.9/site-packages/sklearn/tree/_classes.py:306: FutureWarning: `max_features='auto'` has been deprecated in 1.1 and will be removed in 1.3. To keep the past behaviour, explicitly set `max_features=1.0'`.\n",
      "  warnings.warn(\n",
      "/Users/akshayamahesh/opt/anaconda3/lib/python3.9/site-packages/sklearn/tree/_classes.py:306: FutureWarning: `max_features='auto'` has been deprecated in 1.1 and will be removed in 1.3. To keep the past behaviour, explicitly set `max_features=1.0'`.\n",
      "  warnings.warn(\n",
      "/Users/akshayamahesh/opt/anaconda3/lib/python3.9/site-packages/sklearn/tree/_classes.py:306: FutureWarning: `max_features='auto'` has been deprecated in 1.1 and will be removed in 1.3. To keep the past behaviour, explicitly set `max_features=1.0'`.\n",
      "  warnings.warn(\n",
      "/Users/akshayamahesh/opt/anaconda3/lib/python3.9/site-packages/sklearn/tree/_classes.py:306: FutureWarning: `max_features='auto'` has been deprecated in 1.1 and will be removed in 1.3. To keep the past behaviour, explicitly set `max_features=1.0'`.\n",
      "  warnings.warn(\n",
      "/Users/akshayamahesh/opt/anaconda3/lib/python3.9/site-packages/sklearn/tree/_classes.py:306: FutureWarning: `max_features='auto'` has been deprecated in 1.1 and will be removed in 1.3. To keep the past behaviour, explicitly set `max_features=1.0'`.\n",
      "  warnings.warn(\n",
      "/Users/akshayamahesh/opt/anaconda3/lib/python3.9/site-packages/sklearn/tree/_classes.py:306: FutureWarning: `max_features='auto'` has been deprecated in 1.1 and will be removed in 1.3. To keep the past behaviour, explicitly set `max_features=1.0'`.\n",
      "  warnings.warn(\n",
      "/Users/akshayamahesh/opt/anaconda3/lib/python3.9/site-packages/sklearn/tree/_classes.py:306: FutureWarning: `max_features='auto'` has been deprecated in 1.1 and will be removed in 1.3. To keep the past behaviour, explicitly set `max_features=1.0'`.\n",
      "  warnings.warn(\n",
      "/Users/akshayamahesh/opt/anaconda3/lib/python3.9/site-packages/sklearn/tree/_classes.py:306: FutureWarning: `max_features='auto'` has been deprecated in 1.1 and will be removed in 1.3. To keep the past behaviour, explicitly set `max_features=1.0'`.\n",
      "  warnings.warn(\n",
      "/Users/akshayamahesh/opt/anaconda3/lib/python3.9/site-packages/sklearn/tree/_classes.py:306: FutureWarning: `max_features='auto'` has been deprecated in 1.1 and will be removed in 1.3. To keep the past behaviour, explicitly set `max_features=1.0'`.\n",
      "  warnings.warn(\n",
      "/Users/akshayamahesh/opt/anaconda3/lib/python3.9/site-packages/sklearn/tree/_classes.py:306: FutureWarning: `max_features='auto'` has been deprecated in 1.1 and will be removed in 1.3. To keep the past behaviour, explicitly set `max_features=1.0'`.\n",
      "  warnings.warn(\n",
      "/Users/akshayamahesh/opt/anaconda3/lib/python3.9/site-packages/sklearn/tree/_classes.py:306: FutureWarning: `max_features='auto'` has been deprecated in 1.1 and will be removed in 1.3. To keep the past behaviour, explicitly set `max_features=1.0'`.\n",
      "  warnings.warn(\n",
      "/Users/akshayamahesh/opt/anaconda3/lib/python3.9/site-packages/sklearn/tree/_classes.py:306: FutureWarning: `max_features='auto'` has been deprecated in 1.1 and will be removed in 1.3. To keep the past behaviour, explicitly set `max_features=1.0'`.\n",
      "  warnings.warn(\n",
      "/Users/akshayamahesh/opt/anaconda3/lib/python3.9/site-packages/sklearn/tree/_classes.py:306: FutureWarning: `max_features='auto'` has been deprecated in 1.1 and will be removed in 1.3. To keep the past behaviour, explicitly set `max_features=1.0'`.\n",
      "  warnings.warn(\n",
      "/Users/akshayamahesh/opt/anaconda3/lib/python3.9/site-packages/sklearn/tree/_classes.py:306: FutureWarning: `max_features='auto'` has been deprecated in 1.1 and will be removed in 1.3. To keep the past behaviour, explicitly set `max_features=1.0'`.\n",
      "  warnings.warn(\n",
      "/Users/akshayamahesh/opt/anaconda3/lib/python3.9/site-packages/sklearn/tree/_classes.py:306: FutureWarning: `max_features='auto'` has been deprecated in 1.1 and will be removed in 1.3. To keep the past behaviour, explicitly set `max_features=1.0'`.\n",
      "  warnings.warn(\n",
      "/Users/akshayamahesh/opt/anaconda3/lib/python3.9/site-packages/sklearn/tree/_classes.py:306: FutureWarning: `max_features='auto'` has been deprecated in 1.1 and will be removed in 1.3. To keep the past behaviour, explicitly set `max_features=1.0'`.\n",
      "  warnings.warn(\n",
      "/Users/akshayamahesh/opt/anaconda3/lib/python3.9/site-packages/sklearn/tree/_classes.py:306: FutureWarning: `max_features='auto'` has been deprecated in 1.1 and will be removed in 1.3. To keep the past behaviour, explicitly set `max_features=1.0'`.\n",
      "  warnings.warn(\n"
     ]
    },
    {
     "name": "stdout",
     "output_type": "stream",
     "text": [
      "[CV 1/3] END criterion=friedman_mse, max_depth=7, max_features=sqrt, splitter=best;, score=-6.483 total time=   0.0s\n",
      "[CV 2/3] END criterion=friedman_mse, max_depth=7, max_features=sqrt, splitter=best;, score=-4.818 total time=   0.0s\n",
      "[CV 3/3] END criterion=friedman_mse, max_depth=7, max_features=sqrt, splitter=best;, score=-4.411 total time=   0.0s\n",
      "[CV 1/3] END criterion=friedman_mse, max_depth=7, max_features=sqrt, splitter=random;, score=-3.315 total time=   0.0s\n",
      "[CV 2/3] END criterion=friedman_mse, max_depth=7, max_features=sqrt, splitter=random;, score=-4.192 total time=   0.0s\n",
      "[CV 3/3] END criterion=friedman_mse, max_depth=7, max_features=sqrt, splitter=random;, score=-2.230 total time=   0.0s\n",
      "[CV 1/3] END criterion=friedman_mse, max_depth=7, max_features=None, splitter=best;, score=-5.016 total time=   0.0s\n",
      "[CV 2/3] END criterion=friedman_mse, max_depth=7, max_features=None, splitter=best;, score=-4.868 total time=   0.0s\n",
      "[CV 3/3] END criterion=friedman_mse, max_depth=7, max_features=None, splitter=best;, score=-3.193 total time=   0.0s\n",
      "[CV 1/3] END criterion=friedman_mse, max_depth=7, max_features=None, splitter=random;, score=-4.147 total time=   0.0s\n",
      "[CV 2/3] END criterion=friedman_mse, max_depth=7, max_features=None, splitter=random;, score=-4.259 total time=   0.0s\n",
      "[CV 3/3] END criterion=friedman_mse, max_depth=7, max_features=None, splitter=random;, score=-2.861 total time=   0.0s\n",
      "[CV 1/3] END criterion=absolute_error, max_depth=1, max_features=auto, splitter=best;, score=-2.778 total time=   0.0s\n",
      "[CV 2/3] END criterion=absolute_error, max_depth=1, max_features=auto, splitter=best;, score=-5.296 total time=   0.0s\n",
      "[CV 3/3] END criterion=absolute_error, max_depth=1, max_features=auto, splitter=best;, score=-3.856 total time=   0.0s\n",
      "[CV 1/3] END criterion=absolute_error, max_depth=1, max_features=auto, splitter=random;, score=-1.750 total time=   0.0s\n",
      "[CV 2/3] END criterion=absolute_error, max_depth=1, max_features=auto, splitter=random;, score=-4.993 total time=   0.0s\n",
      "[CV 3/3] END criterion=absolute_error, max_depth=1, max_features=auto, splitter=random;, score=-3.895 total time=   0.0s\n",
      "[CV 1/3] END criterion=absolute_error, max_depth=1, max_features=log2, splitter=best;, score=-2.064 total time=   0.0s\n",
      "[CV 2/3] END criterion=absolute_error, max_depth=1, max_features=log2, splitter=best;, score=-5.505 total time=   0.0s\n",
      "[CV 3/3] END criterion=absolute_error, max_depth=1, max_features=log2, splitter=best;, score=-3.472 total time=   0.0s\n",
      "[CV 1/3] END criterion=absolute_error, max_depth=1, max_features=log2, splitter=random;, score=-1.721 total time=   0.0s\n",
      "[CV 2/3] END criterion=absolute_error, max_depth=1, max_features=log2, splitter=random;, score=-5.505 total time=   0.0s\n",
      "[CV 3/3] END criterion=absolute_error, max_depth=1, max_features=log2, splitter=random;, score=-3.707 total time=   0.0s\n",
      "[CV 1/3] END criterion=absolute_error, max_depth=1, max_features=sqrt, splitter=best;, score=-2.009 total time=   0.0s\n",
      "[CV 2/3] END criterion=absolute_error, max_depth=1, max_features=sqrt, splitter=best;, score=-5.296 total time=   0.0s\n",
      "[CV 3/3] END criterion=absolute_error, max_depth=1, max_features=sqrt, splitter=best;, score=-3.895 total time=   0.0s\n",
      "[CV 1/3] END criterion=absolute_error, max_depth=1, max_features=sqrt, splitter=random;, score=-1.853 total time=   0.0s\n",
      "[CV 2/3] END criterion=absolute_error, max_depth=1, max_features=sqrt, splitter=random;, score=-5.499 total time=   0.0s\n",
      "[CV 3/3] END criterion=absolute_error, max_depth=1, max_features=sqrt, splitter=random;, score=-3.895 total time=   0.0s\n",
      "[CV 1/3] END criterion=absolute_error, max_depth=1, max_features=None, splitter=best;, score=-2.778 total time=   0.0s\n",
      "[CV 2/3] END criterion=absolute_error, max_depth=1, max_features=None, splitter=best;, score=-5.296 total time=   0.0s\n",
      "[CV 3/3] END criterion=absolute_error, max_depth=1, max_features=None, splitter=best;, score=-3.856 total time=   0.0s\n",
      "[CV 1/3] END criterion=absolute_error, max_depth=1, max_features=None, splitter=random;, score=-1.839 total time=   0.0s\n",
      "[CV 2/3] END criterion=absolute_error, max_depth=1, max_features=None, splitter=random;, score=-5.505 total time=   0.0s\n",
      "[CV 3/3] END criterion=absolute_error, max_depth=1, max_features=None, splitter=random;, score=-3.930 total time=   0.0s\n",
      "[CV 1/3] END criterion=absolute_error, max_depth=3, max_features=auto, splitter=best;, score=-3.419 total time=   0.0s\n",
      "[CV 2/3] END criterion=absolute_error, max_depth=3, max_features=auto, splitter=best;, score=-4.960 total time=   0.0s\n"
     ]
    },
    {
     "name": "stderr",
     "output_type": "stream",
     "text": [
      "/Users/akshayamahesh/opt/anaconda3/lib/python3.9/site-packages/sklearn/tree/_classes.py:306: FutureWarning: `max_features='auto'` has been deprecated in 1.1 and will be removed in 1.3. To keep the past behaviour, explicitly set `max_features=1.0'`.\n",
      "  warnings.warn(\n",
      "/Users/akshayamahesh/opt/anaconda3/lib/python3.9/site-packages/sklearn/tree/_classes.py:306: FutureWarning: `max_features='auto'` has been deprecated in 1.1 and will be removed in 1.3. To keep the past behaviour, explicitly set `max_features=1.0'`.\n",
      "  warnings.warn(\n",
      "/Users/akshayamahesh/opt/anaconda3/lib/python3.9/site-packages/sklearn/tree/_classes.py:306: FutureWarning: `max_features='auto'` has been deprecated in 1.1 and will be removed in 1.3. To keep the past behaviour, explicitly set `max_features=1.0'`.\n",
      "  warnings.warn(\n",
      "/Users/akshayamahesh/opt/anaconda3/lib/python3.9/site-packages/sklearn/tree/_classes.py:306: FutureWarning: `max_features='auto'` has been deprecated in 1.1 and will be removed in 1.3. To keep the past behaviour, explicitly set `max_features=1.0'`.\n",
      "  warnings.warn(\n",
      "/Users/akshayamahesh/opt/anaconda3/lib/python3.9/site-packages/sklearn/tree/_classes.py:306: FutureWarning: `max_features='auto'` has been deprecated in 1.1 and will be removed in 1.3. To keep the past behaviour, explicitly set `max_features=1.0'`.\n",
      "  warnings.warn(\n",
      "/Users/akshayamahesh/opt/anaconda3/lib/python3.9/site-packages/sklearn/tree/_classes.py:306: FutureWarning: `max_features='auto'` has been deprecated in 1.1 and will be removed in 1.3. To keep the past behaviour, explicitly set `max_features=1.0'`.\n",
      "  warnings.warn(\n",
      "/Users/akshayamahesh/opt/anaconda3/lib/python3.9/site-packages/sklearn/tree/_classes.py:306: FutureWarning: `max_features='auto'` has been deprecated in 1.1 and will be removed in 1.3. To keep the past behaviour, explicitly set `max_features=1.0'`.\n",
      "  warnings.warn(\n"
     ]
    },
    {
     "name": "stdout",
     "output_type": "stream",
     "text": [
      "[CV 3/3] END criterion=absolute_error, max_depth=3, max_features=auto, splitter=best;, score=-3.670 total time=   0.0s\n",
      "[CV 1/3] END criterion=absolute_error, max_depth=3, max_features=auto, splitter=random;, score=-2.066 total time=   0.0s\n",
      "[CV 2/3] END criterion=absolute_error, max_depth=3, max_features=auto, splitter=random;, score=-5.307 total time=   0.0s\n",
      "[CV 3/3] END criterion=absolute_error, max_depth=3, max_features=auto, splitter=random;, score=-3.296 total time=   0.0s\n",
      "[CV 1/3] END criterion=absolute_error, max_depth=3, max_features=log2, splitter=best;, score=-3.419 total time=   0.0s\n",
      "[CV 2/3] END criterion=absolute_error, max_depth=3, max_features=log2, splitter=best;, score=-5.159 total time=   0.0s\n",
      "[CV 3/3] END criterion=absolute_error, max_depth=3, max_features=log2, splitter=best;, score=-2.958 total time=   0.0s\n",
      "[CV 1/3] END criterion=absolute_error, max_depth=3, max_features=log2, splitter=random;, score=-1.810 total time=   0.0s\n",
      "[CV 2/3] END criterion=absolute_error, max_depth=3, max_features=log2, splitter=random;, score=-5.505 total time=   0.0s\n",
      "[CV 3/3] END criterion=absolute_error, max_depth=3, max_features=log2, splitter=random;, score=-3.315 total time=   0.0s\n",
      "[CV 1/3] END criterion=absolute_error, max_depth=3, max_features=sqrt, splitter=best;, score=-3.435 total time=   0.0s\n",
      "[CV 2/3] END criterion=absolute_error, max_depth=3, max_features=sqrt, splitter=best;, score=-5.313 total time=   0.0s\n",
      "[CV 3/3] END criterion=absolute_error, max_depth=3, max_features=sqrt, splitter=best;, score=-3.573 total time=   0.0s\n",
      "[CV 1/3] END criterion=absolute_error, max_depth=3, max_features=sqrt, splitter=random;, score=-2.030 total time=   0.0s\n",
      "[CV 2/3] END criterion=absolute_error, max_depth=3, max_features=sqrt, splitter=random;, score=-5.440 total time=   0.0s\n",
      "[CV 3/3] END criterion=absolute_error, max_depth=3, max_features=sqrt, splitter=random;, score=-3.500 total time=   0.0s\n",
      "[CV 1/3] END criterion=absolute_error, max_depth=3, max_features=None, splitter=best;, score=-3.419 total time=   0.0s\n",
      "[CV 2/3] END criterion=absolute_error, max_depth=3, max_features=None, splitter=best;, score=-4.960 total time=   0.0s\n",
      "[CV 3/3] END criterion=absolute_error, max_depth=3, max_features=None, splitter=best;, score=-3.690 total time=   0.0s\n",
      "[CV 1/3] END criterion=absolute_error, max_depth=3, max_features=None, splitter=random;, score=-2.587 total time=   0.0s\n",
      "[CV 2/3] END criterion=absolute_error, max_depth=3, max_features=None, splitter=random;, score=-5.505 total time=   0.0s\n",
      "[CV 3/3] END criterion=absolute_error, max_depth=3, max_features=None, splitter=random;, score=-3.228 total time=   0.0s\n",
      "[CV 1/3] END criterion=absolute_error, max_depth=5, max_features=auto, splitter=best;, score=-4.876 total time=   0.0s\n",
      "[CV 2/3] END criterion=absolute_error, max_depth=5, max_features=auto, splitter=best;, score=-5.316 total time=   0.0s\n"
     ]
    },
    {
     "name": "stderr",
     "output_type": "stream",
     "text": [
      "/Users/akshayamahesh/opt/anaconda3/lib/python3.9/site-packages/sklearn/tree/_classes.py:306: FutureWarning: `max_features='auto'` has been deprecated in 1.1 and will be removed in 1.3. To keep the past behaviour, explicitly set `max_features=1.0'`.\n",
      "  warnings.warn(\n",
      "/Users/akshayamahesh/opt/anaconda3/lib/python3.9/site-packages/sklearn/tree/_classes.py:306: FutureWarning: `max_features='auto'` has been deprecated in 1.1 and will be removed in 1.3. To keep the past behaviour, explicitly set `max_features=1.0'`.\n",
      "  warnings.warn(\n",
      "/Users/akshayamahesh/opt/anaconda3/lib/python3.9/site-packages/sklearn/tree/_classes.py:306: FutureWarning: `max_features='auto'` has been deprecated in 1.1 and will be removed in 1.3. To keep the past behaviour, explicitly set `max_features=1.0'`.\n",
      "  warnings.warn(\n",
      "/Users/akshayamahesh/opt/anaconda3/lib/python3.9/site-packages/sklearn/tree/_classes.py:306: FutureWarning: `max_features='auto'` has been deprecated in 1.1 and will be removed in 1.3. To keep the past behaviour, explicitly set `max_features=1.0'`.\n",
      "  warnings.warn(\n",
      "/Users/akshayamahesh/opt/anaconda3/lib/python3.9/site-packages/sklearn/tree/_classes.py:306: FutureWarning: `max_features='auto'` has been deprecated in 1.1 and will be removed in 1.3. To keep the past behaviour, explicitly set `max_features=1.0'`.\n",
      "  warnings.warn(\n"
     ]
    },
    {
     "name": "stdout",
     "output_type": "stream",
     "text": [
      "[CV 3/3] END criterion=absolute_error, max_depth=5, max_features=auto, splitter=best;, score=-3.596 total time=   0.0s\n",
      "[CV 1/3] END criterion=absolute_error, max_depth=5, max_features=auto, splitter=random;, score=-3.031 total time=   0.0s\n",
      "[CV 2/3] END criterion=absolute_error, max_depth=5, max_features=auto, splitter=random;, score=-4.642 total time=   0.0s\n",
      "[CV 3/3] END criterion=absolute_error, max_depth=5, max_features=auto, splitter=random;, score=-3.303 total time=   0.0s\n",
      "[CV 1/3] END criterion=absolute_error, max_depth=5, max_features=log2, splitter=best;, score=-3.676 total time=   0.0s\n",
      "[CV 2/3] END criterion=absolute_error, max_depth=5, max_features=log2, splitter=best;, score=-5.494 total time=   0.0s\n",
      "[CV 3/3] END criterion=absolute_error, max_depth=5, max_features=log2, splitter=best;, score=-3.916 total time=   0.0s\n",
      "[CV 1/3] END criterion=absolute_error, max_depth=5, max_features=log2, splitter=random;, score=-2.518 total time=   0.0s\n",
      "[CV 2/3] END criterion=absolute_error, max_depth=5, max_features=log2, splitter=random;, score=-5.505 total time=   0.0s\n",
      "[CV 3/3] END criterion=absolute_error, max_depth=5, max_features=log2, splitter=random;, score=-3.412 total time=   0.0s\n",
      "[CV 1/3] END criterion=absolute_error, max_depth=5, max_features=sqrt, splitter=best;, score=-2.836 total time=   0.0s\n",
      "[CV 2/3] END criterion=absolute_error, max_depth=5, max_features=sqrt, splitter=best;, score=-4.889 total time=   0.0s\n",
      "[CV 3/3] END criterion=absolute_error, max_depth=5, max_features=sqrt, splitter=best;, score=-3.434 total time=   0.0s\n",
      "[CV 1/3] END criterion=absolute_error, max_depth=5, max_features=sqrt, splitter=random;, score=-2.582 total time=   0.0s\n",
      "[CV 2/3] END criterion=absolute_error, max_depth=5, max_features=sqrt, splitter=random;, score=-5.245 total time=   0.0s\n",
      "[CV 3/3] END criterion=absolute_error, max_depth=5, max_features=sqrt, splitter=random;, score=-3.644 total time=   0.0s\n",
      "[CV 1/3] END criterion=absolute_error, max_depth=5, max_features=None, splitter=best;, score=-5.628 total time=   0.0s\n",
      "[CV 2/3] END criterion=absolute_error, max_depth=5, max_features=None, splitter=best;, score=-5.241 total time=   0.0s\n",
      "[CV 3/3] END criterion=absolute_error, max_depth=5, max_features=None, splitter=best;, score=-3.667 total time=   0.0s\n",
      "[CV 1/3] END criterion=absolute_error, max_depth=5, max_features=None, splitter=random;, score=-2.237 total time=   0.0s\n",
      "[CV 2/3] END criterion=absolute_error, max_depth=5, max_features=None, splitter=random;, score=-5.497 total time=   0.0s\n",
      "[CV 3/3] END criterion=absolute_error, max_depth=5, max_features=None, splitter=random;, score=-3.514 total time=   0.0s\n",
      "[CV 1/3] END criterion=absolute_error, max_depth=7, max_features=auto, splitter=best;, score=-7.230 total time=   0.0s\n",
      "[CV 2/3] END criterion=absolute_error, max_depth=7, max_features=auto, splitter=best;, score=-4.992 total time=   0.0s\n",
      "[CV 3/3] END criterion=absolute_error, max_depth=7, max_features=auto, splitter=best;, score=-3.384 total time=   0.0s\n",
      "[CV 1/3] END criterion=absolute_error, max_depth=7, max_features=auto, splitter=random;, score=-4.860 total time=   0.0s\n",
      "[CV 2/3] END criterion=absolute_error, max_depth=7, max_features=auto, splitter=random;, score=-4.954 total time=   0.0s\n",
      "[CV 3/3] END criterion=absolute_error, max_depth=7, max_features=auto, splitter=random;, score=-3.417 total time=   0.0s\n",
      "[CV 1/3] END criterion=absolute_error, max_depth=7, max_features=log2, splitter=best;, score=-7.326 total time=   0.0s\n",
      "[CV 2/3] END criterion=absolute_error, max_depth=7, max_features=log2, splitter=best;, score=-5.166 total time=   0.0s\n",
      "[CV 3/3] END criterion=absolute_error, max_depth=7, max_features=log2, splitter=best;, score=-4.163 total time=   0.0s\n",
      "[CV 1/3] END criterion=absolute_error, max_depth=7, max_features=log2, splitter=random;, score=-3.026 total time=   0.0s\n",
      "[CV 2/3] END criterion=absolute_error, max_depth=7, max_features=log2, splitter=random;, score=-5.362 total time=   0.0s\n",
      "[CV 3/3] END criterion=absolute_error, max_depth=7, max_features=log2, splitter=random;, score=-3.333 total time=   0.0s\n",
      "[CV 1/3] END criterion=absolute_error, max_depth=7, max_features=sqrt, splitter=best;, score=-4.732 total time=   0.0s\n",
      "[CV 2/3] END criterion=absolute_error, max_depth=7, max_features=sqrt, splitter=best;, score=-4.945 total time=   0.0s\n",
      "[CV 3/3] END criterion=absolute_error, max_depth=7, max_features=sqrt, splitter=best;, score=-4.606 total time=   0.0s\n"
     ]
    },
    {
     "name": "stderr",
     "output_type": "stream",
     "text": [
      "/Users/akshayamahesh/opt/anaconda3/lib/python3.9/site-packages/sklearn/tree/_classes.py:306: FutureWarning: `max_features='auto'` has been deprecated in 1.1 and will be removed in 1.3. To keep the past behaviour, explicitly set `max_features=1.0'`.\n",
      "  warnings.warn(\n",
      "/Users/akshayamahesh/opt/anaconda3/lib/python3.9/site-packages/sklearn/tree/_classes.py:306: FutureWarning: `max_features='auto'` has been deprecated in 1.1 and will be removed in 1.3. To keep the past behaviour, explicitly set `max_features=1.0'`.\n",
      "  warnings.warn(\n",
      "/Users/akshayamahesh/opt/anaconda3/lib/python3.9/site-packages/sklearn/tree/_classes.py:306: FutureWarning: `max_features='auto'` has been deprecated in 1.1 and will be removed in 1.3. To keep the past behaviour, explicitly set `max_features=1.0'`.\n",
      "  warnings.warn(\n",
      "/Users/akshayamahesh/opt/anaconda3/lib/python3.9/site-packages/sklearn/tree/_classes.py:306: FutureWarning: `max_features='auto'` has been deprecated in 1.1 and will be removed in 1.3. To keep the past behaviour, explicitly set `max_features=1.0'`.\n",
      "  warnings.warn(\n",
      "/Users/akshayamahesh/opt/anaconda3/lib/python3.9/site-packages/sklearn/tree/_classes.py:306: FutureWarning: `max_features='auto'` has been deprecated in 1.1 and will be removed in 1.3. To keep the past behaviour, explicitly set `max_features=1.0'`.\n",
      "  warnings.warn(\n",
      "/Users/akshayamahesh/opt/anaconda3/lib/python3.9/site-packages/sklearn/tree/_classes.py:306: FutureWarning: `max_features='auto'` has been deprecated in 1.1 and will be removed in 1.3. To keep the past behaviour, explicitly set `max_features=1.0'`.\n",
      "  warnings.warn(\n"
     ]
    },
    {
     "name": "stdout",
     "output_type": "stream",
     "text": [
      "[CV 1/3] END criterion=absolute_error, max_depth=7, max_features=sqrt, splitter=random;, score=-4.260 total time=   0.0s\n",
      "[CV 2/3] END criterion=absolute_error, max_depth=7, max_features=sqrt, splitter=random;, score=-5.344 total time=   0.0s\n",
      "[CV 3/3] END criterion=absolute_error, max_depth=7, max_features=sqrt, splitter=random;, score=-3.407 total time=   0.0s\n",
      "[CV 1/3] END criterion=absolute_error, max_depth=7, max_features=None, splitter=best;, score=-7.298 total time=   0.0s\n",
      "[CV 2/3] END criterion=absolute_error, max_depth=7, max_features=None, splitter=best;, score=-5.011 total time=   0.0s\n",
      "[CV 3/3] END criterion=absolute_error, max_depth=7, max_features=None, splitter=best;, score=-3.341 total time=   0.0s\n",
      "[CV 1/3] END criterion=absolute_error, max_depth=7, max_features=None, splitter=random;, score=-4.361 total time=   0.0s\n",
      "[CV 2/3] END criterion=absolute_error, max_depth=7, max_features=None, splitter=random;, score=-5.217 total time=   0.0s\n",
      "[CV 3/3] END criterion=absolute_error, max_depth=7, max_features=None, splitter=random;, score=-3.448 total time=   0.0s\n",
      "[CV 1/3] END criterion=poisson, max_depth=1, max_features=auto, splitter=best;, score=-2.642 total time=   0.0s\n",
      "[CV 2/3] END criterion=poisson, max_depth=1, max_features=auto, splitter=best;, score=-3.511 total time=   0.0s\n",
      "[CV 3/3] END criterion=poisson, max_depth=1, max_features=auto, splitter=best;, score=-2.224 total time=   0.0s\n",
      "[CV 1/3] END criterion=poisson, max_depth=1, max_features=auto, splitter=random;, score=-2.239 total time=   0.0s\n",
      "[CV 2/3] END criterion=poisson, max_depth=1, max_features=auto, splitter=random;, score=-3.384 total time=   0.0s\n",
      "[CV 3/3] END criterion=poisson, max_depth=1, max_features=auto, splitter=random;, score=-2.210 total time=   0.0s\n",
      "[CV 1/3] END criterion=poisson, max_depth=1, max_features=log2, splitter=best;, score=-2.459 total time=   0.0s\n",
      "[CV 2/3] END criterion=poisson, max_depth=1, max_features=log2, splitter=best;, score=-3.327 total time=   0.0s\n",
      "[CV 3/3] END criterion=poisson, max_depth=1, max_features=log2, splitter=best;, score=-2.232 total time=   0.0s\n",
      "[CV 1/3] END criterion=poisson, max_depth=1, max_features=log2, splitter=random;, score=-2.170 total time=   0.0s\n",
      "[CV 2/3] END criterion=poisson, max_depth=1, max_features=log2, splitter=random;, score=-3.372 total time=   0.0s\n",
      "[CV 3/3] END criterion=poisson, max_depth=1, max_features=log2, splitter=random;, score=-2.229 total time=   0.0s\n",
      "[CV 1/3] END criterion=poisson, max_depth=1, max_features=sqrt, splitter=best;, score=-2.163 total time=   0.0s\n",
      "[CV 2/3] END criterion=poisson, max_depth=1, max_features=sqrt, splitter=best;, score=-3.461 total time=   0.0s\n",
      "[CV 3/3] END criterion=poisson, max_depth=1, max_features=sqrt, splitter=best;, score=-2.224 total time=   0.0s\n",
      "[CV 1/3] END criterion=poisson, max_depth=1, max_features=sqrt, splitter=random;, score=-2.084 total time=   0.0s\n",
      "[CV 2/3] END criterion=poisson, max_depth=1, max_features=sqrt, splitter=random;, score=-3.339 total time=   0.0s\n",
      "[CV 3/3] END criterion=poisson, max_depth=1, max_features=sqrt, splitter=random;, score=-2.205 total time=   0.0s\n",
      "[CV 1/3] END criterion=poisson, max_depth=1, max_features=None, splitter=best;, score=-2.642 total time=   0.0s\n",
      "[CV 2/3] END criterion=poisson, max_depth=1, max_features=None, splitter=best;, score=-3.511 total time=   0.0s\n",
      "[CV 3/3] END criterion=poisson, max_depth=1, max_features=None, splitter=best;, score=-2.224 total time=   0.0s\n",
      "[CV 1/3] END criterion=poisson, max_depth=1, max_features=None, splitter=random;, score=-2.183 total time=   0.0s\n"
     ]
    },
    {
     "name": "stderr",
     "output_type": "stream",
     "text": [
      "/Users/akshayamahesh/opt/anaconda3/lib/python3.9/site-packages/sklearn/tree/_classes.py:306: FutureWarning: `max_features='auto'` has been deprecated in 1.1 and will be removed in 1.3. To keep the past behaviour, explicitly set `max_features=1.0'`.\n",
      "  warnings.warn(\n",
      "/Users/akshayamahesh/opt/anaconda3/lib/python3.9/site-packages/sklearn/tree/_classes.py:306: FutureWarning: `max_features='auto'` has been deprecated in 1.1 and will be removed in 1.3. To keep the past behaviour, explicitly set `max_features=1.0'`.\n",
      "  warnings.warn(\n",
      "/Users/akshayamahesh/opt/anaconda3/lib/python3.9/site-packages/sklearn/tree/_classes.py:306: FutureWarning: `max_features='auto'` has been deprecated in 1.1 and will be removed in 1.3. To keep the past behaviour, explicitly set `max_features=1.0'`.\n",
      "  warnings.warn(\n",
      "/Users/akshayamahesh/opt/anaconda3/lib/python3.9/site-packages/sklearn/tree/_classes.py:306: FutureWarning: `max_features='auto'` has been deprecated in 1.1 and will be removed in 1.3. To keep the past behaviour, explicitly set `max_features=1.0'`.\n",
      "  warnings.warn(\n",
      "/Users/akshayamahesh/opt/anaconda3/lib/python3.9/site-packages/sklearn/tree/_classes.py:306: FutureWarning: `max_features='auto'` has been deprecated in 1.1 and will be removed in 1.3. To keep the past behaviour, explicitly set `max_features=1.0'`.\n",
      "  warnings.warn(\n",
      "/Users/akshayamahesh/opt/anaconda3/lib/python3.9/site-packages/sklearn/tree/_classes.py:306: FutureWarning: `max_features='auto'` has been deprecated in 1.1 and will be removed in 1.3. To keep the past behaviour, explicitly set `max_features=1.0'`.\n",
      "  warnings.warn(\n",
      "/Users/akshayamahesh/opt/anaconda3/lib/python3.9/site-packages/sklearn/tree/_classes.py:306: FutureWarning: `max_features='auto'` has been deprecated in 1.1 and will be removed in 1.3. To keep the past behaviour, explicitly set `max_features=1.0'`.\n",
      "  warnings.warn(\n",
      "/Users/akshayamahesh/opt/anaconda3/lib/python3.9/site-packages/sklearn/tree/_classes.py:306: FutureWarning: `max_features='auto'` has been deprecated in 1.1 and will be removed in 1.3. To keep the past behaviour, explicitly set `max_features=1.0'`.\n",
      "  warnings.warn(\n",
      "/Users/akshayamahesh/opt/anaconda3/lib/python3.9/site-packages/sklearn/tree/_classes.py:306: FutureWarning: `max_features='auto'` has been deprecated in 1.1 and will be removed in 1.3. To keep the past behaviour, explicitly set `max_features=1.0'`.\n",
      "  warnings.warn(\n",
      "/Users/akshayamahesh/opt/anaconda3/lib/python3.9/site-packages/sklearn/tree/_classes.py:306: FutureWarning: `max_features='auto'` has been deprecated in 1.1 and will be removed in 1.3. To keep the past behaviour, explicitly set `max_features=1.0'`.\n",
      "  warnings.warn(\n",
      "/Users/akshayamahesh/opt/anaconda3/lib/python3.9/site-packages/sklearn/tree/_classes.py:306: FutureWarning: `max_features='auto'` has been deprecated in 1.1 and will be removed in 1.3. To keep the past behaviour, explicitly set `max_features=1.0'`.\n",
      "  warnings.warn(\n",
      "/Users/akshayamahesh/opt/anaconda3/lib/python3.9/site-packages/sklearn/tree/_classes.py:306: FutureWarning: `max_features='auto'` has been deprecated in 1.1 and will be removed in 1.3. To keep the past behaviour, explicitly set `max_features=1.0'`.\n",
      "  warnings.warn(\n",
      "/Users/akshayamahesh/opt/anaconda3/lib/python3.9/site-packages/sklearn/tree/_classes.py:306: FutureWarning: `max_features='auto'` has been deprecated in 1.1 and will be removed in 1.3. To keep the past behaviour, explicitly set `max_features=1.0'`.\n",
      "  warnings.warn(\n",
      "/Users/akshayamahesh/opt/anaconda3/lib/python3.9/site-packages/sklearn/tree/_classes.py:306: FutureWarning: `max_features='auto'` has been deprecated in 1.1 and will be removed in 1.3. To keep the past behaviour, explicitly set `max_features=1.0'`.\n",
      "  warnings.warn(\n",
      "/Users/akshayamahesh/opt/anaconda3/lib/python3.9/site-packages/sklearn/tree/_classes.py:306: FutureWarning: `max_features='auto'` has been deprecated in 1.1 and will be removed in 1.3. To keep the past behaviour, explicitly set `max_features=1.0'`.\n",
      "  warnings.warn(\n",
      "/Users/akshayamahesh/opt/anaconda3/lib/python3.9/site-packages/sklearn/tree/_classes.py:306: FutureWarning: `max_features='auto'` has been deprecated in 1.1 and will be removed in 1.3. To keep the past behaviour, explicitly set `max_features=1.0'`.\n",
      "  warnings.warn(\n",
      "/Users/akshayamahesh/opt/anaconda3/lib/python3.9/site-packages/sklearn/tree/_classes.py:306: FutureWarning: `max_features='auto'` has been deprecated in 1.1 and will be removed in 1.3. To keep the past behaviour, explicitly set `max_features=1.0'`.\n",
      "  warnings.warn(\n",
      "/Users/akshayamahesh/opt/anaconda3/lib/python3.9/site-packages/sklearn/tree/_classes.py:306: FutureWarning: `max_features='auto'` has been deprecated in 1.1 and will be removed in 1.3. To keep the past behaviour, explicitly set `max_features=1.0'`.\n",
      "  warnings.warn(\n"
     ]
    },
    {
     "name": "stdout",
     "output_type": "stream",
     "text": [
      "[CV 2/3] END criterion=poisson, max_depth=1, max_features=None, splitter=random;, score=-3.405 total time=   0.0s\n",
      "[CV 3/3] END criterion=poisson, max_depth=1, max_features=None, splitter=random;, score=-2.222 total time=   0.0s\n",
      "[CV 1/3] END criterion=poisson, max_depth=3, max_features=auto, splitter=best;, score=-3.780 total time=   0.0s\n",
      "[CV 2/3] END criterion=poisson, max_depth=3, max_features=auto, splitter=best;, score=-3.871 total time=   0.0s\n",
      "[CV 3/3] END criterion=poisson, max_depth=3, max_features=auto, splitter=best;, score=-2.400 total time=   0.0s\n",
      "[CV 1/3] END criterion=poisson, max_depth=3, max_features=auto, splitter=random;, score=-2.278 total time=   0.0s\n",
      "[CV 2/3] END criterion=poisson, max_depth=3, max_features=auto, splitter=random;, score=-3.685 total time=   0.0s\n",
      "[CV 3/3] END criterion=poisson, max_depth=3, max_features=auto, splitter=random;, score=-2.251 total time=   0.0s\n",
      "[CV 1/3] END criterion=poisson, max_depth=3, max_features=log2, splitter=best;, score=-4.993 total time=   0.0s\n",
      "[CV 2/3] END criterion=poisson, max_depth=3, max_features=log2, splitter=best;, score=-3.726 total time=   0.0s\n",
      "[CV 3/3] END criterion=poisson, max_depth=3, max_features=log2, splitter=best;, score=-2.501 total time=   0.0s\n",
      "[CV 1/3] END criterion=poisson, max_depth=3, max_features=log2, splitter=random;, score=-2.434 total time=   0.0s\n",
      "[CV 2/3] END criterion=poisson, max_depth=3, max_features=log2, splitter=random;, score=-3.540 total time=   0.0s\n",
      "[CV 3/3] END criterion=poisson, max_depth=3, max_features=log2, splitter=random;, score=-2.222 total time=   0.0s\n",
      "[CV 1/3] END criterion=poisson, max_depth=3, max_features=sqrt, splitter=best;, score=-2.342 total time=   0.0s\n",
      "[CV 2/3] END criterion=poisson, max_depth=3, max_features=sqrt, splitter=best;, score=-4.176 total time=   0.0s\n",
      "[CV 3/3] END criterion=poisson, max_depth=3, max_features=sqrt, splitter=best;, score=-2.221 total time=   0.0s\n",
      "[CV 1/3] END criterion=poisson, max_depth=3, max_features=sqrt, splitter=random;, score=-2.082 total time=   0.0s\n",
      "[CV 2/3] END criterion=poisson, max_depth=3, max_features=sqrt, splitter=random;, score=-3.691 total time=   0.0s\n",
      "[CV 3/3] END criterion=poisson, max_depth=3, max_features=sqrt, splitter=random;, score=-2.174 total time=   0.0s\n",
      "[CV 1/3] END criterion=poisson, max_depth=3, max_features=None, splitter=best;, score=-3.780 total time=   0.0s\n",
      "[CV 2/3] END criterion=poisson, max_depth=3, max_features=None, splitter=best;, score=-3.871 total time=   0.0s\n",
      "[CV 3/3] END criterion=poisson, max_depth=3, max_features=None, splitter=best;, score=-2.400 total time=   0.0s\n",
      "[CV 1/3] END criterion=poisson, max_depth=3, max_features=None, splitter=random;, score=-2.499 total time=   0.0s\n",
      "[CV 2/3] END criterion=poisson, max_depth=3, max_features=None, splitter=random;, score=-3.720 total time=   0.0s\n",
      "[CV 3/3] END criterion=poisson, max_depth=3, max_features=None, splitter=random;, score=-2.353 total time=   0.0s\n",
      "[CV 1/3] END criterion=poisson, max_depth=5, max_features=auto, splitter=best;, score=-5.650 total time=   0.0s\n",
      "[CV 2/3] END criterion=poisson, max_depth=5, max_features=auto, splitter=best;, score=-4.322 total time=   0.0s\n",
      "[CV 3/3] END criterion=poisson, max_depth=5, max_features=auto, splitter=best;, score=-2.694 total time=   0.0s\n",
      "[CV 1/3] END criterion=poisson, max_depth=5, max_features=auto, splitter=random;, score=-3.132 total time=   0.0s\n",
      "[CV 2/3] END criterion=poisson, max_depth=5, max_features=auto, splitter=random;, score=-3.797 total time=   0.0s\n",
      "[CV 3/3] END criterion=poisson, max_depth=5, max_features=auto, splitter=random;, score=-2.434 total time=   0.0s\n",
      "[CV 1/3] END criterion=poisson, max_depth=5, max_features=log2, splitter=best;, score=-4.417 total time=   0.0s\n",
      "[CV 2/3] END criterion=poisson, max_depth=5, max_features=log2, splitter=best;, score=-4.484 total time=   0.0s\n",
      "[CV 3/3] END criterion=poisson, max_depth=5, max_features=log2, splitter=best;, score=-2.554 total time=   0.0s\n",
      "[CV 1/3] END criterion=poisson, max_depth=5, max_features=log2, splitter=random;, score=-2.681 total time=   0.0s\n",
      "[CV 2/3] END criterion=poisson, max_depth=5, max_features=log2, splitter=random;, score=-3.936 total time=   0.0s\n",
      "[CV 3/3] END criterion=poisson, max_depth=5, max_features=log2, splitter=random;, score=-2.293 total time=   0.0s\n",
      "[CV 1/3] END criterion=poisson, max_depth=5, max_features=sqrt, splitter=best;, score=-4.790 total time=   0.0s\n",
      "[CV 2/3] END criterion=poisson, max_depth=5, max_features=sqrt, splitter=best;, score=-4.157 total time=   0.0s\n",
      "[CV 3/3] END criterion=poisson, max_depth=5, max_features=sqrt, splitter=best;, score=-2.633 total time=   0.0s\n",
      "[CV 1/3] END criterion=poisson, max_depth=5, max_features=sqrt, splitter=random;, score=-2.424 total time=   0.0s\n",
      "[CV 2/3] END criterion=poisson, max_depth=5, max_features=sqrt, splitter=random;, score=-4.408 total time=   0.0s\n",
      "[CV 3/3] END criterion=poisson, max_depth=5, max_features=sqrt, splitter=random;, score=-2.428 total time=   0.0s\n",
      "[CV 1/3] END criterion=poisson, max_depth=5, max_features=None, splitter=best;, score=-5.650 total time=   0.0s\n",
      "[CV 2/3] END criterion=poisson, max_depth=5, max_features=None, splitter=best;, score=-4.326 total time=   0.0s\n",
      "[CV 3/3] END criterion=poisson, max_depth=5, max_features=None, splitter=best;, score=-2.641 total time=   0.0s\n",
      "[CV 1/3] END criterion=poisson, max_depth=5, max_features=None, splitter=random;, score=-2.997 total time=   0.0s\n",
      "[CV 2/3] END criterion=poisson, max_depth=5, max_features=None, splitter=random;, score=-3.752 total time=   0.0s\n",
      "[CV 3/3] END criterion=poisson, max_depth=5, max_features=None, splitter=random;, score=-2.629 total time=   0.0s\n",
      "[CV 1/3] END criterion=poisson, max_depth=7, max_features=auto, splitter=best;, score=-7.025 total time=   0.0s\n",
      "[CV 2/3] END criterion=poisson, max_depth=7, max_features=auto, splitter=best;, score=-4.897 total time=   0.0s\n",
      "[CV 3/3] END criterion=poisson, max_depth=7, max_features=auto, splitter=best;, score=-3.593 total time=   0.0s\n",
      "[CV 1/3] END criterion=poisson, max_depth=7, max_features=auto, splitter=random;, score=-3.597 total time=   0.0s\n",
      "[CV 2/3] END criterion=poisson, max_depth=7, max_features=auto, splitter=random;, score=-4.756 total time=   0.0s\n",
      "[CV 3/3] END criterion=poisson, max_depth=7, max_features=auto, splitter=random;, score=-3.112 total time=   0.0s\n",
      "[CV 1/3] END criterion=poisson, max_depth=7, max_features=log2, splitter=best;, score=-5.431 total time=   0.0s\n",
      "[CV 2/3] END criterion=poisson, max_depth=7, max_features=log2, splitter=best;, score=-4.155 total time=   0.0s\n",
      "[CV 3/3] END criterion=poisson, max_depth=7, max_features=log2, splitter=best;, score=-3.358 total time=   0.0s\n",
      "[CV 1/3] END criterion=poisson, max_depth=7, max_features=log2, splitter=random;, score=-2.687 total time=   0.0s\n",
      "[CV 2/3] END criterion=poisson, max_depth=7, max_features=log2, splitter=random;, score=-3.857 total time=   0.0s\n",
      "[CV 3/3] END criterion=poisson, max_depth=7, max_features=log2, splitter=random;, score=-2.896 total time=   0.0s\n",
      "[CV 1/3] END criterion=poisson, max_depth=7, max_features=sqrt, splitter=best;, score=-5.555 total time=   0.0s\n",
      "[CV 2/3] END criterion=poisson, max_depth=7, max_features=sqrt, splitter=best;, score=-4.913 total time=   0.0s\n",
      "[CV 3/3] END criterion=poisson, max_depth=7, max_features=sqrt, splitter=best;, score=-3.199 total time=   0.0s\n",
      "[CV 1/3] END criterion=poisson, max_depth=7, max_features=sqrt, splitter=random;, score=-2.946 total time=   0.0s\n",
      "[CV 2/3] END criterion=poisson, max_depth=7, max_features=sqrt, splitter=random;, score=-3.892 total time=   0.0s\n",
      "[CV 3/3] END criterion=poisson, max_depth=7, max_features=sqrt, splitter=random;, score=-2.517 total time=   0.0s\n",
      "[CV 1/3] END criterion=poisson, max_depth=7, max_features=None, splitter=best;, score=-7.060 total time=   0.0s\n",
      "[CV 2/3] END criterion=poisson, max_depth=7, max_features=None, splitter=best;, score=-5.081 total time=   0.0s\n",
      "[CV 3/3] END criterion=poisson, max_depth=7, max_features=None, splitter=best;, score=-3.670 total time=   0.0s\n",
      "[CV 1/3] END criterion=poisson, max_depth=7, max_features=None, splitter=random;, score=-5.867 total time=   0.0s\n",
      "[CV 2/3] END criterion=poisson, max_depth=7, max_features=None, splitter=random;, score=-3.970 total time=   0.0s\n",
      "[CV 3/3] END criterion=poisson, max_depth=7, max_features=None, splitter=random;, score=-2.727 total time=   0.0s\n"
     ]
    },
    {
     "name": "stderr",
     "output_type": "stream",
     "text": [
      "/Users/akshayamahesh/opt/anaconda3/lib/python3.9/site-packages/sklearn/tree/_classes.py:306: FutureWarning: `max_features='auto'` has been deprecated in 1.1 and will be removed in 1.3. To keep the past behaviour, explicitly set `max_features=1.0'`.\n",
      "  warnings.warn(\n",
      "/Users/akshayamahesh/opt/anaconda3/lib/python3.9/site-packages/sklearn/tree/_classes.py:306: FutureWarning: `max_features='auto'` has been deprecated in 1.1 and will be removed in 1.3. To keep the past behaviour, explicitly set `max_features=1.0'`.\n",
      "  warnings.warn(\n",
      "/Users/akshayamahesh/opt/anaconda3/lib/python3.9/site-packages/sklearn/tree/_classes.py:306: FutureWarning: `max_features='auto'` has been deprecated in 1.1 and will be removed in 1.3. To keep the past behaviour, explicitly set `max_features=1.0'`.\n",
      "  warnings.warn(\n",
      "/Users/akshayamahesh/opt/anaconda3/lib/python3.9/site-packages/sklearn/tree/_classes.py:306: FutureWarning: `max_features='auto'` has been deprecated in 1.1 and will be removed in 1.3. To keep the past behaviour, explicitly set `max_features=1.0'`.\n",
      "  warnings.warn(\n",
      "/Users/akshayamahesh/opt/anaconda3/lib/python3.9/site-packages/sklearn/tree/_classes.py:306: FutureWarning: `max_features='auto'` has been deprecated in 1.1 and will be removed in 1.3. To keep the past behaviour, explicitly set `max_features=1.0'`.\n",
      "  warnings.warn(\n",
      "/Users/akshayamahesh/opt/anaconda3/lib/python3.9/site-packages/sklearn/tree/_classes.py:306: FutureWarning: `max_features='auto'` has been deprecated in 1.1 and will be removed in 1.3. To keep the past behaviour, explicitly set `max_features=1.0'`.\n",
      "  warnings.warn(\n",
      "/Users/akshayamahesh/opt/anaconda3/lib/python3.9/site-packages/sklearn/tree/_classes.py:306: FutureWarning: `max_features='auto'` has been deprecated in 1.1 and will be removed in 1.3. To keep the past behaviour, explicitly set `max_features=1.0'`.\n",
      "  warnings.warn(\n"
     ]
    },
    {
     "data": {
      "text/html": [
       "<style>#sk-container-id-10 {color: black;background-color: white;}#sk-container-id-10 pre{padding: 0;}#sk-container-id-10 div.sk-toggleable {background-color: white;}#sk-container-id-10 label.sk-toggleable__label {cursor: pointer;display: block;width: 100%;margin-bottom: 0;padding: 0.3em;box-sizing: border-box;text-align: center;}#sk-container-id-10 label.sk-toggleable__label-arrow:before {content: \"▸\";float: left;margin-right: 0.25em;color: #696969;}#sk-container-id-10 label.sk-toggleable__label-arrow:hover:before {color: black;}#sk-container-id-10 div.sk-estimator:hover label.sk-toggleable__label-arrow:before {color: black;}#sk-container-id-10 div.sk-toggleable__content {max-height: 0;max-width: 0;overflow: hidden;text-align: left;background-color: #f0f8ff;}#sk-container-id-10 div.sk-toggleable__content pre {margin: 0.2em;color: black;border-radius: 0.25em;background-color: #f0f8ff;}#sk-container-id-10 input.sk-toggleable__control:checked~div.sk-toggleable__content {max-height: 200px;max-width: 100%;overflow: auto;}#sk-container-id-10 input.sk-toggleable__control:checked~label.sk-toggleable__label-arrow:before {content: \"▾\";}#sk-container-id-10 div.sk-estimator input.sk-toggleable__control:checked~label.sk-toggleable__label {background-color: #d4ebff;}#sk-container-id-10 div.sk-label input.sk-toggleable__control:checked~label.sk-toggleable__label {background-color: #d4ebff;}#sk-container-id-10 input.sk-hidden--visually {border: 0;clip: rect(1px 1px 1px 1px);clip: rect(1px, 1px, 1px, 1px);height: 1px;margin: -1px;overflow: hidden;padding: 0;position: absolute;width: 1px;}#sk-container-id-10 div.sk-estimator {font-family: monospace;background-color: #f0f8ff;border: 1px dotted black;border-radius: 0.25em;box-sizing: border-box;margin-bottom: 0.5em;}#sk-container-id-10 div.sk-estimator:hover {background-color: #d4ebff;}#sk-container-id-10 div.sk-parallel-item::after {content: \"\";width: 100%;border-bottom: 1px solid gray;flex-grow: 1;}#sk-container-id-10 div.sk-label:hover label.sk-toggleable__label {background-color: #d4ebff;}#sk-container-id-10 div.sk-serial::before {content: \"\";position: absolute;border-left: 1px solid gray;box-sizing: border-box;top: 0;bottom: 0;left: 50%;z-index: 0;}#sk-container-id-10 div.sk-serial {display: flex;flex-direction: column;align-items: center;background-color: white;padding-right: 0.2em;padding-left: 0.2em;position: relative;}#sk-container-id-10 div.sk-item {position: relative;z-index: 1;}#sk-container-id-10 div.sk-parallel {display: flex;align-items: stretch;justify-content: center;background-color: white;position: relative;}#sk-container-id-10 div.sk-item::before, #sk-container-id-10 div.sk-parallel-item::before {content: \"\";position: absolute;border-left: 1px solid gray;box-sizing: border-box;top: 0;bottom: 0;left: 50%;z-index: -1;}#sk-container-id-10 div.sk-parallel-item {display: flex;flex-direction: column;z-index: 1;position: relative;background-color: white;}#sk-container-id-10 div.sk-parallel-item:first-child::after {align-self: flex-end;width: 50%;}#sk-container-id-10 div.sk-parallel-item:last-child::after {align-self: flex-start;width: 50%;}#sk-container-id-10 div.sk-parallel-item:only-child::after {width: 0;}#sk-container-id-10 div.sk-dashed-wrapped {border: 1px dashed gray;margin: 0 0.4em 0.5em 0.4em;box-sizing: border-box;padding-bottom: 0.4em;background-color: white;}#sk-container-id-10 div.sk-label label {font-family: monospace;font-weight: bold;display: inline-block;line-height: 1.2em;}#sk-container-id-10 div.sk-label-container {text-align: center;}#sk-container-id-10 div.sk-container {/* jupyter's `normalize.less` sets `[hidden] { display: none; }` but bootstrap.min.css set `[hidden] { display: none !important; }` so we also need the `!important` here to be able to override the default hidden behavior on the sphinx rendered scikit-learn.org. See: https://github.com/scikit-learn/scikit-learn/issues/21755 */display: inline-block !important;position: relative;}#sk-container-id-10 div.sk-text-repr-fallback {display: none;}</style><div id=\"sk-container-id-10\" class=\"sk-top-container\"><div class=\"sk-text-repr-fallback\"><pre>GridSearchCV(cv=3, estimator=DecisionTreeRegressor(),\n",
       "             param_grid={&#x27;criterion&#x27;: [&#x27;squared_error&#x27;, &#x27;friedman_mse&#x27;,\n",
       "                                       &#x27;absolute_error&#x27;, &#x27;poisson&#x27;],\n",
       "                         &#x27;max_depth&#x27;: [1, 3, 5, 7],\n",
       "                         &#x27;max_features&#x27;: [&#x27;auto&#x27;, &#x27;log2&#x27;, &#x27;sqrt&#x27;, None],\n",
       "                         &#x27;splitter&#x27;: [&#x27;best&#x27;, &#x27;random&#x27;]},\n",
       "             scoring=&#x27;neg_mean_squared_error&#x27;, verbose=3)</pre><b>In a Jupyter environment, please rerun this cell to show the HTML representation or trust the notebook. <br />On GitHub, the HTML representation is unable to render, please try loading this page with nbviewer.org.</b></div><div class=\"sk-container\" hidden><div class=\"sk-item sk-dashed-wrapped\"><div class=\"sk-label-container\"><div class=\"sk-label sk-toggleable\"><input class=\"sk-toggleable__control sk-hidden--visually\" id=\"sk-estimator-id-12\" type=\"checkbox\" ><label for=\"sk-estimator-id-12\" class=\"sk-toggleable__label sk-toggleable__label-arrow\">GridSearchCV</label><div class=\"sk-toggleable__content\"><pre>GridSearchCV(cv=3, estimator=DecisionTreeRegressor(),\n",
       "             param_grid={&#x27;criterion&#x27;: [&#x27;squared_error&#x27;, &#x27;friedman_mse&#x27;,\n",
       "                                       &#x27;absolute_error&#x27;, &#x27;poisson&#x27;],\n",
       "                         &#x27;max_depth&#x27;: [1, 3, 5, 7],\n",
       "                         &#x27;max_features&#x27;: [&#x27;auto&#x27;, &#x27;log2&#x27;, &#x27;sqrt&#x27;, None],\n",
       "                         &#x27;splitter&#x27;: [&#x27;best&#x27;, &#x27;random&#x27;]},\n",
       "             scoring=&#x27;neg_mean_squared_error&#x27;, verbose=3)</pre></div></div></div><div class=\"sk-parallel\"><div class=\"sk-parallel-item\"><div class=\"sk-item\"><div class=\"sk-label-container\"><div class=\"sk-label sk-toggleable\"><input class=\"sk-toggleable__control sk-hidden--visually\" id=\"sk-estimator-id-13\" type=\"checkbox\" ><label for=\"sk-estimator-id-13\" class=\"sk-toggleable__label sk-toggleable__label-arrow\">estimator: DecisionTreeRegressor</label><div class=\"sk-toggleable__content\"><pre>DecisionTreeRegressor()</pre></div></div></div><div class=\"sk-serial\"><div class=\"sk-item\"><div class=\"sk-estimator sk-toggleable\"><input class=\"sk-toggleable__control sk-hidden--visually\" id=\"sk-estimator-id-14\" type=\"checkbox\" ><label for=\"sk-estimator-id-14\" class=\"sk-toggleable__label sk-toggleable__label-arrow\">DecisionTreeRegressor</label><div class=\"sk-toggleable__content\"><pre>DecisionTreeRegressor()</pre></div></div></div></div></div></div></div></div></div></div>"
      ],
      "text/plain": [
       "GridSearchCV(cv=3, estimator=DecisionTreeRegressor(),\n",
       "             param_grid={'criterion': ['squared_error', 'friedman_mse',\n",
       "                                       'absolute_error', 'poisson'],\n",
       "                         'max_depth': [1, 3, 5, 7],\n",
       "                         'max_features': ['auto', 'log2', 'sqrt', None],\n",
       "                         'splitter': ['best', 'random']},\n",
       "             scoring='neg_mean_squared_error', verbose=3)"
      ]
     },
     "execution_count": 128,
     "metadata": {},
     "output_type": "execute_result"
    }
   ],
   "source": [
    "tuning_model.fit(X,y)"
   ]
  },
  {
   "cell_type": "code",
   "execution_count": 129,
   "id": "566db26a",
   "metadata": {
    "scrolled": true
   },
   "outputs": [
    {
     "data": {
      "text/plain": [
       "{'criterion': 'squared_error',\n",
       " 'max_depth': 1,\n",
       " 'max_features': 'auto',\n",
       " 'splitter': 'random'}"
      ]
     },
     "execution_count": 129,
     "metadata": {},
     "output_type": "execute_result"
    }
   ],
   "source": [
    "tuning_model.best_params_"
   ]
  },
  {
   "cell_type": "code",
   "execution_count": 122,
   "id": "fca123b9",
   "metadata": {},
   "outputs": [
    {
     "data": {
      "text/plain": [
       "-2.5340620107595124"
      ]
     },
     "execution_count": 122,
     "metadata": {},
     "output_type": "execute_result"
    }
   ],
   "source": [
    "tuning_model.best_score_"
   ]
  },
  {
   "cell_type": "code",
   "execution_count": 130,
   "id": "06c96162",
   "metadata": {},
   "outputs": [],
   "source": [
    "tuned_hyper_model= DecisionTreeRegressor(criterion='squared_error',\n",
    "                                         max_depth=1,\n",
    "                                         max_features='auto',\n",
    "                                         splitter='random')"
   ]
  },
  {
   "cell_type": "code",
   "execution_count": 131,
   "id": "82f43ed8",
   "metadata": {},
   "outputs": [
    {
     "name": "stderr",
     "output_type": "stream",
     "text": [
      "/Users/akshayamahesh/opt/anaconda3/lib/python3.9/site-packages/sklearn/tree/_classes.py:306: FutureWarning: `max_features='auto'` has been deprecated in 1.1 and will be removed in 1.3. To keep the past behaviour, explicitly set `max_features=1.0'`.\n",
      "  warnings.warn(\n"
     ]
    },
    {
     "data": {
      "text/html": [
       "<style>#sk-container-id-11 {color: black;background-color: white;}#sk-container-id-11 pre{padding: 0;}#sk-container-id-11 div.sk-toggleable {background-color: white;}#sk-container-id-11 label.sk-toggleable__label {cursor: pointer;display: block;width: 100%;margin-bottom: 0;padding: 0.3em;box-sizing: border-box;text-align: center;}#sk-container-id-11 label.sk-toggleable__label-arrow:before {content: \"▸\";float: left;margin-right: 0.25em;color: #696969;}#sk-container-id-11 label.sk-toggleable__label-arrow:hover:before {color: black;}#sk-container-id-11 div.sk-estimator:hover label.sk-toggleable__label-arrow:before {color: black;}#sk-container-id-11 div.sk-toggleable__content {max-height: 0;max-width: 0;overflow: hidden;text-align: left;background-color: #f0f8ff;}#sk-container-id-11 div.sk-toggleable__content pre {margin: 0.2em;color: black;border-radius: 0.25em;background-color: #f0f8ff;}#sk-container-id-11 input.sk-toggleable__control:checked~div.sk-toggleable__content {max-height: 200px;max-width: 100%;overflow: auto;}#sk-container-id-11 input.sk-toggleable__control:checked~label.sk-toggleable__label-arrow:before {content: \"▾\";}#sk-container-id-11 div.sk-estimator input.sk-toggleable__control:checked~label.sk-toggleable__label {background-color: #d4ebff;}#sk-container-id-11 div.sk-label input.sk-toggleable__control:checked~label.sk-toggleable__label {background-color: #d4ebff;}#sk-container-id-11 input.sk-hidden--visually {border: 0;clip: rect(1px 1px 1px 1px);clip: rect(1px, 1px, 1px, 1px);height: 1px;margin: -1px;overflow: hidden;padding: 0;position: absolute;width: 1px;}#sk-container-id-11 div.sk-estimator {font-family: monospace;background-color: #f0f8ff;border: 1px dotted black;border-radius: 0.25em;box-sizing: border-box;margin-bottom: 0.5em;}#sk-container-id-11 div.sk-estimator:hover {background-color: #d4ebff;}#sk-container-id-11 div.sk-parallel-item::after {content: \"\";width: 100%;border-bottom: 1px solid gray;flex-grow: 1;}#sk-container-id-11 div.sk-label:hover label.sk-toggleable__label {background-color: #d4ebff;}#sk-container-id-11 div.sk-serial::before {content: \"\";position: absolute;border-left: 1px solid gray;box-sizing: border-box;top: 0;bottom: 0;left: 50%;z-index: 0;}#sk-container-id-11 div.sk-serial {display: flex;flex-direction: column;align-items: center;background-color: white;padding-right: 0.2em;padding-left: 0.2em;position: relative;}#sk-container-id-11 div.sk-item {position: relative;z-index: 1;}#sk-container-id-11 div.sk-parallel {display: flex;align-items: stretch;justify-content: center;background-color: white;position: relative;}#sk-container-id-11 div.sk-item::before, #sk-container-id-11 div.sk-parallel-item::before {content: \"\";position: absolute;border-left: 1px solid gray;box-sizing: border-box;top: 0;bottom: 0;left: 50%;z-index: -1;}#sk-container-id-11 div.sk-parallel-item {display: flex;flex-direction: column;z-index: 1;position: relative;background-color: white;}#sk-container-id-11 div.sk-parallel-item:first-child::after {align-self: flex-end;width: 50%;}#sk-container-id-11 div.sk-parallel-item:last-child::after {align-self: flex-start;width: 50%;}#sk-container-id-11 div.sk-parallel-item:only-child::after {width: 0;}#sk-container-id-11 div.sk-dashed-wrapped {border: 1px dashed gray;margin: 0 0.4em 0.5em 0.4em;box-sizing: border-box;padding-bottom: 0.4em;background-color: white;}#sk-container-id-11 div.sk-label label {font-family: monospace;font-weight: bold;display: inline-block;line-height: 1.2em;}#sk-container-id-11 div.sk-label-container {text-align: center;}#sk-container-id-11 div.sk-container {/* jupyter's `normalize.less` sets `[hidden] { display: none; }` but bootstrap.min.css set `[hidden] { display: none !important; }` so we also need the `!important` here to be able to override the default hidden behavior on the sphinx rendered scikit-learn.org. See: https://github.com/scikit-learn/scikit-learn/issues/21755 */display: inline-block !important;position: relative;}#sk-container-id-11 div.sk-text-repr-fallback {display: none;}</style><div id=\"sk-container-id-11\" class=\"sk-top-container\"><div class=\"sk-text-repr-fallback\"><pre>DecisionTreeRegressor(max_depth=1, max_features=&#x27;auto&#x27;, splitter=&#x27;random&#x27;)</pre><b>In a Jupyter environment, please rerun this cell to show the HTML representation or trust the notebook. <br />On GitHub, the HTML representation is unable to render, please try loading this page with nbviewer.org.</b></div><div class=\"sk-container\" hidden><div class=\"sk-item\"><div class=\"sk-estimator sk-toggleable\"><input class=\"sk-toggleable__control sk-hidden--visually\" id=\"sk-estimator-id-15\" type=\"checkbox\" checked><label for=\"sk-estimator-id-15\" class=\"sk-toggleable__label sk-toggleable__label-arrow\">DecisionTreeRegressor</label><div class=\"sk-toggleable__content\"><pre>DecisionTreeRegressor(max_depth=1, max_features=&#x27;auto&#x27;, splitter=&#x27;random&#x27;)</pre></div></div></div></div></div>"
      ],
      "text/plain": [
       "DecisionTreeRegressor(max_depth=1, max_features='auto', splitter='random')"
      ]
     },
     "execution_count": 131,
     "metadata": {},
     "output_type": "execute_result"
    }
   ],
   "source": [
    "tuned_hyper_model.fit(X_train,y_train)"
   ]
  },
  {
   "cell_type": "code",
   "execution_count": 132,
   "id": "c33125f1",
   "metadata": {},
   "outputs": [],
   "source": [
    "tuned_pred=tuned_hyper_model.predict(X_test)"
   ]
  },
  {
   "cell_type": "code",
   "execution_count": 133,
   "id": "146f5b30",
   "metadata": {},
   "outputs": [
    {
     "data": {
      "text/plain": [
       "<matplotlib.collections.PathCollection at 0x7fca0847b430>"
      ]
     },
     "execution_count": 133,
     "metadata": {},
     "output_type": "execute_result"
    },
    {
     "data": {
      "image/png": "[encoded data removed]",
      "text/plain": [
       "<Figure size 1296x576 with 1 Axes>"
      ]
     },
     "metadata": {},
     "output_type": "display_data"
    }
   ],
   "source": [
    "plt.scatter(y_test,tuned_pred)"
   ]
  },
  {
   "cell_type": "code",
   "execution_count": 135,
   "id": "d86ff29e",
   "metadata": {},
   "outputs": [],
   "source": [
    "from sklearn import metrics"
   ]
  },
  {
   "cell_type": "code",
   "execution_count": null,
   "id": "c4708b74",
   "metadata": {},
   "outputs": [],
   "source": [
    "# Without Tuning\n",
    "print('RMSE:', np.sqrt(metrics.mean_squared_error(y_test, prediction)))\n",
    "print('R-squared:', r2_score(y_test, prediction))"
   ]
  },
  {
   "cell_type": "code",
   "execution_count": 140,
   "id": "d6d76a6f",
   "metadata": {},
   "outputs": [
    {
     "name": "stdout",
     "output_type": "stream",
     "text": [
      "RMSE: 1.464227228432024\n",
      "R-squared: 0.02452392662403935\n"
     ]
    }
   ],
   "source": [
    "#With Parameter tuning\n",
    "print('RMSE:', np.sqrt(metrics.mean_squared_error(y_test, tuned_pred)))\n",
    "print('R-squared:', r2_score(y_test, tuned_pred))"
   ]
  },
  {
   "cell_type": "code",
   "execution_count": null,
   "id": "d9e3e490",
   "metadata": {},
   "outputs": [],
   "source": []
  }
 ],
 "metadata": {
  "colab": {
   "provenance": []
  },
  "kernelspec": {
   "display_name": "Python 3 (ipykernel)",
   "language": "python",
   "name": "python3"
  },
  "language_info": {
   "codemirror_mode": {
    "name": "ipython",
    "version": 3
   },
   "file_extension": ".py",
   "mimetype": "text/x-python",
   "name": "python",
   "nbconvert_exporter": "python",
   "pygments_lexer": "ipython3",
   "version": "3.9.7"
  }
 },
 "nbformat": 4,
 "nbformat_minor": 5
}
