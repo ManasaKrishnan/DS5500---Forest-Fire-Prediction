{
  "cells": [
    {
      "cell_type": "markdown",
      "metadata": {
        "id": "HXN0q04gZxPC"
      },
      "source": [
        "# Pre-requisites"
      ]
    },
    {
      "cell_type": "code",
      "execution_count": null,
      "metadata": {
        "colab": {
          "base_uri": "https://localhost:8080/"
        },
        "id": "lQu1ZOUQYC-d",
        "outputId": "1db5925f-bff5-48f0-fbc7-9069b98db4d8"
      },
      "outputs": [
        {
          "name": "stdout",
          "output_type": "stream",
          "text": [
            "Mounted at /content/drive\n"
          ]
        }
      ],
      "source": [
        "# Importing Google Drive\n",
        "\n",
        "from google.colab import drive\n",
        "drive.mount('/content/drive')"
      ]
    },
    {
      "cell_type": "code",
      "execution_count": null,
      "metadata": {
        "id": "fxnjylIwZ8x_"
      },
      "outputs": [],
      "source": [
        "# Importing the necessary libraries\n",
        "\n",
        "import pandas as pd\n",
        "import numpy as np\n",
        "import math\n",
        "import matplotlib.pyplot as plt\n",
        "from sklearn.preprocessing import MinMaxScaler\n",
        "from sklearn.feature_selection import RFE\n",
        "from sklearn.ensemble import RandomForestRegressor\n",
        "from sklearn.linear_model import LinearRegression\n",
        "from sklearn.model_selection import train_test_split, RandomizedSearchCV, GridSearchCV\n",
        "from sklearn.metrics import mean_squared_error, r2_score"
      ]
    },
    {
      "cell_type": "code",
      "execution_count": null,
      "metadata": {
        "id": "XKHlKqvSaN73"
      },
      "outputs": [],
      "source": [
        "# Exploring the data\n",
        "\n",
        "# df.shape"
      ]
    },
    {
      "cell_type": "markdown",
      "metadata": {
        "id": "DU76A3uMaaCD"
      },
      "source": [
        "# Loading the data"
      ]
    },
    {
      "cell_type": "code",
      "execution_count": null,
      "metadata": {
        "colab": {
          "base_uri": "https://localhost:8080/",
          "height": 206
        },
        "id": "EhhBE9u5aZlF",
        "outputId": "f276bf87-c584-481c-dfdc-8a31ea759f6a"
      },
      "outputs": [
        {
          "data": {
            "text/html": [
              "<div>\n",
              "<style scoped>\n",
              "    .dataframe tbody tr th:only-of-type {\n",
              "        vertical-align: middle;\n",
              "    }\n",
              "\n",
              "    .dataframe tbody tr th {\n",
              "        vertical-align: top;\n",
              "    }\n",
              "\n",
              "    .dataframe thead th {\n",
              "        text-align: right;\n",
              "    }\n",
              "</style>\n",
              "<table border=\"1\" class=\"dataframe\">\n",
              "  <thead>\n",
              "    <tr style=\"text-align: right;\">\n",
              "      <th></th>\n",
              "      <th>X</th>\n",
              "      <th>Y</th>\n",
              "      <th>month</th>\n",
              "      <th>day</th>\n",
              "      <th>FFMC</th>\n",
              "      <th>DMC</th>\n",
              "      <th>DC</th>\n",
              "      <th>ISI</th>\n",
              "      <th>temp</th>\n",
              "      <th>RH</th>\n",
              "      <th>wind</th>\n",
              "      <th>rain</th>\n",
              "      <th>area</th>\n",
              "    </tr>\n",
              "  </thead>\n",
              "  <tbody>\n",
              "    <tr>\n",
              "      <th>0</th>\n",
              "      <td>7</td>\n",
              "      <td>5</td>\n",
              "      <td>mar</td>\n",
              "      <td>fri</td>\n",
              "      <td>86.2</td>\n",
              "      <td>26.2</td>\n",
              "      <td>94.3</td>\n",
              "      <td>5.1</td>\n",
              "      <td>8.2</td>\n",
              "      <td>51</td>\n",
              "      <td>6.7</td>\n",
              "      <td>0.0</td>\n",
              "      <td>0.0</td>\n",
              "    </tr>\n",
              "    <tr>\n",
              "      <th>1</th>\n",
              "      <td>7</td>\n",
              "      <td>4</td>\n",
              "      <td>oct</td>\n",
              "      <td>tue</td>\n",
              "      <td>90.6</td>\n",
              "      <td>35.4</td>\n",
              "      <td>669.1</td>\n",
              "      <td>6.7</td>\n",
              "      <td>18.0</td>\n",
              "      <td>33</td>\n",
              "      <td>0.9</td>\n",
              "      <td>0.0</td>\n",
              "      <td>0.0</td>\n",
              "    </tr>\n",
              "    <tr>\n",
              "      <th>2</th>\n",
              "      <td>7</td>\n",
              "      <td>4</td>\n",
              "      <td>oct</td>\n",
              "      <td>sat</td>\n",
              "      <td>90.6</td>\n",
              "      <td>43.7</td>\n",
              "      <td>686.9</td>\n",
              "      <td>6.7</td>\n",
              "      <td>14.6</td>\n",
              "      <td>33</td>\n",
              "      <td>1.3</td>\n",
              "      <td>0.0</td>\n",
              "      <td>0.0</td>\n",
              "    </tr>\n",
              "    <tr>\n",
              "      <th>3</th>\n",
              "      <td>8</td>\n",
              "      <td>6</td>\n",
              "      <td>mar</td>\n",
              "      <td>fri</td>\n",
              "      <td>91.7</td>\n",
              "      <td>33.3</td>\n",
              "      <td>77.5</td>\n",
              "      <td>9.0</td>\n",
              "      <td>8.3</td>\n",
              "      <td>97</td>\n",
              "      <td>4.0</td>\n",
              "      <td>0.2</td>\n",
              "      <td>0.0</td>\n",
              "    </tr>\n",
              "    <tr>\n",
              "      <th>4</th>\n",
              "      <td>8</td>\n",
              "      <td>6</td>\n",
              "      <td>mar</td>\n",
              "      <td>sun</td>\n",
              "      <td>89.3</td>\n",
              "      <td>51.3</td>\n",
              "      <td>102.2</td>\n",
              "      <td>9.6</td>\n",
              "      <td>11.4</td>\n",
              "      <td>99</td>\n",
              "      <td>1.8</td>\n",
              "      <td>0.0</td>\n",
              "      <td>0.0</td>\n",
              "    </tr>\n",
              "  </tbody>\n",
              "</table>\n",
              "</div>"
            ],
            "text/plain": [
              "   X  Y month  day  FFMC   DMC     DC  ISI  temp  RH  wind  rain  area\n",
              "0  7  5   mar  fri  86.2  26.2   94.3  5.1   8.2  51   6.7   0.0   0.0\n",
              "1  7  4   oct  tue  90.6  35.4  669.1  6.7  18.0  33   0.9   0.0   0.0\n",
              "2  7  4   oct  sat  90.6  43.7  686.9  6.7  14.6  33   1.3   0.0   0.0\n",
              "3  8  6   mar  fri  91.7  33.3   77.5  9.0   8.3  97   4.0   0.2   0.0\n",
              "4  8  6   mar  sun  89.3  51.3  102.2  9.6  11.4  99   1.8   0.0   0.0"
            ]
          },
          "execution_count": 2,
          "metadata": {},
          "output_type": "execute_result"
        }
      ],
      "source": [
        "# Loading the data\n",
        "\n",
        "df_unclean = pd.read_csv('/Users/akshayamahesh/Desktop/Capstone/Code/forestfires.csv')\n",
        "df_unclean.head()"
      ]
    },
    {
      "cell_type": "markdown",
      "metadata": {
        "id": "7WdknVutveZl"
      },
      "source": [
        "# Getting a description of the dataset"
      ]
    },
    {
      "cell_type": "code",
      "execution_count": null,
      "metadata": {
        "colab": {
          "base_uri": "https://localhost:8080/"
        },
        "id": "3XJoQCSpvDEm",
        "outputId": "018e3d0e-29e0-484b-f9e3-125180878d20"
      },
      "outputs": [
        {
          "name": "stdout",
          "output_type": "stream",
          "text": [
            "<class 'pandas.core.frame.DataFrame'>\n",
            "RangeIndex: 517 entries, 0 to 516\n",
            "Data columns (total 13 columns):\n",
            " #   Column  Non-Null Count  Dtype  \n",
            "---  ------  --------------  -----  \n",
            " 0   X       517 non-null    int64  \n",
            " 1   Y       517 non-null    int64  \n",
            " 2   month   517 non-null    object \n",
            " 3   day     517 non-null    object \n",
            " 4   FFMC    517 non-null    float64\n",
            " 5   DMC     517 non-null    float64\n",
            " 6   DC      517 non-null    float64\n",
            " 7   ISI     517 non-null    float64\n",
            " 8   temp    517 non-null    float64\n",
            " 9   RH      517 non-null    int64  \n",
            " 10  wind    517 non-null    float64\n",
            " 11  rain    517 non-null    float64\n",
            " 12  area    517 non-null    float64\n",
            "dtypes: float64(8), int64(3), object(2)\n",
            "memory usage: 52.6+ KB\n"
          ]
        }
      ],
      "source": [
        "# Getting a description of the dataset\n",
        "\n",
        "df_unclean.info()"
      ]
    },
    {
      "cell_type": "code",
      "execution_count": null,
      "metadata": {
        "colab": {
          "base_uri": "https://localhost:8080/"
        },
        "id": "FvwYt8YUvWCE",
        "outputId": "e87eb04c-9a65-4713-a606-808b5d9d561c"
      },
      "outputs": [
        {
          "name": "stdout",
          "output_type": "stream",
          "text": [
            "The shape of the dataset is: (517, 13)\n"
          ]
        }
      ],
      "source": [
        "# Checking the shape of the dataset\n",
        "\n",
        "print(\"The shape of the dataset is:\", df_unclean.shape)"
      ]
    },
    {
      "cell_type": "markdown",
      "metadata": {
        "id": "awdTmukKvkrM"
      },
      "source": [
        "# Pre-processing the data"
      ]
    },
    {
      "cell_type": "markdown",
      "metadata": {
        "id": "ChObdDdak3RZ"
      },
      "source": [
        "### Removing outliers"
      ]
    },
    {
      "cell_type": "code",
      "execution_count": null,
      "metadata": {
        "colab": {
          "base_uri": "https://localhost:8080/"
        },
        "id": "ytp7X7NnvZPj",
        "outputId": "2974f983-6cea-4c3e-cb37-62af46bf438a"
      },
      "outputs": [
        {
          "name": "stdout",
          "output_type": "stream",
          "text": [
            "The number of NA values in the dataset is: 0\n"
          ]
        }
      ],
      "source": [
        "# Checking for NA values\n",
        "\n",
        "print(\"The number of NA values in the dataset is:\", df_unclean.isna().sum().sum())"
      ]
    },
    {
      "cell_type": "code",
      "execution_count": null,
      "metadata": {
        "colab": {
          "base_uri": "https://localhost:8080/",
          "height": 606
        },
        "id": "7lQZrzQCapen",
        "outputId": "4b5c1226-fb96-4b77-a44b-e145380ac93e"
      },
      "outputs": [
        {
          "data": {
            "image/png": "[encoded data removed]",
            "text/plain": [
              "<Figure size 1800x720 with 8 Axes>"
            ]
          },
          "metadata": {
            "needs_background": "light"
          },
          "output_type": "display_data"
        }
      ],
      "source": [
        "# Removing outliers\n",
        "\n",
        "fig, ax = plt.subplots(2, 4, figsize = (25, 10))\n",
        "ax[0, 0].hist(df_unclean['FFMC'], color = 'green', edgecolor = 'black')\n",
        "ax[0, 0].set(xlabel = 'FFMC')\n",
        "ax[0, 1].hist(df_unclean['DMC'], color = 'green', edgecolor = 'black')\n",
        "ax[0, 1].set(xlabel = 'DMC')\n",
        "ax[0, 2].hist(df_unclean['DC'], color = 'green', edgecolor = 'black')\n",
        "ax[0, 2].set(xlabel = 'DC')\n",
        "ax[0, 3].hist(df_unclean['ISI'], color = 'green', edgecolor = 'black')\n",
        "ax[0, 3].set(xlabel = 'ISI')\n",
        "ax[1, 0].hist(df_unclean['temp'], color = 'green', edgecolor = 'black')\n",
        "ax[1, 0].set(xlabel = 'temp')\n",
        "ax[1, 1].hist(df_unclean['RH'], color = 'green', edgecolor = 'black')\n",
        "ax[1, 1].set(xlabel = 'RH')\n",
        "ax[1, 2].hist(df_unclean['wind'], color = 'green', edgecolor = 'black')\n",
        "ax[1, 2].set(xlabel = 'wind')\n",
        "ax[1, 3].hist(df_unclean['rain'], color = 'green', edgecolor = 'black')\n",
        "ax[1, 3].set(xlabel = 'rain')\n",
        "plt.show()"
      ]
    },
    {
      "cell_type": "code",
      "execution_count": null,
      "metadata": {
        "colab": {
          "base_uri": "https://localhost:8080/"
        },
        "id": "dOBAhvuTgGO-",
        "outputId": "a4258d05-8fd0-442d-8f04-7033bbce6aaf"
      },
      "outputs": [
        {
          "name": "stdout",
          "output_type": "stream",
          "text": [
            "The shape of the dataset with outliers: (517, 13)\n",
            "The shape of the dataset without outliers: (505, 13)\n"
          ]
        }
      ],
      "source": [
        "outliers = (df_unclean['FFMC'] < 72) | (df_unclean['ISI'] > 22) | (df_unclean['rain'] > 1.2)\n",
        "df_unclean_without_outliers = df_unclean.loc[~outliers]\n",
        "print('The shape of the dataset with outliers:', df_unclean.shape)\n",
        "print('The shape of the dataset without outliers:', df_unclean_without_outliers.shape)"
      ]
    },
    {
      "cell_type": "code",
      "execution_count": null,
      "metadata": {
        "id": "wxJ-dsugj97H"
      },
      "outputs": [],
      "source": [
        "df_unclean = df_unclean_without_outliers"
      ]
    },
    {
      "cell_type": "markdown",
      "metadata": {
        "id": "b93Wmf2vkx_Z"
      },
      "source": [
        "### Reducing the skewness in the dataset"
      ]
    },
    {
      "cell_type": "code",
      "execution_count": null,
      "metadata": {
        "colab": {
          "base_uri": "https://localhost:8080/"
        },
        "id": "uzN6-N3-vnXD",
        "outputId": "b5a6dd7f-7464-4c15-9dd9-9588b149d5ef"
      },
      "outputs": [
        {
          "name": "stderr",
          "output_type": "stream",
          "text": [
            "/var/folders/fr/drfqt32j53zggrw4_vm9rzhc0000gn/T/ipykernel_80855/3939693283.py:3: FutureWarning: Dropping of nuisance columns in DataFrame reductions (with 'numeric_only=None') is deprecated; in a future version this will raise TypeError.  Select only valid columns before calling the reduction.\n",
            "  df_unclean.skew(axis = 0)\n"
          ]
        },
        {
          "data": {
            "text/plain": [
              "X        0.043943\n",
              "Y        0.431543\n",
              "FFMC    -1.627092\n",
              "DMC      0.549436\n",
              "DC      -1.120756\n",
              "ISI      0.649746\n",
              "temp    -0.329314\n",
              "RH       0.841094\n",
              "wind     0.587409\n",
              "rain    11.728918\n",
              "area    12.700889\n",
              "dtype: float64"
            ]
          },
          "execution_count": 9,
          "metadata": {},
          "output_type": "execute_result"
        }
      ],
      "source": [
        "# Checking for skewness in the predictor variable\n",
        "\n",
        "df_unclean.skew(axis = 0)"
      ]
    },
    {
      "cell_type": "code",
      "execution_count": null,
      "metadata": {
        "colab": {
          "base_uri": "https://localhost:8080/"
        },
        "id": "F48vl3G-voz1",
        "outputId": "d07d34c8-8739-414a-99c8-c9759a8f5b6b"
      },
      "outputs": [
        {
          "name": "stdout",
          "output_type": "stream",
          "text": [
            "Previous skew of area: 12.70088853939291\n",
            "Current skew of area: 1.205317265371448\n"
          ]
        }
      ],
      "source": [
        "# Correcting the skewness in the response variable\n",
        "\n",
        "df = df_unclean.copy()\n",
        "df['area'] = np.log(df['area'] + 1)\n",
        "print(\"Previous skew of area:\", df_unclean['area'].skew())\n",
        "print(\"Current skew of area:\", df['area'].skew())"
      ]
    },
    {
      "cell_type": "code",
      "execution_count": null,
      "metadata": {
        "colab": {
          "base_uri": "https://localhost:8080/",
          "height": 206
        },
        "id": "qD2tsVuOpHL9",
        "outputId": "14fd3896-8010-4674-9ca1-47e372c35025"
      },
      "outputs": [
        {
          "data": {
            "text/html": [
              "<div>\n",
              "<style scoped>\n",
              "    .dataframe tbody tr th:only-of-type {\n",
              "        vertical-align: middle;\n",
              "    }\n",
              "\n",
              "    .dataframe tbody tr th {\n",
              "        vertical-align: top;\n",
              "    }\n",
              "\n",
              "    .dataframe thead th {\n",
              "        text-align: right;\n",
              "    }\n",
              "</style>\n",
              "<table border=\"1\" class=\"dataframe\">\n",
              "  <thead>\n",
              "    <tr style=\"text-align: right;\">\n",
              "      <th></th>\n",
              "      <th>X</th>\n",
              "      <th>Y</th>\n",
              "      <th>month</th>\n",
              "      <th>day</th>\n",
              "      <th>FFMC</th>\n",
              "      <th>DMC</th>\n",
              "      <th>DC</th>\n",
              "      <th>ISI</th>\n",
              "      <th>temp</th>\n",
              "      <th>RH</th>\n",
              "      <th>wind</th>\n",
              "      <th>rain</th>\n",
              "      <th>area</th>\n",
              "    </tr>\n",
              "  </thead>\n",
              "  <tbody>\n",
              "    <tr>\n",
              "      <th>0</th>\n",
              "      <td>7</td>\n",
              "      <td>5</td>\n",
              "      <td>mar</td>\n",
              "      <td>fri</td>\n",
              "      <td>86.2</td>\n",
              "      <td>26.2</td>\n",
              "      <td>94.3</td>\n",
              "      <td>5.1</td>\n",
              "      <td>8.2</td>\n",
              "      <td>51</td>\n",
              "      <td>6.7</td>\n",
              "      <td>0.0</td>\n",
              "      <td>0.0</td>\n",
              "    </tr>\n",
              "    <tr>\n",
              "      <th>1</th>\n",
              "      <td>7</td>\n",
              "      <td>4</td>\n",
              "      <td>oct</td>\n",
              "      <td>tue</td>\n",
              "      <td>90.6</td>\n",
              "      <td>35.4</td>\n",
              "      <td>669.1</td>\n",
              "      <td>6.7</td>\n",
              "      <td>18.0</td>\n",
              "      <td>33</td>\n",
              "      <td>0.9</td>\n",
              "      <td>0.0</td>\n",
              "      <td>0.0</td>\n",
              "    </tr>\n",
              "    <tr>\n",
              "      <th>2</th>\n",
              "      <td>7</td>\n",
              "      <td>4</td>\n",
              "      <td>oct</td>\n",
              "      <td>sat</td>\n",
              "      <td>90.6</td>\n",
              "      <td>43.7</td>\n",
              "      <td>686.9</td>\n",
              "      <td>6.7</td>\n",
              "      <td>14.6</td>\n",
              "      <td>33</td>\n",
              "      <td>1.3</td>\n",
              "      <td>0.0</td>\n",
              "      <td>0.0</td>\n",
              "    </tr>\n",
              "    <tr>\n",
              "      <th>3</th>\n",
              "      <td>8</td>\n",
              "      <td>6</td>\n",
              "      <td>mar</td>\n",
              "      <td>fri</td>\n",
              "      <td>91.7</td>\n",
              "      <td>33.3</td>\n",
              "      <td>77.5</td>\n",
              "      <td>9.0</td>\n",
              "      <td>8.3</td>\n",
              "      <td>97</td>\n",
              "      <td>4.0</td>\n",
              "      <td>0.2</td>\n",
              "      <td>0.0</td>\n",
              "    </tr>\n",
              "    <tr>\n",
              "      <th>4</th>\n",
              "      <td>8</td>\n",
              "      <td>6</td>\n",
              "      <td>mar</td>\n",
              "      <td>sun</td>\n",
              "      <td>89.3</td>\n",
              "      <td>51.3</td>\n",
              "      <td>102.2</td>\n",
              "      <td>9.6</td>\n",
              "      <td>11.4</td>\n",
              "      <td>99</td>\n",
              "      <td>1.8</td>\n",
              "      <td>0.0</td>\n",
              "      <td>0.0</td>\n",
              "    </tr>\n",
              "  </tbody>\n",
              "</table>\n",
              "</div>"
            ],
            "text/plain": [
              "   X  Y month  day  FFMC   DMC     DC  ISI  temp  RH  wind  rain  area\n",
              "0  7  5   mar  fri  86.2  26.2   94.3  5.1   8.2  51   6.7   0.0   0.0\n",
              "1  7  4   oct  tue  90.6  35.4  669.1  6.7  18.0  33   0.9   0.0   0.0\n",
              "2  7  4   oct  sat  90.6  43.7  686.9  6.7  14.6  33   1.3   0.0   0.0\n",
              "3  8  6   mar  fri  91.7  33.3   77.5  9.0   8.3  97   4.0   0.2   0.0\n",
              "4  8  6   mar  sun  89.3  51.3  102.2  9.6  11.4  99   1.8   0.0   0.0"
            ]
          },
          "execution_count": 11,
          "metadata": {},
          "output_type": "execute_result"
        }
      ],
      "source": [
        "# Final cleaned dataset\n",
        "\n",
        "df.head()"
      ]
    },
    {
      "cell_type": "markdown",
      "metadata": {
        "id": "NJLkXqHQpDrB"
      },
      "source": [
        "### Normalizing and encoding the features"
      ]
    },
    {
      "cell_type": "code",
      "execution_count": null,
      "metadata": {
        "id": "7UxP4ZcQpDBj"
      },
      "outputs": [],
      "source": [
        "# Normalizing the FWI and other climatic factors\n",
        "\n",
        "normalizer = MinMaxScaler()\n",
        "def normalize(feature):\n",
        "  transform = np.array(df[feature]).reshape(-1, 1)\n",
        "  df[feature] = normalizer.fit_transform(transform)\n",
        "\n",
        "feature_list = ['FFMC', 'DMC', 'DC', 'ISI', 'temp', 'RH', 'wind', 'rain']\n",
        "for each in feature_list:\n",
        "  normalize(each)"
      ]
    },
    {
      "cell_type": "code",
      "execution_count": null,
      "metadata": {
        "colab": {
          "base_uri": "https://localhost:8080/",
          "height": 223
        },
        "id": "qn3118wDqPxz",
        "outputId": "75be0d06-d290-4620-a13d-3f6a60f34e6f"
      },
      "outputs": [
        {
          "name": "stdout",
          "output_type": "stream",
          "text": [
            "The dataset after prepocessing:\n"
          ]
        },
        {
          "data": {
            "text/html": [
              "<div>\n",
              "<style scoped>\n",
              "    .dataframe tbody tr th:only-of-type {\n",
              "        vertical-align: middle;\n",
              "    }\n",
              "\n",
              "    .dataframe tbody tr th {\n",
              "        vertical-align: top;\n",
              "    }\n",
              "\n",
              "    .dataframe thead th {\n",
              "        text-align: right;\n",
              "    }\n",
              "</style>\n",
              "<table border=\"1\" class=\"dataframe\">\n",
              "  <thead>\n",
              "    <tr style=\"text-align: right;\">\n",
              "      <th></th>\n",
              "      <th>X</th>\n",
              "      <th>Y</th>\n",
              "      <th>month</th>\n",
              "      <th>day</th>\n",
              "      <th>FFMC</th>\n",
              "      <th>DMC</th>\n",
              "      <th>DC</th>\n",
              "      <th>ISI</th>\n",
              "      <th>temp</th>\n",
              "      <th>RH</th>\n",
              "      <th>wind</th>\n",
              "      <th>rain</th>\n",
              "      <th>area</th>\n",
              "    </tr>\n",
              "  </thead>\n",
              "  <tbody>\n",
              "    <tr>\n",
              "      <th>0</th>\n",
              "      <td>7</td>\n",
              "      <td>5</td>\n",
              "      <td>3</td>\n",
              "      <td>6</td>\n",
              "      <td>0.526066</td>\n",
              "      <td>0.080472</td>\n",
              "      <td>0.101325</td>\n",
              "      <td>0.198020</td>\n",
              "      <td>0.192926</td>\n",
              "      <td>0.428571</td>\n",
              "      <td>0.700000</td>\n",
              "      <td>0.0</td>\n",
              "      <td>0.0</td>\n",
              "    </tr>\n",
              "    <tr>\n",
              "      <th>1</th>\n",
              "      <td>7</td>\n",
              "      <td>4</td>\n",
              "      <td>10</td>\n",
              "      <td>3</td>\n",
              "      <td>0.734597</td>\n",
              "      <td>0.112383</td>\n",
              "      <td>0.775419</td>\n",
              "      <td>0.277228</td>\n",
              "      <td>0.508039</td>\n",
              "      <td>0.214286</td>\n",
              "      <td>0.055556</td>\n",
              "      <td>0.0</td>\n",
              "      <td>0.0</td>\n",
              "    </tr>\n",
              "    <tr>\n",
              "      <th>2</th>\n",
              "      <td>7</td>\n",
              "      <td>4</td>\n",
              "      <td>10</td>\n",
              "      <td>7</td>\n",
              "      <td>0.734597</td>\n",
              "      <td>0.141172</td>\n",
              "      <td>0.796294</td>\n",
              "      <td>0.277228</td>\n",
              "      <td>0.398714</td>\n",
              "      <td>0.214286</td>\n",
              "      <td>0.100000</td>\n",
              "      <td>0.0</td>\n",
              "      <td>0.0</td>\n",
              "    </tr>\n",
              "    <tr>\n",
              "      <th>3</th>\n",
              "      <td>8</td>\n",
              "      <td>6</td>\n",
              "      <td>3</td>\n",
              "      <td>6</td>\n",
              "      <td>0.786730</td>\n",
              "      <td>0.105099</td>\n",
              "      <td>0.081623</td>\n",
              "      <td>0.391089</td>\n",
              "      <td>0.196141</td>\n",
              "      <td>0.976190</td>\n",
              "      <td>0.400000</td>\n",
              "      <td>0.2</td>\n",
              "      <td>0.0</td>\n",
              "    </tr>\n",
              "    <tr>\n",
              "      <th>4</th>\n",
              "      <td>8</td>\n",
              "      <td>6</td>\n",
              "      <td>3</td>\n",
              "      <td>1</td>\n",
              "      <td>0.672986</td>\n",
              "      <td>0.167534</td>\n",
              "      <td>0.110590</td>\n",
              "      <td>0.420792</td>\n",
              "      <td>0.295820</td>\n",
              "      <td>1.000000</td>\n",
              "      <td>0.155556</td>\n",
              "      <td>0.0</td>\n",
              "      <td>0.0</td>\n",
              "    </tr>\n",
              "  </tbody>\n",
              "</table>\n",
              "</div>"
            ],
            "text/plain": [
              "   X  Y  month  day      FFMC       DMC        DC       ISI      temp  \\\n",
              "0  7  5      3    6  0.526066  0.080472  0.101325  0.198020  0.192926   \n",
              "1  7  4     10    3  0.734597  0.112383  0.775419  0.277228  0.508039   \n",
              "2  7  4     10    7  0.734597  0.141172  0.796294  0.277228  0.398714   \n",
              "3  8  6      3    6  0.786730  0.105099  0.081623  0.391089  0.196141   \n",
              "4  8  6      3    1  0.672986  0.167534  0.110590  0.420792  0.295820   \n",
              "\n",
              "         RH      wind  rain  area  \n",
              "0  0.428571  0.700000   0.0   0.0  \n",
              "1  0.214286  0.055556   0.0   0.0  \n",
              "2  0.214286  0.100000   0.0   0.0  \n",
              "3  0.976190  0.400000   0.2   0.0  \n",
              "4  1.000000  0.155556   0.0   0.0  "
            ]
          },
          "execution_count": 13,
          "metadata": {},
          "output_type": "execute_result"
        }
      ],
      "source": [
        "# Converting categorical values to numerical values\n",
        "\n",
        "df['month'] = df['month'].replace(['jan', 'feb', 'mar', 'apr', 'may', 'jun', 'jul', 'aug', 'sep', 'oct', 'nov', 'dec'], [1, 2, 3, 4, 5, 6, 7, 8, 9, 10, 11, 12])\n",
        "df['day'] = df['day'].replace(['sun', 'mon', 'tue', 'wed', 'thu', 'fri', 'sat'], [1, 2, 3, 4, 5, 6, 7])\n",
        "print(\"The dataset after prepocessing:\") \n",
        "df.head()"
      ]
    },
    {
      "cell_type": "markdown",
      "metadata": {
        "id": "kUfnVt0kqmp5"
      },
      "source": [
        "# **R**ecursive **F**eature **E**limination(RFE)"
      ]
    },
    {
      "cell_type": "code",
      "execution_count": null,
      "metadata": {
        "id": "o9Kcor6AwgdM"
      },
      "outputs": [],
      "source": [
        "# Splitting the dataset into train and test\n",
        "\n",
        "X = df.drop(columns = ['area'])\n",
        "y = df['area']\n",
        "X_train, X_test, y_train, y_test = train_test_split(X, y, test_size = 0.25, random_state = 42)"
      ]
    },
    {
      "cell_type": "code",
      "execution_count": null,
      "metadata": {
        "colab": {
          "base_uri": "https://localhost:8080/"
        },
        "id": "9p19yWSLxFmF",
        "outputId": "8526a7d5-0ad4-4b6f-dda4-59a571f73f8b"
      },
      "outputs": [
        {
          "name": "stdout",
          "output_type": "stream",
          "text": [
            "X_train: (378, 12)\n",
            "y_train: (378,)\n",
            "X_test: (127, 12)\n",
            "y_test: (127,)\n"
          ]
        }
      ],
      "source": [
        "# Printing the shapes of the train and test datasets\n",
        "\n",
        "print(\"X_train:\", X_train.shape)\n",
        "print(\"y_train:\", y_train.shape)\n",
        "print(\"X_test:\", X_test.shape)\n",
        "print(\"y_test:\", y_test.shape)"
      ]
    },
    {
      "cell_type": "markdown",
      "metadata": {
        "id": "FDqBgq6ywKwv"
      },
      "source": [
        "### RFE with default Random Forest"
      ]
    },
    {
      "cell_type": "code",
      "execution_count": null,
      "metadata": {
        "id": "ukktA1kHxJhK"
      },
      "outputs": [],
      "source": [
        "# Code used for evaluation \n",
        "\n",
        "def evaluate_model(model, X_train, X_test):\n",
        "  train_preds = model.predict(X_train)\n",
        "  test_preds = model.predict(X_test)\n",
        "  train_rmse = math.sqrt(mean_squared_error(y_train, train_preds))\n",
        "  train_r2 = r2_score(y_train, train_preds)\n",
        "  test_rmse = math.sqrt(mean_squared_error(y_test, test_preds))\n",
        "  test_r2 = r2_score(y_test, test_preds)\n",
        "  print(\"Train RMSE:\", round(train_rmse, 3))\n",
        "  print(\"Train R2:\", round(train_r2, 3))\n",
        "  print(\"Test RMSE:\", round(test_rmse, 3))\n",
        "  print(\"Test R2:\", round(test_r2, 3))"
      ]
    },
    {
      "cell_type": "code",
      "execution_count": null,
      "metadata": {
        "colab": {
          "base_uri": "https://localhost:8080/"
        },
        "id": "uo-x_cdyqWxL",
        "outputId": "9c363251-1da9-4608-e705-5a4aaaba03bd"
      },
      "outputs": [
        {
          "name": "stdout",
          "output_type": "stream",
          "text": [
            "Fitting estimator with 12 features.\n",
            "Fitting estimator with 11 features.\n",
            "Fitting estimator with 10 features.\n",
            "Fitting estimator with 9 features.\n",
            "Fitting estimator with 8 features.\n",
            "Fitting estimator with 7 features.\n",
            "Fitting estimator with 6 features.\n",
            "Train RMSE: 0.606\n",
            "Train R2: 0.815\n",
            "Test RMSE: 1.552\n",
            "Test R2: -0.24\n"
          ]
        }
      ],
      "source": [
        "# Run default random forest using rfe\n",
        "\n",
        "rfr = RandomForestRegressor()\n",
        "rfe = RFE(rfr, n_features_to_select = 5, verbose = 2)\n",
        "rfe.fit(X_train, y_train)\n",
        "selected_columns = np.where(rfe.support_ == True)[0]\n",
        "selected_features = [df.columns[i] for i in selected_columns]\n",
        "rfr.fit(X_train[selected_features], y_train)\n",
        "evaluate_model(rfr, X_train[selected_features], X_test[selected_features])"
      ]
    },
    {
      "cell_type": "markdown",
      "metadata": {
        "id": "PWMCbQ_SX7kY"
      },
      "source": [
        "### RFE with tuned Random Forest(RandomizedSearchCV)"
      ]
    },
    {
      "cell_type": "code",
      "execution_count": null,
      "metadata": {
        "colab": {
          "base_uri": "https://localhost:8080/"
        },
        "id": "Ifj_NbYqzQsr",
        "outputId": "2f9e25a2-6176-43b1-8133-30eea18d4aba"
      },
      "outputs": [
        {
          "name": "stdout",
          "output_type": "stream",
          "text": [
            "Fitting estimator with 12 features.\n",
            "Fitting estimator with 11 features.\n",
            "Fitting estimator with 10 features.\n",
            "Fitting estimator with 9 features.\n",
            "Fitting estimator with 8 features.\n",
            "Fitting estimator with 7 features.\n",
            "Fitting estimator with 6 features.\n",
            "Train RMSE: 1.355\n",
            "Train R2: 0.072\n",
            "Test RMSE: 1.416\n",
            "Test R2: -0.031\n"
          ]
        }
      ],
      "source": [
        "# Taking best performing parameters from previous implementation\n",
        "\n",
        "rfr_random = RandomForestRegressor(n_estimators = 89, min_samples_split = 2, min_samples_leaf = 1, max_leaf_nodes = 3, max_features = 'sqrt', max_depth = 78, bootstrap = False)\n",
        "rfe_random = RFE(rfr_random, n_features_to_select = 5, verbose = 2)\n",
        "rfe_random.fit(X_train, y_train)\n",
        "selected_columns = np.where(rfe_random.support_ == True)[0]\n",
        "selected_features = [df.columns[i] for i in selected_columns]\n",
        "rfr_random.fit(X_train[selected_features], y_train)\n",
        "evaluate_model(rfr_random, X_train[selected_features], X_test[selected_features])"
      ]
    },
    {
      "cell_type": "markdown",
      "metadata": {
        "id": "aB_edmuKZFPk"
      },
      "source": [
        "### RFE with tuned Random Forest(GridSearchCV)"
      ]
    },
    {
      "cell_type": "code",
      "execution_count": null,
      "metadata": {
        "colab": {
          "base_uri": "https://localhost:8080/"
        },
        "id": "bTedSUkRYsVC",
        "outputId": "ef7c836a-c988-48d6-d05b-3a857806f95e"
      },
      "outputs": [
        {
          "name": "stdout",
          "output_type": "stream",
          "text": [
            "Fitting estimator with 12 features.\n",
            "Fitting estimator with 11 features.\n",
            "Fitting estimator with 10 features.\n",
            "Fitting estimator with 9 features.\n",
            "Fitting estimator with 8 features.\n",
            "Fitting estimator with 7 features.\n",
            "Fitting estimator with 6 features.\n",
            "Train RMSE: 1.377\n",
            "Train R2: 0.042\n",
            "Test RMSE: 1.408\n",
            "Test R2: -0.021\n"
          ]
        }
      ],
      "source": [
        "# Taking best performing parameters from previous implementation\n",
        "\n",
        "rfr_grid = RandomForestRegressor(n_estimators = 82, min_samples_split = 2, min_samples_leaf = 2, max_leaf_nodes = 2, max_depth = 70)\n",
        "rfe_grid = RFE(rfr_grid, n_features_to_select = 5, verbose = 2)\n",
        "rfe_grid.fit(X_train, y_train)\n",
        "selected_columns = np.where(rfe_grid.support_ == True)[0]\n",
        "selected_features = [df.columns[i] for i in selected_columns]\n",
        "rfr_grid.fit(X_train[selected_features], y_train)\n",
        "evaluate_model(rfr_grid, X_train[selected_features], X_test[selected_features])"
      ]
    },
    {
      "cell_type": "markdown",
      "metadata": {
        "id": "1ooWx2gHdlNn"
      },
      "source": [
        "### RFE with Stacking Regressor"
      ]
    },
    {
      "cell_type": "markdown",
      "metadata": {
        "id": "upH4A10MdlNn"
      },
      "source": [
        "**Building RidgeCV estimator**"
      ]
    },
    {
      "cell_type": "code",
      "execution_count": null,
      "metadata": {
        "id": "3pTYrEnndlNn",
        "outputId": "9ad0b257-7b27-4922-f974-9e345c836c06"
      },
      "outputs": [
        {
          "name": "stdout",
          "output_type": "stream",
          "text": [
            "Fitting estimator with 12 features.\n",
            "Fitting estimator with 11 features.\n",
            "Fitting estimator with 10 features.\n",
            "Fitting estimator with 9 features.\n",
            "Fitting estimator with 8 features.\n",
            "Fitting estimator with 7 features.\n",
            "Fitting estimator with 6 features.\n",
            "Train RMSE: 1.397\n",
            "Train R2: 0.013\n",
            "Test RMSE: 1.388\n",
            "Test R2: 0.009\n"
          ]
        }
      ],
      "source": [
        "from sklearn.linear_model import RidgeCV\n",
        "rid = RidgeCV()\n",
        "rfe_rid = RFE(rid, n_features_to_select = 5, verbose = 2)\n",
        "rfe_rid.fit(X_train, y_train)\n",
        "selected_columns = np.where(rfe_rid.support_ == True)[0]\n",
        "selected_features = [df.columns[i] for i in selected_columns]\n",
        "rid.fit(X_train[selected_features], y_train)\n",
        "evaluate_model(rid, X_train[selected_features], X_test[selected_features])"
      ]
    },
    {
      "cell_type": "markdown",
      "metadata": {
        "id": "zZDRmfH-dlNo"
      },
      "source": [
        "**Building LassoCV estimator**"
      ]
    },
    {
      "cell_type": "code",
      "execution_count": null,
      "metadata": {
        "id": "YoJKOUUmdlNo",
        "outputId": "3889eca6-5d7c-41f4-befd-b6c7dd7fd66f"
      },
      "outputs": [
        {
          "name": "stdout",
          "output_type": "stream",
          "text": [
            "Fitting estimator with 12 features.\n",
            "Fitting estimator with 11 features.\n",
            "Fitting estimator with 10 features.\n",
            "Fitting estimator with 9 features.\n",
            "Fitting estimator with 8 features.\n",
            "Fitting estimator with 7 features.\n",
            "Fitting estimator with 6 features.\n",
            "Train RMSE: 1.406\n",
            "Train R2: -0.0\n",
            "Test RMSE: 1.394\n",
            "Test R2: -0.001\n"
          ]
        }
      ],
      "source": [
        "from sklearn.linear_model import LassoCV\n",
        "las = LassoCV(random_state=42)\n",
        "rfe_las = RFE(rid, n_features_to_select = 5, verbose = 2)\n",
        "rfe_las.fit(X_train, y_train)\n",
        "selected_columns = np.where(rfe_las.support_ == True)[0]\n",
        "selected_features = [df.columns[i] for i in selected_columns]\n",
        "las.fit(X_train[selected_features], y_train)\n",
        "evaluate_model(las, X_train[selected_features], X_test[selected_features])"
      ]
    },
    {
      "cell_type": "code",
      "execution_count": null,
      "metadata": {
        "id": "KWd7vZlTdlNo"
      },
      "outputs": [],
      "source": [
        "from sklearn.neighbors import KNeighborsRegressor\n",
        "estimators = [('ridge', rid),\n",
        "              ('lasso', las),\n",
        "              ('knr', KNeighborsRegressor(n_neighbors=20,\n",
        "                                          metric='euclidean'))]\n"
      ]
    },
    {
      "cell_type": "code",
      "execution_count": null,
      "metadata": {
        "id": "2zharDhDdlNo"
      },
      "outputs": [],
      "source": [
        "from sklearn.ensemble import GradientBoostingRegressor\n",
        "from sklearn.ensemble import StackingRegressor\n",
        "final_estimator = GradientBoostingRegressor(n_estimators=25, subsample=0.5, \n",
        "                                            min_samples_leaf=25, max_features=1,\n",
        "                                            random_state=42)\n",
        "reg = StackingRegressor(estimators=estimators,final_estimator=final_estimator)"
      ]
    },
    {
      "cell_type": "code",
      "execution_count": null,
      "metadata": {
        "id": "4NRPNtuCdlNo",
        "outputId": "293adc58-5f52-4932-b7bf-23f24031d21a"
      },
      "outputs": [
        {
          "data": {
            "text/html": [
              "<style>#sk-container-id-7 {color: black;background-color: white;}#sk-container-id-7 pre{padding: 0;}#sk-container-id-7 div.sk-toggleable {background-color: white;}#sk-container-id-7 label.sk-toggleable__label {cursor: pointer;display: block;width: 100%;margin-bottom: 0;padding: 0.3em;box-sizing: border-box;text-align: center;}#sk-container-id-7 label.sk-toggleable__label-arrow:before {content: \"▸\";float: left;margin-right: 0.25em;color: #696969;}#sk-container-id-7 label.sk-toggleable__label-arrow:hover:before {color: black;}#sk-container-id-7 div.sk-estimator:hover label.sk-toggleable__label-arrow:before {color: black;}#sk-container-id-7 div.sk-toggleable__content {max-height: 0;max-width: 0;overflow: hidden;text-align: left;background-color: #f0f8ff;}#sk-container-id-7 div.sk-toggleable__content pre {margin: 0.2em;color: black;border-radius: 0.25em;background-color: #f0f8ff;}#sk-container-id-7 input.sk-toggleable__control:checked~div.sk-toggleable__content {max-height: 200px;max-width: 100%;overflow: auto;}#sk-container-id-7 input.sk-toggleable__control:checked~label.sk-toggleable__label-arrow:before {content: \"▾\";}#sk-container-id-7 div.sk-estimator input.sk-toggleable__control:checked~label.sk-toggleable__label {background-color: #d4ebff;}#sk-container-id-7 div.sk-label input.sk-toggleable__control:checked~label.sk-toggleable__label {background-color: #d4ebff;}#sk-container-id-7 input.sk-hidden--visually {border: 0;clip: rect(1px 1px 1px 1px);clip: rect(1px, 1px, 1px, 1px);height: 1px;margin: -1px;overflow: hidden;padding: 0;position: absolute;width: 1px;}#sk-container-id-7 div.sk-estimator {font-family: monospace;background-color: #f0f8ff;border: 1px dotted black;border-radius: 0.25em;box-sizing: border-box;margin-bottom: 0.5em;}#sk-container-id-7 div.sk-estimator:hover {background-color: #d4ebff;}#sk-container-id-7 div.sk-parallel-item::after {content: \"\";width: 100%;border-bottom: 1px solid gray;flex-grow: 1;}#sk-container-id-7 div.sk-label:hover label.sk-toggleable__label {background-color: #d4ebff;}#sk-container-id-7 div.sk-serial::before {content: \"\";position: absolute;border-left: 1px solid gray;box-sizing: border-box;top: 0;bottom: 0;left: 50%;z-index: 0;}#sk-container-id-7 div.sk-serial {display: flex;flex-direction: column;align-items: center;background-color: white;padding-right: 0.2em;padding-left: 0.2em;position: relative;}#sk-container-id-7 div.sk-item {position: relative;z-index: 1;}#sk-container-id-7 div.sk-parallel {display: flex;align-items: stretch;justify-content: center;background-color: white;position: relative;}#sk-container-id-7 div.sk-item::before, #sk-container-id-7 div.sk-parallel-item::before {content: \"\";position: absolute;border-left: 1px solid gray;box-sizing: border-box;top: 0;bottom: 0;left: 50%;z-index: -1;}#sk-container-id-7 div.sk-parallel-item {display: flex;flex-direction: column;z-index: 1;position: relative;background-color: white;}#sk-container-id-7 div.sk-parallel-item:first-child::after {align-self: flex-end;width: 50%;}#sk-container-id-7 div.sk-parallel-item:last-child::after {align-self: flex-start;width: 50%;}#sk-container-id-7 div.sk-parallel-item:only-child::after {width: 0;}#sk-container-id-7 div.sk-dashed-wrapped {border: 1px dashed gray;margin: 0 0.4em 0.5em 0.4em;box-sizing: border-box;padding-bottom: 0.4em;background-color: white;}#sk-container-id-7 div.sk-label label {font-family: monospace;font-weight: bold;display: inline-block;line-height: 1.2em;}#sk-container-id-7 div.sk-label-container {text-align: center;}#sk-container-id-7 div.sk-container {/* jupyter's `normalize.less` sets `[hidden] { display: none; }` but bootstrap.min.css set `[hidden] { display: none !important; }` so we also need the `!important` here to be able to override the default hidden behavior on the sphinx rendered scikit-learn.org. See: https://github.com/scikit-learn/scikit-learn/issues/21755 */display: inline-block !important;position: relative;}#sk-container-id-7 div.sk-text-repr-fallback {display: none;}</style><div id=\"sk-container-id-7\" class=\"sk-top-container\"><div class=\"sk-text-repr-fallback\"><pre>StackingRegressor(estimators=[(&#x27;ridge&#x27;, RidgeCV()),\n",
              "                              (&#x27;lasso&#x27;, LassoCV(random_state=42)),\n",
              "                              (&#x27;knr&#x27;,\n",
              "                               KNeighborsRegressor(metric=&#x27;euclidean&#x27;,\n",
              "                                                   n_neighbors=20))],\n",
              "                  final_estimator=GradientBoostingRegressor(max_features=1,\n",
              "                                                            min_samples_leaf=25,\n",
              "                                                            n_estimators=25,\n",
              "                                                            random_state=42,\n",
              "                                                            subsample=0.5))</pre><b>In a Jupyter environment, please rerun this cell to show the HTML representation or trust the notebook. <br />On GitHub, the HTML representation is unable to render, please try loading this page with nbviewer.org.</b></div><div class=\"sk-container\" hidden><div class=\"sk-item sk-dashed-wrapped\"><div class=\"sk-label-container\"><div class=\"sk-label sk-toggleable\"><input class=\"sk-toggleable__control sk-hidden--visually\" id=\"sk-estimator-id-31\" type=\"checkbox\" ><label for=\"sk-estimator-id-31\" class=\"sk-toggleable__label sk-toggleable__label-arrow\">StackingRegressor</label><div class=\"sk-toggleable__content\"><pre>StackingRegressor(estimators=[(&#x27;ridge&#x27;, RidgeCV()),\n",
              "                              (&#x27;lasso&#x27;, LassoCV(random_state=42)),\n",
              "                              (&#x27;knr&#x27;,\n",
              "                               KNeighborsRegressor(metric=&#x27;euclidean&#x27;,\n",
              "                                                   n_neighbors=20))],\n",
              "                  final_estimator=GradientBoostingRegressor(max_features=1,\n",
              "                                                            min_samples_leaf=25,\n",
              "                                                            n_estimators=25,\n",
              "                                                            random_state=42,\n",
              "                                                            subsample=0.5))</pre></div></div></div><div class=\"sk-serial\"><div class=\"sk-item\"><div class=\"sk-parallel\"><div class=\"sk-parallel-item\"><div class=\"sk-item\"><div class=\"sk-label-container\"><div class=\"sk-label sk-toggleable\"><label>ridge</label></div></div><div class=\"sk-serial\"><div class=\"sk-item\"><div class=\"sk-estimator sk-toggleable\"><input class=\"sk-toggleable__control sk-hidden--visually\" id=\"sk-estimator-id-32\" type=\"checkbox\" ><label for=\"sk-estimator-id-32\" class=\"sk-toggleable__label sk-toggleable__label-arrow\">RidgeCV</label><div class=\"sk-toggleable__content\"><pre>RidgeCV()</pre></div></div></div></div></div></div><div class=\"sk-parallel-item\"><div class=\"sk-item\"><div class=\"sk-label-container\"><div class=\"sk-label sk-toggleable\"><label>lasso</label></div></div><div class=\"sk-serial\"><div class=\"sk-item\"><div class=\"sk-estimator sk-toggleable\"><input class=\"sk-toggleable__control sk-hidden--visually\" id=\"sk-estimator-id-33\" type=\"checkbox\" ><label for=\"sk-estimator-id-33\" class=\"sk-toggleable__label sk-toggleable__label-arrow\">LassoCV</label><div class=\"sk-toggleable__content\"><pre>LassoCV(random_state=42)</pre></div></div></div></div></div></div><div class=\"sk-parallel-item\"><div class=\"sk-item\"><div class=\"sk-label-container\"><div class=\"sk-label sk-toggleable\"><label>knr</label></div></div><div class=\"sk-serial\"><div class=\"sk-item\"><div class=\"sk-estimator sk-toggleable\"><input class=\"sk-toggleable__control sk-hidden--visually\" id=\"sk-estimator-id-34\" type=\"checkbox\" ><label for=\"sk-estimator-id-34\" class=\"sk-toggleable__label sk-toggleable__label-arrow\">KNeighborsRegressor</label><div class=\"sk-toggleable__content\"><pre>KNeighborsRegressor(metric=&#x27;euclidean&#x27;, n_neighbors=20)</pre></div></div></div></div></div></div></div></div><div class=\"sk-item\"><div class=\"sk-parallel\"><div class=\"sk-parallel-item\"><div class=\"sk-item\"><div class=\"sk-label-container\"><div class=\"sk-label sk-toggleable\"><label>final_estimator</label></div></div><div class=\"sk-serial\"><div class=\"sk-item\"><div class=\"sk-estimator sk-toggleable\"><input class=\"sk-toggleable__control sk-hidden--visually\" id=\"sk-estimator-id-35\" type=\"checkbox\" ><label for=\"sk-estimator-id-35\" class=\"sk-toggleable__label sk-toggleable__label-arrow\">GradientBoostingRegressor</label><div class=\"sk-toggleable__content\"><pre>GradientBoostingRegressor(max_features=1, min_samples_leaf=25, n_estimators=25,\n",
              "                          random_state=42, subsample=0.5)</pre></div></div></div></div></div></div></div></div></div></div></div></div>"
            ],
            "text/plain": [
              "StackingRegressor(estimators=[('ridge', RidgeCV()),\n",
              "                              ('lasso', LassoCV(random_state=42)),\n",
              "                              ('knr',\n",
              "                               KNeighborsRegressor(metric='euclidean',\n",
              "                                                   n_neighbors=20))],\n",
              "                  final_estimator=GradientBoostingRegressor(max_features=1,\n",
              "                                                            min_samples_leaf=25,\n",
              "                                                            n_estimators=25,\n",
              "                                                            random_state=42,\n",
              "                                                            subsample=0.5))"
            ]
          },
          "execution_count": 65,
          "metadata": {},
          "output_type": "execute_result"
        }
      ],
      "source": [
        "reg.fit(X_train, y_train)"
      ]
    },
    {
      "cell_type": "code",
      "execution_count": null,
      "metadata": {
        "id": "6HX14ODNdlNp"
      },
      "outputs": [],
      "source": [
        "y_pred = reg.predict(X_test)"
      ]
    },
    {
      "cell_type": "code",
      "execution_count": 1,
      "metadata": {
        "colab": {
          "base_uri": "https://localhost:8080/"
        },
        "id": "TwNvTCO_dlNp",
        "outputId": "9df956e1-10b9-421e-a678-2c53dbfe9c0c"
      },
      "outputs": [
        {
          "output_type": "stream",
          "name": "stdout",
          "text": [
            "Test R2 score: 0.2\n",
            "Test Rmse score: 1.45\n"
          ]
        }
      ],
      "source": [
        "print('Test R2 score: {:.2f}'.format(r2_score(y_test, y_pred)))\n",
        "print('Test Rmse score: {:.2f}'.format(math.sqrt(mean_squared_error(y_test, y_pred))))"
      ]
    },
    {
      "cell_type": "code",
      "execution_count": null,
      "metadata": {
        "id": "axJS4TbvdlNp"
      },
      "outputs": [],
      "source": []
    }
  ],
  "metadata": {
    "colab": {
      "provenance": []
    },
    "kernelspec": {
      "display_name": "Python 3 (ipykernel)",
      "language": "python",
      "name": "python3"
    },
    "language_info": {
      "codemirror_mode": {
        "name": "ipython",
        "version": 3
      },
      "file_extension": ".py",
      "mimetype": "text/x-python",
      "name": "python",
      "nbconvert_exporter": "python",
      "pygments_lexer": "ipython3",
      "version": "3.9.7"
    }
  },
  "nbformat": 4,
  "nbformat_minor": 0
}