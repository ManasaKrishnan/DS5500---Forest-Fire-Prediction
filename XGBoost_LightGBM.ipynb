{
  "cells": [
    {
      "cell_type": "markdown",
      "source": [
        "**<h1><center>Forest Fire Prediction</center></h1>**\n",
        "<center>Akshaya Mahesh, \n",
        "Sakthi Kripa Selvam, \n",
        "Manasa Krishnan</center> \n",
        "\n"
      ],
      "metadata": {
        "id": "82oQBvRLayMK"
      },
      "id": "82oQBvRLayMK"
    },
    {
      "cell_type": "markdown",
      "source": [
        "## 1. Dataset Loading\n",
        "## 2. EDA\n",
        "## 3. Dataset Preprocessing\n",
        "## 4. Baseline model"
      ],
      "metadata": {
        "id": "KnjoLyo6b2Jp"
      },
      "id": "KnjoLyo6b2Jp"
    },
    {
      "cell_type": "markdown",
      "source": [
        "### Importing required Libraries"
      ],
      "metadata": {
        "id": "CyqWV6JvcDKc"
      },
      "id": "CyqWV6JvcDKc"
    },
    {
      "cell_type": "code",
      "execution_count": 61,
      "id": "17038c11",
      "metadata": {
        "id": "17038c11"
      },
      "outputs": [],
      "source": [
        "import numpy as np\n",
        "import pandas as pd\n",
        "import matplotlib.pyplot as plt \n",
        "import seaborn as sns\n",
        "import math\n",
        "import xgboost as xgb\n",
        "from lightgbm import LGBMRegressor\n",
        "from sklearn.preprocessing import MinMaxScaler\n",
        "from sklearn.linear_model import LinearRegression, Ridge\n",
        "from sklearn.model_selection import train_test_split\n",
        "from sklearn.metrics import mean_squared_error, r2_score\n",
        "from sklearn.model_selection import GridSearchCV"
      ]
    },
    {
      "cell_type": "markdown",
      "source": [
        "## 1. Dataset Loading"
      ],
      "metadata": {
        "id": "GxDCQ3p9cOCR"
      },
      "id": "GxDCQ3p9cOCR"
    },
    {
      "cell_type": "code",
      "execution_count": 3,
      "id": "3101b4a0",
      "metadata": {
        "colab": {
          "base_uri": "https://localhost:8080/",
          "height": 204
        },
        "id": "3101b4a0",
        "outputId": "b4cc7483-8006-436f-87a7-34e940028628"
      },
      "outputs": [
        {
          "output_type": "execute_result",
          "data": {
            "text/plain": [
              "   X  Y month  day  FFMC   DMC     DC  ISI  temp  RH  wind  rain  area\n",
              "0  7  5   mar  fri  86.2  26.2   94.3  5.1   8.2  51   6.7   0.0   0.0\n",
              "1  7  4   oct  tue  90.6  35.4  669.1  6.7  18.0  33   0.9   0.0   0.0\n",
              "2  7  4   oct  sat  90.6  43.7  686.9  6.7  14.6  33   1.3   0.0   0.0\n",
              "3  8  6   mar  fri  91.7  33.3   77.5  9.0   8.3  97   4.0   0.2   0.0\n",
              "4  8  6   mar  sun  89.3  51.3  102.2  9.6  11.4  99   1.8   0.0   0.0"
            ],
            "text/html": [
              "\n",
              "  <div id=\"df-a8bc8ef9-ddda-405e-a7c5-af128107ce9f\">\n",
              "    <div class=\"colab-df-container\">\n",
              "      <div>\n",
              "<style scoped>\n",
              "    .dataframe tbody tr th:only-of-type {\n",
              "        vertical-align: middle;\n",
              "    }\n",
              "\n",
              "    .dataframe tbody tr th {\n",
              "        vertical-align: top;\n",
              "    }\n",
              "\n",
              "    .dataframe thead th {\n",
              "        text-align: right;\n",
              "    }\n",
              "</style>\n",
              "<table border=\"1\" class=\"dataframe\">\n",
              "  <thead>\n",
              "    <tr style=\"text-align: right;\">\n",
              "      <th></th>\n",
              "      <th>X</th>\n",
              "      <th>Y</th>\n",
              "      <th>month</th>\n",
              "      <th>day</th>\n",
              "      <th>FFMC</th>\n",
              "      <th>DMC</th>\n",
              "      <th>DC</th>\n",
              "      <th>ISI</th>\n",
              "      <th>temp</th>\n",
              "      <th>RH</th>\n",
              "      <th>wind</th>\n",
              "      <th>rain</th>\n",
              "      <th>area</th>\n",
              "    </tr>\n",
              "  </thead>\n",
              "  <tbody>\n",
              "    <tr>\n",
              "      <th>0</th>\n",
              "      <td>7</td>\n",
              "      <td>5</td>\n",
              "      <td>mar</td>\n",
              "      <td>fri</td>\n",
              "      <td>86.2</td>\n",
              "      <td>26.2</td>\n",
              "      <td>94.3</td>\n",
              "      <td>5.1</td>\n",
              "      <td>8.2</td>\n",
              "      <td>51</td>\n",
              "      <td>6.7</td>\n",
              "      <td>0.0</td>\n",
              "      <td>0.0</td>\n",
              "    </tr>\n",
              "    <tr>\n",
              "      <th>1</th>\n",
              "      <td>7</td>\n",
              "      <td>4</td>\n",
              "      <td>oct</td>\n",
              "      <td>tue</td>\n",
              "      <td>90.6</td>\n",
              "      <td>35.4</td>\n",
              "      <td>669.1</td>\n",
              "      <td>6.7</td>\n",
              "      <td>18.0</td>\n",
              "      <td>33</td>\n",
              "      <td>0.9</td>\n",
              "      <td>0.0</td>\n",
              "      <td>0.0</td>\n",
              "    </tr>\n",
              "    <tr>\n",
              "      <th>2</th>\n",
              "      <td>7</td>\n",
              "      <td>4</td>\n",
              "      <td>oct</td>\n",
              "      <td>sat</td>\n",
              "      <td>90.6</td>\n",
              "      <td>43.7</td>\n",
              "      <td>686.9</td>\n",
              "      <td>6.7</td>\n",
              "      <td>14.6</td>\n",
              "      <td>33</td>\n",
              "      <td>1.3</td>\n",
              "      <td>0.0</td>\n",
              "      <td>0.0</td>\n",
              "    </tr>\n",
              "    <tr>\n",
              "      <th>3</th>\n",
              "      <td>8</td>\n",
              "      <td>6</td>\n",
              "      <td>mar</td>\n",
              "      <td>fri</td>\n",
              "      <td>91.7</td>\n",
              "      <td>33.3</td>\n",
              "      <td>77.5</td>\n",
              "      <td>9.0</td>\n",
              "      <td>8.3</td>\n",
              "      <td>97</td>\n",
              "      <td>4.0</td>\n",
              "      <td>0.2</td>\n",
              "      <td>0.0</td>\n",
              "    </tr>\n",
              "    <tr>\n",
              "      <th>4</th>\n",
              "      <td>8</td>\n",
              "      <td>6</td>\n",
              "      <td>mar</td>\n",
              "      <td>sun</td>\n",
              "      <td>89.3</td>\n",
              "      <td>51.3</td>\n",
              "      <td>102.2</td>\n",
              "      <td>9.6</td>\n",
              "      <td>11.4</td>\n",
              "      <td>99</td>\n",
              "      <td>1.8</td>\n",
              "      <td>0.0</td>\n",
              "      <td>0.0</td>\n",
              "    </tr>\n",
              "  </tbody>\n",
              "</table>\n",
              "</div>\n",
              "      <button class=\"colab-df-convert\" onclick=\"convertToInteractive('df-a8bc8ef9-ddda-405e-a7c5-af128107ce9f')\"\n",
              "              title=\"Convert this dataframe to an interactive table.\"\n",
              "              style=\"display:none;\">\n",
              "        \n",
              "  <svg xmlns=\"http://www.w3.org/2000/svg\" height=\"24px\"viewBox=\"0 0 24 24\"\n",
              "       width=\"24px\">\n",
              "    <path d=\"M0 0h24v24H0V0z\" fill=\"none\"/>\n",
              "    <path d=\"M18.56 5.44l.94 2.06.94-2.06 2.06-.94-2.06-.94-.94-2.06-.94 2.06-2.06.94zm-11 1L8.5 8.5l.94-2.06 2.06-.94-2.06-.94L8.5 2.5l-.94 2.06-2.06.94zm10 10l.94 2.06.94-2.06 2.06-.94-2.06-.94-.94-2.06-.94 2.06-2.06.94z\"/><path d=\"M17.41 7.96l-1.37-1.37c-.4-.4-.92-.59-1.43-.59-.52 0-1.04.2-1.43.59L10.3 9.45l-7.72 7.72c-.78.78-.78 2.05 0 2.83L4 21.41c.39.39.9.59 1.41.59.51 0 1.02-.2 1.41-.59l7.78-7.78 2.81-2.81c.8-.78.8-2.07 0-2.86zM5.41 20L4 18.59l7.72-7.72 1.47 1.35L5.41 20z\"/>\n",
              "  </svg>\n",
              "      </button>\n",
              "      \n",
              "  <style>\n",
              "    .colab-df-container {\n",
              "      display:flex;\n",
              "      flex-wrap:wrap;\n",
              "      gap: 12px;\n",
              "    }\n",
              "\n",
              "    .colab-df-convert {\n",
              "      background-color: #E8F0FE;\n",
              "      border: none;\n",
              "      border-radius: 50%;\n",
              "      cursor: pointer;\n",
              "      display: none;\n",
              "      fill: #1967D2;\n",
              "      height: 32px;\n",
              "      padding: 0 0 0 0;\n",
              "      width: 32px;\n",
              "    }\n",
              "\n",
              "    .colab-df-convert:hover {\n",
              "      background-color: #E2EBFA;\n",
              "      box-shadow: 0px 1px 2px rgba(60, 64, 67, 0.3), 0px 1px 3px 1px rgba(60, 64, 67, 0.15);\n",
              "      fill: #174EA6;\n",
              "    }\n",
              "\n",
              "    [theme=dark] .colab-df-convert {\n",
              "      background-color: #3B4455;\n",
              "      fill: #D2E3FC;\n",
              "    }\n",
              "\n",
              "    [theme=dark] .colab-df-convert:hover {\n",
              "      background-color: #434B5C;\n",
              "      box-shadow: 0px 1px 3px 1px rgba(0, 0, 0, 0.15);\n",
              "      filter: drop-shadow(0px 1px 2px rgba(0, 0, 0, 0.3));\n",
              "      fill: #FFFFFF;\n",
              "    }\n",
              "  </style>\n",
              "\n",
              "      <script>\n",
              "        const buttonEl =\n",
              "          document.querySelector('#df-a8bc8ef9-ddda-405e-a7c5-af128107ce9f button.colab-df-convert');\n",
              "        buttonEl.style.display =\n",
              "          google.colab.kernel.accessAllowed ? 'block' : 'none';\n",
              "\n",
              "        async function convertToInteractive(key) {\n",
              "          const element = document.querySelector('#df-a8bc8ef9-ddda-405e-a7c5-af128107ce9f');\n",
              "          const dataTable =\n",
              "            await google.colab.kernel.invokeFunction('convertToInteractive',\n",
              "                                                     [key], {});\n",
              "          if (!dataTable) return;\n",
              "\n",
              "          const docLinkHtml = 'Like what you see? Visit the ' +\n",
              "            '<a target=\"_blank\" href=https://colab.research.google.com/notebooks/data_table.ipynb>data table notebook</a>'\n",
              "            + ' to learn more about interactive tables.';\n",
              "          element.innerHTML = '';\n",
              "          dataTable['output_type'] = 'display_data';\n",
              "          await google.colab.output.renderOutput(dataTable, element);\n",
              "          const docLink = document.createElement('div');\n",
              "          docLink.innerHTML = docLinkHtml;\n",
              "          element.appendChild(docLink);\n",
              "        }\n",
              "      </script>\n",
              "    </div>\n",
              "  </div>\n",
              "  "
            ]
          },
          "metadata": {},
          "execution_count": 3
        }
      ],
      "source": [
        "df=pd.read_csv(\"forestfires.csv\")\n",
        "df.head()"
      ]
    },
    {
      "cell_type": "code",
      "execution_count": 4,
      "id": "3df5f69c",
      "metadata": {
        "colab": {
          "base_uri": "https://localhost:8080/"
        },
        "id": "3df5f69c",
        "outputId": "7295553c-3729-462b-cb07-24e3fd155fdd"
      },
      "outputs": [
        {
          "output_type": "execute_result",
          "data": {
            "text/plain": [
              "(517, 13)"
            ]
          },
          "metadata": {},
          "execution_count": 4
        }
      ],
      "source": [
        "# Shape of the dataset - Dataset has 517 records and 13 columns\n",
        "df.shape "
      ]
    },
    {
      "cell_type": "code",
      "execution_count": 5,
      "id": "60661a7f",
      "metadata": {
        "scrolled": true,
        "id": "60661a7f",
        "outputId": "be5bfcf0-6ef6-4ebe-96a9-aaf3f1d9d676",
        "colab": {
          "base_uri": "https://localhost:8080/"
        }
      },
      "outputs": [
        {
          "output_type": "stream",
          "name": "stdout",
          "text": [
            "<class 'pandas.core.frame.DataFrame'>\n",
            "RangeIndex: 517 entries, 0 to 516\n",
            "Data columns (total 13 columns):\n",
            " #   Column  Non-Null Count  Dtype  \n",
            "---  ------  --------------  -----  \n",
            " 0   X       517 non-null    int64  \n",
            " 1   Y       517 non-null    int64  \n",
            " 2   month   517 non-null    object \n",
            " 3   day     517 non-null    object \n",
            " 4   FFMC    517 non-null    float64\n",
            " 5   DMC     517 non-null    float64\n",
            " 6   DC      517 non-null    float64\n",
            " 7   ISI     517 non-null    float64\n",
            " 8   temp    517 non-null    float64\n",
            " 9   RH      517 non-null    int64  \n",
            " 10  wind    517 non-null    float64\n",
            " 11  rain    517 non-null    float64\n",
            " 12  area    517 non-null    float64\n",
            "dtypes: float64(8), int64(3), object(2)\n",
            "memory usage: 52.6+ KB\n"
          ]
        }
      ],
      "source": [
        "# Looking at the column types and detecting nulls if any\n",
        "df.info()"
      ]
    },
    {
      "cell_type": "markdown",
      "source": [
        "There do not seem to be any nulls. We hae float and integer type columns"
      ],
      "metadata": {
        "id": "2gCq2rSZcwC3"
      },
      "id": "2gCq2rSZcwC3"
    },
    {
      "cell_type": "code",
      "execution_count": 6,
      "id": "c6ffc214",
      "metadata": {
        "id": "c6ffc214",
        "outputId": "44c9b1c5-f806-43df-d02f-b863f74de6e8",
        "colab": {
          "base_uri": "https://localhost:8080/",
          "height": 361
        }
      },
      "outputs": [
        {
          "output_type": "execute_result",
          "data": {
            "text/plain": [
              "                X           Y        FFMC         DMC          DC         ISI  \\\n",
              "count  517.000000  517.000000  517.000000  517.000000  517.000000  517.000000   \n",
              "mean     4.669246    4.299807   90.644681  110.872340  547.940039    9.021663   \n",
              "std      2.313778    1.229900    5.520111   64.046482  248.066192    4.559477   \n",
              "min      1.000000    2.000000   18.700000    1.100000    7.900000    0.000000   \n",
              "25%      3.000000    4.000000   90.200000   68.600000  437.700000    6.500000   \n",
              "50%      4.000000    4.000000   91.600000  108.300000  664.200000    8.400000   \n",
              "75%      7.000000    5.000000   92.900000  142.400000  713.900000   10.800000   \n",
              "max      9.000000    9.000000   96.200000  291.300000  860.600000   56.100000   \n",
              "\n",
              "             temp          RH        wind        rain         area  \n",
              "count  517.000000  517.000000  517.000000  517.000000   517.000000  \n",
              "mean    18.889168   44.288201    4.017602    0.021663    12.847292  \n",
              "std      5.806625   16.317469    1.791653    0.295959    63.655818  \n",
              "min      2.200000   15.000000    0.400000    0.000000     0.000000  \n",
              "25%     15.500000   33.000000    2.700000    0.000000     0.000000  \n",
              "50%     19.300000   42.000000    4.000000    0.000000     0.520000  \n",
              "75%     22.800000   53.000000    4.900000    0.000000     6.570000  \n",
              "max     33.300000  100.000000    9.400000    6.400000  1090.840000  "
            ],
            "text/html": [
              "\n",
              "  <div id=\"df-2c895211-e549-4f07-9989-43c3f584f615\">\n",
              "    <div class=\"colab-df-container\">\n",
              "      <div>\n",
              "<style scoped>\n",
              "    .dataframe tbody tr th:only-of-type {\n",
              "        vertical-align: middle;\n",
              "    }\n",
              "\n",
              "    .dataframe tbody tr th {\n",
              "        vertical-align: top;\n",
              "    }\n",
              "\n",
              "    .dataframe thead th {\n",
              "        text-align: right;\n",
              "    }\n",
              "</style>\n",
              "<table border=\"1\" class=\"dataframe\">\n",
              "  <thead>\n",
              "    <tr style=\"text-align: right;\">\n",
              "      <th></th>\n",
              "      <th>X</th>\n",
              "      <th>Y</th>\n",
              "      <th>FFMC</th>\n",
              "      <th>DMC</th>\n",
              "      <th>DC</th>\n",
              "      <th>ISI</th>\n",
              "      <th>temp</th>\n",
              "      <th>RH</th>\n",
              "      <th>wind</th>\n",
              "      <th>rain</th>\n",
              "      <th>area</th>\n",
              "    </tr>\n",
              "  </thead>\n",
              "  <tbody>\n",
              "    <tr>\n",
              "      <th>count</th>\n",
              "      <td>517.000000</td>\n",
              "      <td>517.000000</td>\n",
              "      <td>517.000000</td>\n",
              "      <td>517.000000</td>\n",
              "      <td>517.000000</td>\n",
              "      <td>517.000000</td>\n",
              "      <td>517.000000</td>\n",
              "      <td>517.000000</td>\n",
              "      <td>517.000000</td>\n",
              "      <td>517.000000</td>\n",
              "      <td>517.000000</td>\n",
              "    </tr>\n",
              "    <tr>\n",
              "      <th>mean</th>\n",
              "      <td>4.669246</td>\n",
              "      <td>4.299807</td>\n",
              "      <td>90.644681</td>\n",
              "      <td>110.872340</td>\n",
              "      <td>547.940039</td>\n",
              "      <td>9.021663</td>\n",
              "      <td>18.889168</td>\n",
              "      <td>44.288201</td>\n",
              "      <td>4.017602</td>\n",
              "      <td>0.021663</td>\n",
              "      <td>12.847292</td>\n",
              "    </tr>\n",
              "    <tr>\n",
              "      <th>std</th>\n",
              "      <td>2.313778</td>\n",
              "      <td>1.229900</td>\n",
              "      <td>5.520111</td>\n",
              "      <td>64.046482</td>\n",
              "      <td>248.066192</td>\n",
              "      <td>4.559477</td>\n",
              "      <td>5.806625</td>\n",
              "      <td>16.317469</td>\n",
              "      <td>1.791653</td>\n",
              "      <td>0.295959</td>\n",
              "      <td>63.655818</td>\n",
              "    </tr>\n",
              "    <tr>\n",
              "      <th>min</th>\n",
              "      <td>1.000000</td>\n",
              "      <td>2.000000</td>\n",
              "      <td>18.700000</td>\n",
              "      <td>1.100000</td>\n",
              "      <td>7.900000</td>\n",
              "      <td>0.000000</td>\n",
              "      <td>2.200000</td>\n",
              "      <td>15.000000</td>\n",
              "      <td>0.400000</td>\n",
              "      <td>0.000000</td>\n",
              "      <td>0.000000</td>\n",
              "    </tr>\n",
              "    <tr>\n",
              "      <th>25%</th>\n",
              "      <td>3.000000</td>\n",
              "      <td>4.000000</td>\n",
              "      <td>90.200000</td>\n",
              "      <td>68.600000</td>\n",
              "      <td>437.700000</td>\n",
              "      <td>6.500000</td>\n",
              "      <td>15.500000</td>\n",
              "      <td>33.000000</td>\n",
              "      <td>2.700000</td>\n",
              "      <td>0.000000</td>\n",
              "      <td>0.000000</td>\n",
              "    </tr>\n",
              "    <tr>\n",
              "      <th>50%</th>\n",
              "      <td>4.000000</td>\n",
              "      <td>4.000000</td>\n",
              "      <td>91.600000</td>\n",
              "      <td>108.300000</td>\n",
              "      <td>664.200000</td>\n",
              "      <td>8.400000</td>\n",
              "      <td>19.300000</td>\n",
              "      <td>42.000000</td>\n",
              "      <td>4.000000</td>\n",
              "      <td>0.000000</td>\n",
              "      <td>0.520000</td>\n",
              "    </tr>\n",
              "    <tr>\n",
              "      <th>75%</th>\n",
              "      <td>7.000000</td>\n",
              "      <td>5.000000</td>\n",
              "      <td>92.900000</td>\n",
              "      <td>142.400000</td>\n",
              "      <td>713.900000</td>\n",
              "      <td>10.800000</td>\n",
              "      <td>22.800000</td>\n",
              "      <td>53.000000</td>\n",
              "      <td>4.900000</td>\n",
              "      <td>0.000000</td>\n",
              "      <td>6.570000</td>\n",
              "    </tr>\n",
              "    <tr>\n",
              "      <th>max</th>\n",
              "      <td>9.000000</td>\n",
              "      <td>9.000000</td>\n",
              "      <td>96.200000</td>\n",
              "      <td>291.300000</td>\n",
              "      <td>860.600000</td>\n",
              "      <td>56.100000</td>\n",
              "      <td>33.300000</td>\n",
              "      <td>100.000000</td>\n",
              "      <td>9.400000</td>\n",
              "      <td>6.400000</td>\n",
              "      <td>1090.840000</td>\n",
              "    </tr>\n",
              "  </tbody>\n",
              "</table>\n",
              "</div>\n",
              "      <button class=\"colab-df-convert\" onclick=\"convertToInteractive('df-2c895211-e549-4f07-9989-43c3f584f615')\"\n",
              "              title=\"Convert this dataframe to an interactive table.\"\n",
              "              style=\"display:none;\">\n",
              "        \n",
              "  <svg xmlns=\"http://www.w3.org/2000/svg\" height=\"24px\"viewBox=\"0 0 24 24\"\n",
              "       width=\"24px\">\n",
              "    <path d=\"M0 0h24v24H0V0z\" fill=\"none\"/>\n",
              "    <path d=\"M18.56 5.44l.94 2.06.94-2.06 2.06-.94-2.06-.94-.94-2.06-.94 2.06-2.06.94zm-11 1L8.5 8.5l.94-2.06 2.06-.94-2.06-.94L8.5 2.5l-.94 2.06-2.06.94zm10 10l.94 2.06.94-2.06 2.06-.94-2.06-.94-.94-2.06-.94 2.06-2.06.94z\"/><path d=\"M17.41 7.96l-1.37-1.37c-.4-.4-.92-.59-1.43-.59-.52 0-1.04.2-1.43.59L10.3 9.45l-7.72 7.72c-.78.78-.78 2.05 0 2.83L4 21.41c.39.39.9.59 1.41.59.51 0 1.02-.2 1.41-.59l7.78-7.78 2.81-2.81c.8-.78.8-2.07 0-2.86zM5.41 20L4 18.59l7.72-7.72 1.47 1.35L5.41 20z\"/>\n",
              "  </svg>\n",
              "      </button>\n",
              "      \n",
              "  <style>\n",
              "    .colab-df-container {\n",
              "      display:flex;\n",
              "      flex-wrap:wrap;\n",
              "      gap: 12px;\n",
              "    }\n",
              "\n",
              "    .colab-df-convert {\n",
              "      background-color: #E8F0FE;\n",
              "      border: none;\n",
              "      border-radius: 50%;\n",
              "      cursor: pointer;\n",
              "      display: none;\n",
              "      fill: #1967D2;\n",
              "      height: 32px;\n",
              "      padding: 0 0 0 0;\n",
              "      width: 32px;\n",
              "    }\n",
              "\n",
              "    .colab-df-convert:hover {\n",
              "      background-color: #E2EBFA;\n",
              "      box-shadow: 0px 1px 2px rgba(60, 64, 67, 0.3), 0px 1px 3px 1px rgba(60, 64, 67, 0.15);\n",
              "      fill: #174EA6;\n",
              "    }\n",
              "\n",
              "    [theme=dark] .colab-df-convert {\n",
              "      background-color: #3B4455;\n",
              "      fill: #D2E3FC;\n",
              "    }\n",
              "\n",
              "    [theme=dark] .colab-df-convert:hover {\n",
              "      background-color: #434B5C;\n",
              "      box-shadow: 0px 1px 3px 1px rgba(0, 0, 0, 0.15);\n",
              "      filter: drop-shadow(0px 1px 2px rgba(0, 0, 0, 0.3));\n",
              "      fill: #FFFFFF;\n",
              "    }\n",
              "  </style>\n",
              "\n",
              "      <script>\n",
              "        const buttonEl =\n",
              "          document.querySelector('#df-2c895211-e549-4f07-9989-43c3f584f615 button.colab-df-convert');\n",
              "        buttonEl.style.display =\n",
              "          google.colab.kernel.accessAllowed ? 'block' : 'none';\n",
              "\n",
              "        async function convertToInteractive(key) {\n",
              "          const element = document.querySelector('#df-2c895211-e549-4f07-9989-43c3f584f615');\n",
              "          const dataTable =\n",
              "            await google.colab.kernel.invokeFunction('convertToInteractive',\n",
              "                                                     [key], {});\n",
              "          if (!dataTable) return;\n",
              "\n",
              "          const docLinkHtml = 'Like what you see? Visit the ' +\n",
              "            '<a target=\"_blank\" href=https://colab.research.google.com/notebooks/data_table.ipynb>data table notebook</a>'\n",
              "            + ' to learn more about interactive tables.';\n",
              "          element.innerHTML = '';\n",
              "          dataTable['output_type'] = 'display_data';\n",
              "          await google.colab.output.renderOutput(dataTable, element);\n",
              "          const docLink = document.createElement('div');\n",
              "          docLink.innerHTML = docLinkHtml;\n",
              "          element.appendChild(docLink);\n",
              "        }\n",
              "      </script>\n",
              "    </div>\n",
              "  </div>\n",
              "  "
            ]
          },
          "metadata": {},
          "execution_count": 6
        }
      ],
      "source": [
        "# Descriptive statistics of the dataset\n",
        "df.describe()"
      ]
    },
    {
      "cell_type": "code",
      "source": [
        "plt.figure(figsize=(10,10))\n",
        "\n",
        "plt.subplot(3, 3, 1)\n",
        "df['FFMC'].plot(kind='box')\n",
        "\n",
        "plt.subplot(3, 3, 2)\n",
        "df['DMC'].plot(kind='box')\n",
        "\n",
        "plt.subplot(3, 3, 3)\n",
        "df['DC'].plot(kind='box')\n",
        "\n",
        "plt.subplot(3, 3, 4)\n",
        "df['ISI'].plot(kind='box')\n",
        "\n",
        "plt.subplot(3, 3, 5)\n",
        "df['temp'].plot(kind='box')\n",
        "\n",
        "plt.subplot(3, 3, 6)\n",
        "df['RH'].plot(kind='box')\n",
        "\n",
        "plt.subplot(3, 3, 7)\n",
        "df['wind'].plot(kind='box')\n",
        "\n",
        "plt.subplot(3, 3, 8)\n",
        "df['rain'].plot(kind='box')\n",
        "\n",
        "plt.subplot(3, 3, 9)\n",
        "df['area'].plot(kind='box')\n",
        "\n",
        "plt.show()"
      ],
      "metadata": {
        "colab": {
          "base_uri": "https://localhost:8080/",
          "height": 595
        },
        "id": "o6IQT6yndniR",
        "outputId": "610db46a-610d-4f03-f34d-ad30e60b4f97"
      },
      "id": "o6IQT6yndniR",
      "execution_count": 7,
      "outputs": [
        {
          "output_type": "display_data",
          "data": {
            "text/plain": [
              "<Figure size 720x720 with 9 Axes>"
            ],
            "image/png": "[encoded data removed]"
          },
          "metadata": {
            "needs_background": "light"
          }
        }
      ]
    },
    {
      "cell_type": "markdown",
      "source": [
        "We looked at the mean, std, minimum, maximum and quartile information of all the features. Rain and Area seemed to have majority of the data centered around 0. Some columns like FFMC and ISI seem to show skewness. "
      ],
      "metadata": {
        "id": "5UajKT-Jc_wQ"
      },
      "id": "5UajKT-Jc_wQ"
    },
    {
      "cell_type": "code",
      "execution_count": 8,
      "id": "3cfebdde",
      "metadata": {
        "scrolled": false,
        "colab": {
          "base_uri": "https://localhost:8080/"
        },
        "id": "3cfebdde",
        "outputId": "98cb41fd-575f-43f0-f69c-61107b07c311"
      },
      "outputs": [
        {
          "output_type": "execute_result",
          "data": {
            "text/plain": [
              "array(['mar', 'oct', 'aug', 'sep', 'apr', 'jun', 'jul', 'feb', 'jan',\n",
              "       'dec', 'may', 'nov'], dtype=object)"
            ]
          },
          "metadata": {},
          "execution_count": 8
        }
      ],
      "source": [
        "# Unique months \n",
        "df['month'].unique()"
      ]
    },
    {
      "cell_type": "code",
      "execution_count": 9,
      "id": "acc80973",
      "metadata": {
        "colab": {
          "base_uri": "https://localhost:8080/"
        },
        "id": "acc80973",
        "outputId": "0623464f-94a6-485b-8476-742bda8829ce"
      },
      "outputs": [
        {
          "output_type": "execute_result",
          "data": {
            "text/plain": [
              "array(['fri', 'tue', 'sat', 'sun', 'mon', 'wed', 'thu'], dtype=object)"
            ]
          },
          "metadata": {},
          "execution_count": 9
        }
      ],
      "source": [
        "# Unique days\n",
        "df['day'].unique()"
      ]
    },
    {
      "cell_type": "markdown",
      "source": [
        "## 2. EDA"
      ],
      "metadata": {
        "id": "WmKPjj6UePNA"
      },
      "id": "WmKPjj6UePNA"
    },
    {
      "cell_type": "markdown",
      "id": "e755a598",
      "metadata": {
        "id": "e755a598"
      },
      "source": [
        "The main goal of our project is to predict the area of forest that could be affected based on some conditions. Therefore, let us visualize the `area` variable."
      ]
    },
    {
      "cell_type": "code",
      "execution_count": 10,
      "id": "236abae0",
      "metadata": {
        "id": "236abae0",
        "outputId": "02a4a703-0f9a-48d8-ab62-bc5d49622bf2",
        "colab": {
          "base_uri": "https://localhost:8080/",
          "height": 388
        }
      },
      "outputs": [
        {
          "output_type": "stream",
          "name": "stderr",
          "text": [
            "/usr/local/lib/python3.8/dist-packages/seaborn/distributions.py:2619: FutureWarning: `distplot` is a deprecated function and will be removed in a future version. Please adapt your code to use either `displot` (a figure-level function with similar flexibility) or `histplot` (an axes-level function for histograms).\n",
            "  warnings.warn(msg, FutureWarning)\n"
          ]
        },
        {
          "output_type": "display_data",
          "data": {
            "text/plain": [
              "<Figure size 504x360 with 1 Axes>"
            ],
            "image/png": "[encoded data removed]"
          },
          "metadata": {
            "needs_background": "light"
          }
        }
      ],
      "source": [
        "# Skewness of the Area in the dataset\n",
        "plt.rcParams['figure.figsize'] = [7, 5]\n",
        "sns.distplot(df['area']);"
      ]
    },
    {
      "cell_type": "markdown",
      "id": "6b261b52",
      "metadata": {
        "id": "6b261b52"
      },
      "source": [
        "Let us vizualize few more features to understand the dataset better."
      ]
    },
    {
      "cell_type": "code",
      "execution_count": 11,
      "id": "90424664",
      "metadata": {
        "colab": {
          "base_uri": "https://localhost:8080/",
          "height": 551
        },
        "id": "90424664",
        "outputId": "e2f2001e-b438-4c9f-f628-c6feac73c458"
      },
      "outputs": [
        {
          "output_type": "display_data",
          "data": {
            "text/plain": [
              "<Figure size 1440x720 with 1 Axes>"
            ],
            "image/png": "[encoded data removed]"
          },
          "metadata": {}
        }
      ],
      "source": [
        "# Month vs Temp\n",
        "plt.rcParams['figure.figsize'] = [20, 10]\n",
        "sns.set(style = \"whitegrid\", font_scale = 1.3)\n",
        "month_temp = sns.barplot(x = 'month', y = 'temp', data = df,\n",
        "                         order = ['jan', 'feb', 'mar', 'apr', 'may', 'jun', \n",
        "                                  'jul', 'aug', 'sep', 'oct', 'nov', 'dec'],\n",
        "                         palette = 'flare');\n",
        "month_temp.set(title = \"Month Vs Temp Barplot\", xlabel = \"Months\", \n",
        "               ylabel = \"Temperature\");"
      ]
    },
    {
      "cell_type": "markdown",
      "id": "3c5e4a3a",
      "metadata": {
        "id": "3c5e4a3a"
      },
      "source": [
        "The given forest has higher temperatures during summer as expected."
      ]
    },
    {
      "cell_type": "code",
      "execution_count": 12,
      "id": "e86ab97a",
      "metadata": {
        "scrolled": true,
        "colab": {
          "base_uri": "https://localhost:8080/",
          "height": 547
        },
        "id": "e86ab97a",
        "outputId": "7a443e1d-0a31-4b81-a9af-03b5d1efc9ad"
      },
      "outputs": [
        {
          "output_type": "display_data",
          "data": {
            "text/plain": [
              "<Figure size 1440x720 with 1 Axes>"
            ],
            "image/png": "[encoded data removed]"
          },
          "metadata": {}
        }
      ],
      "source": [
        "# Month vs Area\n",
        "plt.rcParams['figure.figsize'] = [20, 10]\n",
        "sns.set(style = \"whitegrid\", font_scale = 1.0)\n",
        "month_vs_area = sns.barplot(x = 'month', y = 'area', data = df,\n",
        "                         order = ['jan', 'feb', 'mar', 'apr', 'may', 'jun', \n",
        "                                  'jul', 'aug', 'sep', 'oct', 'nov', 'dec'], \n",
        "                            palette = 'summer');\n",
        "month_vs_area.set(title = \"Month Vs Area plot\", xlabel = \"Months\", \n",
        "                  ylabel = \"Area\");"
      ]
    },
    {
      "cell_type": "markdown",
      "id": "830982ed",
      "metadata": {
        "id": "830982ed"
      },
      "source": [
        "From the above Month Vs Area graph we can see that lot of forest area gets affected during Summer when compared to other seasons. This might be due to high temperatures and dry conditions.</br>\n",
        "December month also shows significance loss in forest cover area and is something that we need to look into."
      ]
    },
    {
      "cell_type": "markdown",
      "id": "0b367720",
      "metadata": {
        "id": "0b367720"
      },
      "source": [
        "Few of the factors that influences occurence of forest fires are Wind and Rainfall. Let us visualize `rain` vs `month` followed by `wind` vs `month`"
      ]
    },
    {
      "cell_type": "code",
      "execution_count": 13,
      "id": "9d13dbf7",
      "metadata": {
        "scrolled": true,
        "id": "9d13dbf7",
        "outputId": "471b9608-bffc-4d4c-b3bb-638bc58f0ff8",
        "colab": {
          "base_uri": "https://localhost:8080/",
          "height": 542
        }
      },
      "outputs": [
        {
          "output_type": "display_data",
          "data": {
            "text/plain": [
              "<Figure size 1440x720 with 1 Axes>"
            ],
            "image/png": "[encoded data removed]"
          },
          "metadata": {}
        }
      ],
      "source": [
        "# Month vs Rainfall\n",
        "plt.rcParams['figure.figsize'] = [20, 10]\n",
        "sns.set(style = \"whitegrid\", font_scale = 1.0)\n",
        "month_vs_rain = sns.barplot(x = 'month', y = 'rain', data = df,\n",
        "                         order = ['jan', 'feb', 'mar', 'apr', 'may', 'jun', \n",
        "                                  'jul', 'aug', 'sep', 'oct', 'nov', 'dec'], \n",
        "                            palette = 'winter');\n",
        "month_vs_rain.set(title = \"Month Vs Rainfall plot\", xlabel = \"Months\", \n",
        "                  ylabel = \"Rainfall in mm\");"
      ]
    },
    {
      "cell_type": "markdown",
      "id": "aee320ec",
      "metadata": {
        "id": "aee320ec"
      },
      "source": [
        "From the above plot we can see that most of the months do not have rainfall. Though August has the most rainfall, it is worth noting that the forest gets significantly affected during this month from the above month vs area plot."
      ]
    },
    {
      "cell_type": "code",
      "execution_count": 14,
      "id": "13db2673",
      "metadata": {
        "colab": {
          "base_uri": "https://localhost:8080/",
          "height": 550
        },
        "id": "13db2673",
        "outputId": "2b10274d-b56d-467b-9ad0-6698c973ce72"
      },
      "outputs": [
        {
          "output_type": "display_data",
          "data": {
            "text/plain": [
              "<Figure size 1440x720 with 1 Axes>"
            ],
            "image/png": "[encoded data removed]"
          },
          "metadata": {}
        }
      ],
      "source": [
        "# Month vs Wind\n",
        "plt.rcParams['figure.figsize'] = [20, 10]\n",
        "sns.set(style = \"whitegrid\", font_scale = 1.0)\n",
        "month_vs_wind = sns.barplot(x = 'month', y = 'wind', data = df,\n",
        "                         order = ['jan', 'feb', 'mar', 'apr', 'may', 'jun', \n",
        "                                  'jul', 'aug', 'sep', 'oct', 'nov', 'dec'], \n",
        "                            palette = 'husl');\n",
        "month_vs_wind.set(title = \"Month Vs Wind plot\", xlabel = \"Months\", \n",
        "                  ylabel = \"wind in km/hr\");"
      ]
    },
    {
      "cell_type": "markdown",
      "id": "e441db2e",
      "metadata": {
        "id": "e441db2e"
      },
      "source": [
        "From the above plot we can see that the forest experiences winds between 3-5 km/hr for most of the months. Though the months May and Nov have approximately same wind speeds, the forest loses a signinficant amount of its area during May compared to Nov. This tells us that there are other factors that greatly influence Forest fires.</br>\n",
        "The Forest seems to experience higher winds in December and area affected by forest fire is also significant."
      ]
    },
    {
      "cell_type": "code",
      "source": [
        "# Scatter Plots\n",
        "plt.figure(figsize=(20,15))\n",
        "\n",
        "plt.subplot(3,3,1)\n",
        "plt.scatter(x=df[\"temp\"],y=df[\"area\"])\n",
        "plt.xlabel(\" temp in celcius  \")\n",
        "plt.ylabel(\"Area in Hectare\")\n",
        "\n",
        "plt.subplot(3,3,2)\n",
        "plt.scatter(x=df[\"wind\"],y=df[\"area\"])\n",
        "plt.xlabel(\" wind speed  \")\n",
        "plt.ylabel(\"Area in Hectare\")\n",
        "\n",
        "plt.subplot(3,3,3)\n",
        "plt.scatter(x=df[\"RH\"],y=df[\"area\"])\n",
        "plt.xlabel(\" Relative humidity  \")\n",
        "plt.ylabel(\"Area in Hectare\")\n",
        "\n",
        "plt.subplot(3,3,4)\n",
        "plt.scatter(x=df[\"rain\"],y=df[\"area\"])\n",
        "plt.xlabel(\" rain  value in mm  \")\n",
        "plt.ylabel(\"Area in Hectare\")\n",
        "\n",
        "plt.subplot(3,3,5)\n",
        "plt.scatter(x=df[\"FFMC\"],y=df[\"area\"])\n",
        "plt.xlabel(\"FFMC\")\n",
        "plt.ylabel(\"Area in Hectare\")\n",
        "\n",
        "plt.subplot(3,3,6)\n",
        "plt.scatter(x=df[\"DMC\"],y=df[\"area\"])\n",
        "plt.xlabel(\"DMC\")\n",
        "plt.ylabel(\"Area in Hectare\")\n",
        "\n",
        "plt.subplot(3,3,7)\n",
        "plt.scatter(x=df[\"DC\"],y=df[\"area\"])\n",
        "plt.xlabel(\"DC\")\n",
        "plt.ylabel(\"Area in Hectare\")\n",
        "\n",
        "plt.subplot(3,3,8)\n",
        "plt.scatter(x=df[\"ISI\"],y=df[\"area\"])\n",
        "plt.xlabel(\"DC\")\n",
        "plt.ylabel(\"Area in Hectare\")"
      ],
      "metadata": {
        "colab": {
          "base_uri": "https://localhost:8080/",
          "height": 775
        },
        "id": "KtXNPTMfg1eW",
        "outputId": "04c83024-6244-44da-cd17-29ebcca275bd"
      },
      "id": "KtXNPTMfg1eW",
      "execution_count": 15,
      "outputs": [
        {
          "output_type": "execute_result",
          "data": {
            "text/plain": [
              "Text(0, 0.5, 'Area in Hectare')"
            ]
          },
          "metadata": {},
          "execution_count": 15
        },
        {
          "output_type": "display_data",
          "data": {
            "text/plain": [
              "<Figure size 1440x1080 with 8 Axes>"
            ],
            "image/png": "[encoded data removed]"
          },
          "metadata": {}
        }
      ]
    },
    {
      "cell_type": "markdown",
      "source": [
        "From the above scatter plot visualization, it can be seen none of features seem to vary linearly with the predictor variable. "
      ],
      "metadata": {
        "id": "0qRIuIwlijxc"
      },
      "id": "0qRIuIwlijxc"
    },
    {
      "cell_type": "markdown",
      "source": [
        "## 3. Data Preprocessing"
      ],
      "metadata": {
        "id": "2s3FBcCgmEOE"
      },
      "id": "2s3FBcCgmEOE"
    },
    {
      "cell_type": "code",
      "source": [
        "# Checking for skewness in the predictor variable\n",
        "df.skew(axis = 0)"
      ],
      "metadata": {
        "colab": {
          "base_uri": "https://localhost:8080/"
        },
        "id": "dMZHEhjDiF6Z",
        "outputId": "ff62b6c2-36e5-47e1-8896-f8d474196cd9"
      },
      "id": "dMZHEhjDiF6Z",
      "execution_count": 16,
      "outputs": [
        {
          "output_type": "stream",
          "name": "stderr",
          "text": [
            "<ipython-input-16-573d5307443c>:2: FutureWarning: Dropping of nuisance columns in DataFrame reductions (with 'numeric_only=None') is deprecated; in a future version this will raise TypeError.  Select only valid columns before calling the reduction.\n",
            "  df.skew(axis = 0)\n"
          ]
        },
        {
          "output_type": "execute_result",
          "data": {
            "text/plain": [
              "X        0.036246\n",
              "Y        0.417296\n",
              "FFMC    -6.575606\n",
              "DMC      0.547498\n",
              "DC      -1.100445\n",
              "ISI      2.536325\n",
              "temp    -0.331172\n",
              "RH       0.862904\n",
              "wind     0.571001\n",
              "rain    19.816344\n",
              "area    12.846934\n",
              "dtype: float64"
            ]
          },
          "metadata": {},
          "execution_count": 16
        }
      ]
    },
    {
      "cell_type": "code",
      "source": [
        "# Correcting the skewness in the response variable\n",
        "df_unclean = df.copy()\n",
        "df['area'] = np.log(df['area'] + 1)\n",
        "print(\"Previous skew of area:\", df_unclean['area'].skew())\n",
        "print(\"Current skew of area:\", df['area'].skew())"
      ],
      "metadata": {
        "colab": {
          "base_uri": "https://localhost:8080/"
        },
        "id": "azSX8ArGmWEC",
        "outputId": "79a12812-b910-4ca1-a790-39bb215161c2"
      },
      "id": "azSX8ArGmWEC",
      "execution_count": 17,
      "outputs": [
        {
          "output_type": "stream",
          "name": "stdout",
          "text": [
            "Previous skew of area: 12.846933533934868\n",
            "Current skew of area: 1.2178376559535011\n"
          ]
        }
      ]
    },
    {
      "cell_type": "code",
      "source": [
        "# Plotting skewness of the response variable before and after preprocessing\n",
        "\n",
        "plt.rcParams['figure.figsize'] = [18, 8]\n",
        "fig, ax = plt.subplots(1, 2)\n",
        "\n",
        "plot1 = sns.distplot(df_unclean['area'], ax = ax[0])\n",
        "plot1.set(title = 'Before applying log')\n",
        "plot2 = sns.distplot(df['area'], ax = ax[1])\n",
        "plot2.set(title = 'After applying log')"
      ],
      "metadata": {
        "colab": {
          "base_uri": "https://localhost:8080/",
          "height": 596
        },
        "id": "Cl6dbvJrmqVd",
        "outputId": "0a8d4b52-c258-499a-9204-b29c46175e35"
      },
      "id": "Cl6dbvJrmqVd",
      "execution_count": 18,
      "outputs": [
        {
          "output_type": "stream",
          "name": "stderr",
          "text": [
            "/usr/local/lib/python3.8/dist-packages/seaborn/distributions.py:2619: FutureWarning: `distplot` is a deprecated function and will be removed in a future version. Please adapt your code to use either `displot` (a figure-level function with similar flexibility) or `histplot` (an axes-level function for histograms).\n",
            "  warnings.warn(msg, FutureWarning)\n",
            "/usr/local/lib/python3.8/dist-packages/seaborn/distributions.py:2619: FutureWarning: `distplot` is a deprecated function and will be removed in a future version. Please adapt your code to use either `displot` (a figure-level function with similar flexibility) or `histplot` (an axes-level function for histograms).\n",
            "  warnings.warn(msg, FutureWarning)\n"
          ]
        },
        {
          "output_type": "execute_result",
          "data": {
            "text/plain": [
              "[Text(0.5, 1.0, 'After applying log')]"
            ]
          },
          "metadata": {},
          "execution_count": 18
        },
        {
          "output_type": "display_data",
          "data": {
            "text/plain": [
              "<Figure size 1296x576 with 2 Axes>"
            ],
            "image/png": "[encoded data removed]"
          },
          "metadata": {}
        }
      ]
    },
    {
      "cell_type": "code",
      "source": [
        "# Normalizing the FWI and other climatic factors\n",
        "normalizer = MinMaxScaler()\n",
        "FFMC_transform = np.array(df['FFMC']).reshape(-1, 1)\n",
        "DMC_transform = np.array(df['DMC']).reshape(-1, 1)\n",
        "DC_transform = np.array(df['DC']).reshape(-1, 1)\n",
        "ISI_transform = np.array(df['ISI']).reshape(-1, 1)\n",
        "temp_transform = np.array(df['temp']).reshape(-1, 1)\n",
        "RH_transform = np.array(df['RH']).reshape(-1, 1)\n",
        "wind_transform = np.array(df['wind']).reshape(-1, 1)\n",
        "rain_transform = np.array(df['rain']).reshape(-1, 1)\n",
        "\n",
        "df['FFMC'] = normalizer.fit_transform(FFMC_transform)\n",
        "df['DMC'] = normalizer.fit_transform(DMC_transform)\n",
        "df['DC'] = normalizer.fit_transform(DC_transform)\n",
        "df['ISI'] = normalizer.fit_transform(ISI_transform)\n",
        "df['temp'] = normalizer.fit_transform(temp_transform)\n",
        "df['RH'] = normalizer.fit_transform(RH_transform)\n",
        "df['wind'] = normalizer.fit_transform(wind_transform)\n",
        "df['rain'] = normalizer.fit_transform(rain_transform)"
      ],
      "metadata": {
        "id": "UeqqQ0Gqm1FE"
      },
      "id": "UeqqQ0Gqm1FE",
      "execution_count": 19,
      "outputs": []
    },
    {
      "cell_type": "code",
      "source": [
        "# Converting categorical values to numerical values\n",
        "\n",
        "df['month'] = df['month'].replace(['jan', 'feb', 'mar', 'apr', 'may', 'jun', \n",
        "                                   'jul', 'aug', 'sep', 'oct', 'nov', 'dec'], \n",
        "                                  [1, 2, 3, 4, 5, 6, 7, 8, 9, 10, 11, 12])\n",
        "df['day'] = df['day'].replace(['sun', 'mon', 'tue', 'wed', 'thu', 'fri', 'sat'],\n",
        "                              [1, 2, 3, 4, 5, 6, 7])\n",
        "print(\"The dataset after cleaning:\") \n",
        "df.head()"
      ],
      "metadata": {
        "colab": {
          "base_uri": "https://localhost:8080/",
          "height": 221
        },
        "id": "TTHq3sXinBeb",
        "outputId": "33699439-6c8a-4ae6-a8f5-bd7899b16da5"
      },
      "id": "TTHq3sXinBeb",
      "execution_count": 20,
      "outputs": [
        {
          "output_type": "stream",
          "name": "stdout",
          "text": [
            "The dataset after cleaning:\n"
          ]
        },
        {
          "output_type": "execute_result",
          "data": {
            "text/plain": [
              "   X  Y  month  day      FFMC       DMC        DC       ISI      temp  \\\n",
              "0  7  5      3    6  0.870968  0.086492  0.101325  0.090909  0.192926   \n",
              "1  7  4     10    3  0.927742  0.118194  0.775419  0.119430  0.508039   \n",
              "2  7  4     10    7  0.927742  0.146795  0.796294  0.119430  0.398714   \n",
              "3  8  6      3    6  0.941935  0.110958  0.081623  0.160428  0.196141   \n",
              "4  8  6      3    1  0.910968  0.172984  0.110590  0.171123  0.295820   \n",
              "\n",
              "         RH      wind     rain  area  \n",
              "0  0.423529  0.700000  0.00000   0.0  \n",
              "1  0.211765  0.055556  0.00000   0.0  \n",
              "2  0.211765  0.100000  0.00000   0.0  \n",
              "3  0.964706  0.400000  0.03125   0.0  \n",
              "4  0.988235  0.155556  0.00000   0.0  "
            ],
            "text/html": [
              "\n",
              "  <div id=\"df-cc5c20df-7592-4662-8cf0-f13f260a4e19\">\n",
              "    <div class=\"colab-df-container\">\n",
              "      <div>\n",
              "<style scoped>\n",
              "    .dataframe tbody tr th:only-of-type {\n",
              "        vertical-align: middle;\n",
              "    }\n",
              "\n",
              "    .dataframe tbody tr th {\n",
              "        vertical-align: top;\n",
              "    }\n",
              "\n",
              "    .dataframe thead th {\n",
              "        text-align: right;\n",
              "    }\n",
              "</style>\n",
              "<table border=\"1\" class=\"dataframe\">\n",
              "  <thead>\n",
              "    <tr style=\"text-align: right;\">\n",
              "      <th></th>\n",
              "      <th>X</th>\n",
              "      <th>Y</th>\n",
              "      <th>month</th>\n",
              "      <th>day</th>\n",
              "      <th>FFMC</th>\n",
              "      <th>DMC</th>\n",
              "      <th>DC</th>\n",
              "      <th>ISI</th>\n",
              "      <th>temp</th>\n",
              "      <th>RH</th>\n",
              "      <th>wind</th>\n",
              "      <th>rain</th>\n",
              "      <th>area</th>\n",
              "    </tr>\n",
              "  </thead>\n",
              "  <tbody>\n",
              "    <tr>\n",
              "      <th>0</th>\n",
              "      <td>7</td>\n",
              "      <td>5</td>\n",
              "      <td>3</td>\n",
              "      <td>6</td>\n",
              "      <td>0.870968</td>\n",
              "      <td>0.086492</td>\n",
              "      <td>0.101325</td>\n",
              "      <td>0.090909</td>\n",
              "      <td>0.192926</td>\n",
              "      <td>0.423529</td>\n",
              "      <td>0.700000</td>\n",
              "      <td>0.00000</td>\n",
              "      <td>0.0</td>\n",
              "    </tr>\n",
              "    <tr>\n",
              "      <th>1</th>\n",
              "      <td>7</td>\n",
              "      <td>4</td>\n",
              "      <td>10</td>\n",
              "      <td>3</td>\n",
              "      <td>0.927742</td>\n",
              "      <td>0.118194</td>\n",
              "      <td>0.775419</td>\n",
              "      <td>0.119430</td>\n",
              "      <td>0.508039</td>\n",
              "      <td>0.211765</td>\n",
              "      <td>0.055556</td>\n",
              "      <td>0.00000</td>\n",
              "      <td>0.0</td>\n",
              "    </tr>\n",
              "    <tr>\n",
              "      <th>2</th>\n",
              "      <td>7</td>\n",
              "      <td>4</td>\n",
              "      <td>10</td>\n",
              "      <td>7</td>\n",
              "      <td>0.927742</td>\n",
              "      <td>0.146795</td>\n",
              "      <td>0.796294</td>\n",
              "      <td>0.119430</td>\n",
              "      <td>0.398714</td>\n",
              "      <td>0.211765</td>\n",
              "      <td>0.100000</td>\n",
              "      <td>0.00000</td>\n",
              "      <td>0.0</td>\n",
              "    </tr>\n",
              "    <tr>\n",
              "      <th>3</th>\n",
              "      <td>8</td>\n",
              "      <td>6</td>\n",
              "      <td>3</td>\n",
              "      <td>6</td>\n",
              "      <td>0.941935</td>\n",
              "      <td>0.110958</td>\n",
              "      <td>0.081623</td>\n",
              "      <td>0.160428</td>\n",
              "      <td>0.196141</td>\n",
              "      <td>0.964706</td>\n",
              "      <td>0.400000</td>\n",
              "      <td>0.03125</td>\n",
              "      <td>0.0</td>\n",
              "    </tr>\n",
              "    <tr>\n",
              "      <th>4</th>\n",
              "      <td>8</td>\n",
              "      <td>6</td>\n",
              "      <td>3</td>\n",
              "      <td>1</td>\n",
              "      <td>0.910968</td>\n",
              "      <td>0.172984</td>\n",
              "      <td>0.110590</td>\n",
              "      <td>0.171123</td>\n",
              "      <td>0.295820</td>\n",
              "      <td>0.988235</td>\n",
              "      <td>0.155556</td>\n",
              "      <td>0.00000</td>\n",
              "      <td>0.0</td>\n",
              "    </tr>\n",
              "  </tbody>\n",
              "</table>\n",
              "</div>\n",
              "      <button class=\"colab-df-convert\" onclick=\"convertToInteractive('df-cc5c20df-7592-4662-8cf0-f13f260a4e19')\"\n",
              "              title=\"Convert this dataframe to an interactive table.\"\n",
              "              style=\"display:none;\">\n",
              "        \n",
              "  <svg xmlns=\"http://www.w3.org/2000/svg\" height=\"24px\"viewBox=\"0 0 24 24\"\n",
              "       width=\"24px\">\n",
              "    <path d=\"M0 0h24v24H0V0z\" fill=\"none\"/>\n",
              "    <path d=\"M18.56 5.44l.94 2.06.94-2.06 2.06-.94-2.06-.94-.94-2.06-.94 2.06-2.06.94zm-11 1L8.5 8.5l.94-2.06 2.06-.94-2.06-.94L8.5 2.5l-.94 2.06-2.06.94zm10 10l.94 2.06.94-2.06 2.06-.94-2.06-.94-.94-2.06-.94 2.06-2.06.94z\"/><path d=\"M17.41 7.96l-1.37-1.37c-.4-.4-.92-.59-1.43-.59-.52 0-1.04.2-1.43.59L10.3 9.45l-7.72 7.72c-.78.78-.78 2.05 0 2.83L4 21.41c.39.39.9.59 1.41.59.51 0 1.02-.2 1.41-.59l7.78-7.78 2.81-2.81c.8-.78.8-2.07 0-2.86zM5.41 20L4 18.59l7.72-7.72 1.47 1.35L5.41 20z\"/>\n",
              "  </svg>\n",
              "      </button>\n",
              "      \n",
              "  <style>\n",
              "    .colab-df-container {\n",
              "      display:flex;\n",
              "      flex-wrap:wrap;\n",
              "      gap: 12px;\n",
              "    }\n",
              "\n",
              "    .colab-df-convert {\n",
              "      background-color: #E8F0FE;\n",
              "      border: none;\n",
              "      border-radius: 50%;\n",
              "      cursor: pointer;\n",
              "      display: none;\n",
              "      fill: #1967D2;\n",
              "      height: 32px;\n",
              "      padding: 0 0 0 0;\n",
              "      width: 32px;\n",
              "    }\n",
              "\n",
              "    .colab-df-convert:hover {\n",
              "      background-color: #E2EBFA;\n",
              "      box-shadow: 0px 1px 2px rgba(60, 64, 67, 0.3), 0px 1px 3px 1px rgba(60, 64, 67, 0.15);\n",
              "      fill: #174EA6;\n",
              "    }\n",
              "\n",
              "    [theme=dark] .colab-df-convert {\n",
              "      background-color: #3B4455;\n",
              "      fill: #D2E3FC;\n",
              "    }\n",
              "\n",
              "    [theme=dark] .colab-df-convert:hover {\n",
              "      background-color: #434B5C;\n",
              "      box-shadow: 0px 1px 3px 1px rgba(0, 0, 0, 0.15);\n",
              "      filter: drop-shadow(0px 1px 2px rgba(0, 0, 0, 0.3));\n",
              "      fill: #FFFFFF;\n",
              "    }\n",
              "  </style>\n",
              "\n",
              "      <script>\n",
              "        const buttonEl =\n",
              "          document.querySelector('#df-cc5c20df-7592-4662-8cf0-f13f260a4e19 button.colab-df-convert');\n",
              "        buttonEl.style.display =\n",
              "          google.colab.kernel.accessAllowed ? 'block' : 'none';\n",
              "\n",
              "        async function convertToInteractive(key) {\n",
              "          const element = document.querySelector('#df-cc5c20df-7592-4662-8cf0-f13f260a4e19');\n",
              "          const dataTable =\n",
              "            await google.colab.kernel.invokeFunction('convertToInteractive',\n",
              "                                                     [key], {});\n",
              "          if (!dataTable) return;\n",
              "\n",
              "          const docLinkHtml = 'Like what you see? Visit the ' +\n",
              "            '<a target=\"_blank\" href=https://colab.research.google.com/notebooks/data_table.ipynb>data table notebook</a>'\n",
              "            + ' to learn more about interactive tables.';\n",
              "          element.innerHTML = '';\n",
              "          dataTable['output_type'] = 'display_data';\n",
              "          await google.colab.output.renderOutput(dataTable, element);\n",
              "          const docLink = document.createElement('div');\n",
              "          docLink.innerHTML = docLinkHtml;\n",
              "          element.appendChild(docLink);\n",
              "        }\n",
              "      </script>\n",
              "    </div>\n",
              "  </div>\n",
              "  "
            ]
          },
          "metadata": {},
          "execution_count": 20
        }
      ]
    },
    {
      "cell_type": "code",
      "source": [
        "# Splitting the dataset into train and test\n",
        "\n",
        "X = df.drop(columns = ['area'])\n",
        "y = df['area']\n",
        "X_train, X_test, y_train, y_test = train_test_split(X, y, test_size = 0.2, random_state = 42)"
      ],
      "metadata": {
        "id": "qzcCa3IBnVmw"
      },
      "id": "qzcCa3IBnVmw",
      "execution_count": 21,
      "outputs": []
    },
    {
      "cell_type": "code",
      "source": [
        "# Printing the shapes of the train and test datasets\n",
        "\n",
        "print(\"X_train:\", X_train.shape)\n",
        "print(\"y_train:\", y_train.shape)\n",
        "print(\"X_test:\", X_test.shape)\n",
        "print(\"y_test:\", y_test.shape)"
      ],
      "metadata": {
        "colab": {
          "base_uri": "https://localhost:8080/"
        },
        "id": "e8wjlZWvnaV9",
        "outputId": "493f6e18-f21a-410f-ab42-f536f5d87bb6"
      },
      "id": "e8wjlZWvnaV9",
      "execution_count": 22,
      "outputs": [
        {
          "output_type": "stream",
          "name": "stdout",
          "text": [
            "X_train: (413, 12)\n",
            "y_train: (413,)\n",
            "X_test: (104, 12)\n",
            "y_test: (104,)\n"
          ]
        }
      ]
    },
    {
      "cell_type": "markdown",
      "source": [
        "## 4. Baseline Model"
      ],
      "metadata": {
        "id": "e1Afoi3-nPJm"
      },
      "id": "e1Afoi3-nPJm"
    },
    {
      "cell_type": "code",
      "source": [
        "# Implementing linear regression model\n",
        "\n",
        "lr = LinearRegression()\n",
        "lr.fit(X_train, y_train)"
      ],
      "metadata": {
        "colab": {
          "base_uri": "https://localhost:8080/"
        },
        "id": "F9sMxN0BnLoS",
        "outputId": "023a5282-d570-4e98-974f-744375b2b811"
      },
      "id": "F9sMxN0BnLoS",
      "execution_count": 23,
      "outputs": [
        {
          "output_type": "execute_result",
          "data": {
            "text/plain": [
              "LinearRegression()"
            ]
          },
          "metadata": {},
          "execution_count": 23
        }
      ]
    },
    {
      "cell_type": "code",
      "source": [
        "train_preds = lr.predict(X_train)\n",
        "test_preds = lr.predict(X_test)\n",
        "train_rmse = math.sqrt(mean_squared_error(y_train, train_preds))\n",
        "train_r2 = r2_score(y_train, train_preds)\n",
        "test_rmse = math.sqrt(mean_squared_error(y_test, test_preds))\n",
        "test_r2 = r2_score(y_test, test_preds)\n",
        "print(\"The train rmse using linear regression:\", round(train_rmse, 3))\n",
        "print(\"The train r2 score using linear regression:\", round(train_r2, 3))\n",
        "print(\"The test rmse using linear regression:\", round(test_rmse, 3))\n",
        "print(\"The test r2 score using linear regression:\", round(test_r2, 3))"
      ],
      "metadata": {
        "colab": {
          "base_uri": "https://localhost:8080/"
        },
        "id": "J_JJ7h8-nsjs",
        "outputId": "fb4946f8-0df7-485d-fa0e-50b26ebbd004"
      },
      "id": "J_JJ7h8-nsjs",
      "execution_count": 24,
      "outputs": [
        {
          "output_type": "stream",
          "name": "stdout",
          "text": [
            "The train rmse using linear regression: 1.35\n",
            "The train r2 score using linear regression: 0.035\n",
            "The test rmse using linear regression: 1.467\n",
            "The test r2 score using linear regression: 0.021\n"
          ]
        }
      ]
    },
    {
      "cell_type": "code",
      "source": [
        "# Implementing Lasso Regression\n",
        "\n",
        "ridge = Ridge()\n",
        "ridge.fit(X_train, y_train)"
      ],
      "metadata": {
        "colab": {
          "base_uri": "https://localhost:8080/"
        },
        "id": "acaiQ7BXnsg6",
        "outputId": "b9ccb4b4-5489-4639-abd2-1407aef70970"
      },
      "id": "acaiQ7BXnsg6",
      "execution_count": 25,
      "outputs": [
        {
          "output_type": "execute_result",
          "data": {
            "text/plain": [
              "Ridge()"
            ]
          },
          "metadata": {},
          "execution_count": 25
        }
      ]
    },
    {
      "cell_type": "code",
      "source": [
        "train_preds = ridge.predict(X_train)\n",
        "test_preds = ridge.predict(X_test)\n",
        "train_rmse = math.sqrt(mean_squared_error(y_train, train_preds))\n",
        "train_r2 = r2_score(y_train, train_preds)\n",
        "test_rmse = math.sqrt(mean_squared_error(y_test, test_preds))\n",
        "test_r2 = r2_score(y_test, test_preds)\n",
        "print(\"The train rmse using lasso regression:\", round(train_rmse, 3))\n",
        "print(\"The train r2 score using lasso regression:\", round(train_r2, 3))\n",
        "print(\"The test rmse using lasso regression:\", round(test_rmse, 3))\n",
        "print(\"The test r2 score using lasso regression:\", round(test_r2, 3))"
      ],
      "metadata": {
        "colab": {
          "base_uri": "https://localhost:8080/"
        },
        "id": "29IZBI9Ynseg",
        "outputId": "d2676dc8-17c4-4adf-d98d-099ecca41070"
      },
      "id": "29IZBI9Ynseg",
      "execution_count": 26,
      "outputs": [
        {
          "output_type": "stream",
          "name": "stdout",
          "text": [
            "The train rmse using lasso regression: 1.351\n",
            "The train r2 score using lasso regression: 0.033\n",
            "The test rmse using lasso regression: 1.463\n",
            "The test r2 score using lasso regression: 0.026\n"
          ]
        }
      ]
    },
    {
      "cell_type": "markdown",
      "source": [
        "# Results\n",
        "\n",
        "After obtaining clarification of the problem at hand to some extent with data cleaning and EDA, we proceeded forward with creating 2 baseline models. The results of those models are:\n",
        "\n",
        "1. Linear regression - RMSE: 1.467, R2: 0.021\n",
        "2. Ridge regression - RMSE: 1.463, R2: 0.026\n",
        "\n",
        "The reasons behind the models performing like they do can be:\n",
        "\n",
        "1. Outliers and 0 area - The data has a couple of outliers which we will look more into and decide the kind of step we have to take to manipulate/remove them. Some values indicate that there is no forest fire(area of 0), which is acceptable, but we have to find a way to improve our method of scaling/normalization to match other outcomes.\n",
        "\n",
        "2. Simplistic models - The models chosen here are meant to be simplistic as they are baseline. We hope to achieve improved results with more complex models with which we have control over model parameters."
      ],
      "metadata": {
        "id": "WO8A7z44n1pm"
      },
      "id": "WO8A7z44n1pm"
    },
    {
      "cell_type": "markdown",
      "source": [
        "## 5. XGBoost"
      ],
      "metadata": {
        "id": "n75UqBYNhjek"
      },
      "id": "n75UqBYNhjek"
    },
    {
      "cell_type": "code",
      "source": [
        "# Base model without tuning parameters\n",
        "xg_reg = xgb.XGBRegressor()"
      ],
      "metadata": {
        "id": "TfxD5pGInsXD"
      },
      "id": "TfxD5pGInsXD",
      "execution_count": 46,
      "outputs": []
    },
    {
      "cell_type": "code",
      "source": [
        "xg_reg.fit(X_train, y_train)"
      ],
      "metadata": {
        "colab": {
          "base_uri": "https://localhost:8080/"
        },
        "id": "sRiNxHuMiqoP",
        "outputId": "d3ecbf02-b78c-4b9a-c186-d50b08c87411"
      },
      "id": "sRiNxHuMiqoP",
      "execution_count": 47,
      "outputs": [
        {
          "output_type": "stream",
          "name": "stdout",
          "text": [
            "[23:16:23] WARNING: /workspace/src/objective/regression_obj.cu:152: reg:linear is now deprecated in favor of reg:squarederror.\n"
          ]
        },
        {
          "output_type": "execute_result",
          "data": {
            "text/plain": [
              "XGBRegressor()"
            ]
          },
          "metadata": {},
          "execution_count": 47
        }
      ]
    },
    {
      "cell_type": "code",
      "source": [
        "# Train and test model performance\n",
        "train_preds = xg_reg.predict(X_train)\n",
        "test_preds = xg_reg.predict(X_test)\n",
        "train_rmse = math.sqrt(mean_squared_error(y_train, train_preds))\n",
        "train_r2 = r2_score(y_train, train_preds)\n",
        "test_rmse = math.sqrt(mean_squared_error(y_test, test_preds))\n",
        "test_r2 = r2_score(y_test, test_preds)\n",
        "print(\"The train rmse using XGBoost regression:\", round(train_rmse, 3))\n",
        "print(\"The train r2 score using XGBoost regression:\", round(train_r2, 3))\n",
        "print(\"The test rmse using XGBoost regression:\", round(test_rmse, 3))\n",
        "print(\"The test r2 score using XGBoost regression:\", round(test_r2, 3))"
      ],
      "metadata": {
        "colab": {
          "base_uri": "https://localhost:8080/"
        },
        "id": "KYTbZVHxi-gr",
        "outputId": "9e9c0e65-e609-4749-c4a8-645f71c68e33"
      },
      "id": "KYTbZVHxi-gr",
      "execution_count": 48,
      "outputs": [
        {
          "output_type": "stream",
          "name": "stdout",
          "text": [
            "The train rmse using XGBoost regression: 0.939\n",
            "The train r2 score using XGBoost regression: 0.534\n",
            "The test rmse using XGBoost regression: 1.561\n",
            "The test r2 score using XGBoost regression: -0.109\n"
          ]
        }
      ]
    },
    {
      "cell_type": "code",
      "source": [
        "# Grid Search CV to tune parameters\n",
        "xgb1 = xgb.XGBRegressor()\n",
        "parameters = {'nthread':[4], #when use hyperthread, xgboost may become slower\n",
        "              'learning_rate': [0.03, 0.05, .07], #so called `eta` value\n",
        "              'max_depth': [5, 6, 7, 8],\n",
        "              'min_child_weight': [1, 2, 3, 4],\n",
        "              'subsample': [0.5, 0.6, 0.7],\n",
        "              'colsample_bytree': [0.6, 0.7]}\n",
        "\n",
        "xgb_grid = GridSearchCV(xgb1,\n",
        "                        parameters,\n",
        "                        cv = 2,\n",
        "                        n_jobs = 5,\n",
        "                        verbose=True)\n",
        "\n",
        "xgb_grid.fit(X_train, y_train)\n",
        "\n",
        "print(xgb_grid.best_params_)"
      ],
      "metadata": {
        "colab": {
          "base_uri": "https://localhost:8080/"
        },
        "id": "EmTrLeoHjcMb",
        "outputId": "edc3db09-8a22-40e0-b04d-e75e55e1948d"
      },
      "id": "EmTrLeoHjcMb",
      "execution_count": 49,
      "outputs": [
        {
          "output_type": "stream",
          "name": "stdout",
          "text": [
            "Fitting 2 folds for each of 288 candidates, totalling 576 fits\n",
            "[23:18:56] WARNING: /workspace/src/objective/regression_obj.cu:152: reg:linear is now deprecated in favor of reg:squarederror.\n",
            "{'colsample_bytree': 0.7, 'learning_rate': 0.03, 'max_depth': 5, 'min_child_weight': 4, 'nthread': 4, 'subsample': 0.7}\n"
          ]
        }
      ]
    },
    {
      "cell_type": "code",
      "source": [
        "xg_reg = xgb.XGBRegressor(colsample_bytree = 0.7, \n",
        "                          learning_rate = 0.03, \n",
        "                          max_depth = 5, \n",
        "                          min_child_weight = 4, \n",
        "                          nthread = 4, \n",
        "                          subsample = 0.7)"
      ],
      "metadata": {
        "id": "XQ8j0RKllG-a"
      },
      "id": "XQ8j0RKllG-a",
      "execution_count": 50,
      "outputs": []
    },
    {
      "cell_type": "code",
      "source": [
        "xg_reg.fit(X_train, y_train)\n",
        "train_preds = xg_reg.predict(X_train)\n",
        "test_preds = xg_reg.predict(X_test)\n",
        "train_rmse = math.sqrt(mean_squared_error(y_train, train_preds))\n",
        "train_r2 = r2_score(y_train, train_preds)\n",
        "test_rmse = math.sqrt(mean_squared_error(y_test, test_preds))\n",
        "test_r2 = r2_score(y_test, test_preds)\n",
        "print(\"The train rmse using XGBoost regression:\", round(train_rmse, 3))\n",
        "print(\"The train r2 score using XGBoost regression:\", round(train_r2, 3))\n",
        "print(\"The test rmse using XGBoost regression:\", round(test_rmse, 3))\n",
        "print(\"The test r2 score using XGBoost regression:\", round(test_r2, 3))"
      ],
      "metadata": {
        "colab": {
          "base_uri": "https://localhost:8080/"
        },
        "id": "0ce9Dmy8muk7",
        "outputId": "153fc6ca-abeb-4cdd-f154-8385df997280"
      },
      "id": "0ce9Dmy8muk7",
      "execution_count": 53,
      "outputs": [
        {
          "output_type": "stream",
          "name": "stdout",
          "text": [
            "[23:19:23] WARNING: /workspace/src/objective/regression_obj.cu:152: reg:linear is now deprecated in favor of reg:squarederror.\n",
            "The train rmse using XGBoost regression: 0.98\n",
            "The train r2 score using XGBoost regression: 0.491\n",
            "The test rmse using XGBoost regression: 1.488\n",
            "The test r2 score using XGBoost regression: -0.007\n"
          ]
        }
      ]
    },
    {
      "cell_type": "markdown",
      "source": [
        "## 6. LightGBM\n"
      ],
      "metadata": {
        "id": "LXCKFrcfoN_K"
      },
      "id": "LXCKFrcfoN_K"
    },
    {
      "cell_type": "code",
      "source": [
        "# Base model without tuning parameters\n",
        "lgb = LGBMRegressor()\n",
        "lgb.fit(X_train, y_train)"
      ],
      "metadata": {
        "colab": {
          "base_uri": "https://localhost:8080/"
        },
        "id": "oo8sLMiym2Di",
        "outputId": "0b464d29-fcfc-4bdc-9026-7eae2843d01e"
      },
      "id": "oo8sLMiym2Di",
      "execution_count": 67,
      "outputs": [
        {
          "output_type": "execute_result",
          "data": {
            "text/plain": [
              "LGBMRegressor()"
            ]
          },
          "metadata": {},
          "execution_count": 67
        }
      ]
    },
    {
      "cell_type": "code",
      "source": [
        "# Train and test model performance\n",
        "train_preds = lgb.predict(X_train)\n",
        "test_preds = lgb.predict(X_test)\n",
        "train_rmse = math.sqrt(mean_squared_error(y_train, train_preds))\n",
        "train_r2 = r2_score(y_train, train_preds)\n",
        "test_rmse = math.sqrt(mean_squared_error(y_test, test_preds))\n",
        "test_r2 = r2_score(y_test, test_preds)\n",
        "print(\"The train rmse using LightGBM regression:\", round(train_rmse, 3))\n",
        "print(\"The train r2 score using LightGBM regression:\", round(train_r2, 3))\n",
        "print(\"The test rmse using LightGBM regression:\", round(test_rmse, 3))\n",
        "print(\"The test r2 score using LightGBM regression:\", round(test_r2, 3))"
      ],
      "metadata": {
        "colab": {
          "base_uri": "https://localhost:8080/"
        },
        "id": "n_6y0hu3oTzm",
        "outputId": "e0080db3-da27-447a-b12a-bfb4658820d1"
      },
      "id": "n_6y0hu3oTzm",
      "execution_count": 66,
      "outputs": [
        {
          "output_type": "stream",
          "name": "stdout",
          "text": [
            "The train rmse using LightGBM regression: 0.666\n",
            "The train r2 score using LightGBM regression: 0.765\n",
            "The test rmse using LightGBM regression: 1.543\n",
            "The test r2 score using LightGBM regression: -0.083\n"
          ]
        }
      ]
    },
    {
      "cell_type": "code",
      "source": [
        "lgb = LGBMRegressor()\n",
        "parameters = {\n",
        "    'task' : ['predict'],\n",
        "    'boosting': ['gbdt' ],\n",
        "    'objective': ['root_mean_squared_error'],\n",
        "    'num_iterations': [  10, 50, 100],\n",
        "    'learning_rate':[  0.05, 0.005 ],\n",
        "   'num_leaves':[ 7, 15, 31  ],\n",
        "   'max_depth' :[ 10,15,25],\n",
        "   'min_data_in_leaf':[1, 4, 8, 10, 16, 20 ],\n",
        "  'feature_fraction': [ 0.6, 0.8,  0.9],\n",
        "    'bagging_fraction': [  0.6, 0.8 ],\n",
        "    'bagging_freq': [   100, 200, 400  ],    \n",
        "}\n",
        "lgb_grid = GridSearchCV(lgb,\n",
        "                        parameters,\n",
        "                        cv = 2,\n",
        "                        n_jobs = 5,\n",
        "                        verbose=True)\n",
        "\n",
        "lgb_grid.fit(X_train, y_train)\n",
        "\n",
        "print(lgb_grid.best_params_)\n"
      ],
      "metadata": {
        "colab": {
          "base_uri": "https://localhost:8080/"
        },
        "id": "cGZsA1gSobaD",
        "outputId": "d5cc57f0-968b-41bd-e232-6dc1df2c4104"
      },
      "id": "cGZsA1gSobaD",
      "execution_count": 71,
      "outputs": [
        {
          "output_type": "stream",
          "name": "stdout",
          "text": [
            "Fitting 2 folds for each of 5832 candidates, totalling 11664 fits\n",
            "{'bagging_fraction': 0.6, 'bagging_freq': 100, 'boosting': 'gbdt', 'feature_fraction': 0.9, 'learning_rate': 0.005, 'max_depth': 10, 'min_data_in_leaf': 4, 'num_iterations': 50, 'num_leaves': 7, 'objective': 'root_mean_squared_error', 'task': 'predict'}\n"
          ]
        },
        {
          "output_type": "stream",
          "name": "stderr",
          "text": [
            "/usr/local/lib/python3.8/dist-packages/lightgbm/engine.py:118: UserWarning: Found `num_iterations` in params. Will use it instead of argument\n",
            "  warnings.warn(\"Found `{}` in params. Will use it instead of argument\".format(alias))\n"
          ]
        }
      ]
    },
    {
      "cell_type": "code",
      "source": [
        "# Parameter tuning for LightGBM using grid search\n",
        "lgb = LGBMRegressor(bagging_fraction = 0.6, \n",
        "                    bagging_freq = 100, \n",
        "                    boosting = 'gbdt', \n",
        "                    feature_fraction = 0.9, \n",
        "                    learning_rate = 0.005, \n",
        "                    max_depth = 10, \n",
        "                    min_data_in_leaf =  4, \n",
        "                    num_iterations = 50, \n",
        "                    num_leaves = 7, \n",
        "                    objective= 'root_mean_squared_error', \n",
        "                    task= 'predict')\n",
        "lgb.fit(X_train, y_train)"
      ],
      "metadata": {
        "colab": {
          "base_uri": "https://localhost:8080/"
        },
        "id": "RsgXM5SVrIvm",
        "outputId": "6a61bb42-c306-4cd6-a52f-ac697eaf98f4"
      },
      "id": "RsgXM5SVrIvm",
      "execution_count": 75,
      "outputs": [
        {
          "output_type": "execute_result",
          "data": {
            "text/plain": [
              "LGBMRegressor(bagging_fraction=0.6, bagging_freq=100, boosting='gbdt',\n",
              "              feature_fraction=0.9, learning_rate=0.005, max_depth=10,\n",
              "              min_data_in_leaf=4, num_iterations=50, num_leaves=7,\n",
              "              objective='root_mean_squared_error', task='predict')"
            ]
          },
          "metadata": {},
          "execution_count": 75
        }
      ]
    },
    {
      "cell_type": "code",
      "source": [
        "# Train and test model performance\n",
        "train_preds = lgb.predict(X_train)\n",
        "test_preds = lgb.predict(X_test)\n",
        "train_rmse = math.sqrt(mean_squared_error(y_train, train_preds))\n",
        "train_r2 = r2_score(y_train, train_preds)\n",
        "test_rmse = math.sqrt(mean_squared_error(y_test, test_preds))\n",
        "test_r2 = r2_score(y_test, test_preds)\n",
        "print(\"The train rmse using LightGBM regression:\", round(train_rmse, 3))\n",
        "print(\"The train r2 score using LightGBM regression:\", round(train_r2, 3))\n",
        "print(\"The test rmse using LightGBM regression:\", round(test_rmse, 3))\n",
        "print(\"The test r2 score using LightGBM regression:\", round(test_r2, 3))"
      ],
      "metadata": {
        "colab": {
          "base_uri": "https://localhost:8080/"
        },
        "id": "CLY9oE4Qsj_I",
        "outputId": "e3e38e93-cc82-42fd-fc76-9358df7e0b84"
      },
      "id": "CLY9oE4Qsj_I",
      "execution_count": 76,
      "outputs": [
        {
          "output_type": "stream",
          "name": "stdout",
          "text": [
            "The train rmse using LightGBM regression: 1.345\n",
            "The train r2 score using LightGBM regression: 0.043\n",
            "The test rmse using LightGBM regression: 1.488\n",
            "The test r2 score using LightGBM regression: -0.008\n"
          ]
        }
      ]
    }
  ],
  "metadata": {
    "kernelspec": {
      "display_name": "Python 3 (ipykernel)",
      "language": "python",
      "name": "python3"
    },
    "language_info": {
      "codemirror_mode": {
        "name": "ipython",
        "version": 3
      },
      "file_extension": ".py",
      "mimetype": "text/x-python",
      "name": "python",
      "nbconvert_exporter": "python",
      "pygments_lexer": "ipython3",
      "version": "3.9.7"
    },
    "colab": {
      "provenance": []
    }
  },
  "nbformat": 4,
  "nbformat_minor": 5
}